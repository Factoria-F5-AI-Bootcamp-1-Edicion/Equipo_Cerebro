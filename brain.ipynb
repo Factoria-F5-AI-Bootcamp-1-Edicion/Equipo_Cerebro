{
 "cells": [
  {
   "cell_type": "markdown",
   "id": "4fb64ac2",
   "metadata": {},
   "source": [
    "## brain"
   ]
  },
  {
   "cell_type": "code",
   "execution_count": 1,
   "id": "7948f863",
   "metadata": {},
   "outputs": [],
   "source": [
    "import numpy as np \n",
    "import pandas as pd\n",
    "import matplotlib.pyplot as plt\n",
    "import seaborn as sns"
   ]
  },
  {
   "cell_type": "code",
   "execution_count": 73,
   "id": "bc4d0ddb",
   "metadata": {},
   "outputs": [],
   "source": [
    "#导入机器学习包\n",
    "import sklearn\n",
    "from sklearn import preprocessing #数据预处理\n",
    "from sklearn.preprocessing import LabelEncoder #编码转换\n",
    "from sklearn.preprocessing import StandardScaler #归一化处理\n",
    "from sklearn.model_selection import StratifiedShuffleSplit #分层抽样功能\n",
    "from sklearn.model_selection import GridSearchCV #网格搜索\n",
    "from sklearn.ensemble import RandomForestClassifier #随机森林\n",
    "from sklearn.ensemble import AdaBoostClassifier\n",
    "from sklearn.ensemble import GradientBoostingClassifier #梯度提升\n",
    "from sklearn.ensemble import  VotingClassifier #集成学习\n",
    "from sklearn.svm import SVC,LinearSVC #支持向量机\n",
    "from sklearn.linear_model import LogisticRegression #逻辑回归\n",
    "from sklearn.neighbors import KNeighborsClassifier #KNN算法\n",
    "from sklearn.naive_bayes import GaussianNB #朴素贝叶斯\n",
    "from sklearn.tree import DecisionTreeClassifier #决策树分类器\n",
    "from sklearn.decomposition import PCA #主成分分析法\n",
    "from sklearn.cluster import KMeans#聚类算法\n",
    "from xgboost import XGBClassifier\n",
    "from catboost import CatBoostClassifier\n",
    "\n",
    "from sklearn.metrics import classification_report,precision_score,recall_score,f1_score\n",
    "from sklearn.metrics import confusion_matrix#混淆矩阵\n",
    "from sklearn.metrics import silhouette_score#轮廓系数\n",
    "from sklearn.metrics import make_scorer #从性能指标或损失函数中创建一个记分标准\n",
    "from sklearn.metrics import accuracy_score\n",
    "\n",
    "from imblearn.over_sampling import SMOTE #随机采样处理不平衡数据问题\n",
    "# from imblearn.under_sampling import RandomUnderSampler #随机采样处理数据不平衡问题"
   ]
  },
  {
   "cell_type": "markdown",
   "id": "eb97eae3",
   "metadata": {},
   "source": [
    "### Read Dataset"
   ]
  },
  {
   "cell_type": "code",
   "execution_count": 3,
   "id": "e20bb4ac",
   "metadata": {},
   "outputs": [],
   "source": [
    "df = pd.read_csv(\"stroke_dataset.csv\")"
   ]
  },
  {
   "cell_type": "code",
   "execution_count": 4,
   "id": "e97368b6",
   "metadata": {},
   "outputs": [
    {
     "data": {
      "text/html": [
       "<div>\n",
       "<style scoped>\n",
       "    .dataframe tbody tr th:only-of-type {\n",
       "        vertical-align: middle;\n",
       "    }\n",
       "\n",
       "    .dataframe tbody tr th {\n",
       "        vertical-align: top;\n",
       "    }\n",
       "\n",
       "    .dataframe thead th {\n",
       "        text-align: right;\n",
       "    }\n",
       "</style>\n",
       "<table border=\"1\" class=\"dataframe\">\n",
       "  <thead>\n",
       "    <tr style=\"text-align: right;\">\n",
       "      <th></th>\n",
       "      <th>gender</th>\n",
       "      <th>age</th>\n",
       "      <th>hypertension</th>\n",
       "      <th>heart_disease</th>\n",
       "      <th>ever_married</th>\n",
       "      <th>work_type</th>\n",
       "      <th>Residence_type</th>\n",
       "      <th>avg_glucose_level</th>\n",
       "      <th>bmi</th>\n",
       "      <th>smoking_status</th>\n",
       "      <th>stroke</th>\n",
       "    </tr>\n",
       "  </thead>\n",
       "  <tbody>\n",
       "    <tr>\n",
       "      <th>0</th>\n",
       "      <td>Male</td>\n",
       "      <td>67.0</td>\n",
       "      <td>0</td>\n",
       "      <td>1</td>\n",
       "      <td>Yes</td>\n",
       "      <td>Private</td>\n",
       "      <td>Urban</td>\n",
       "      <td>228.69</td>\n",
       "      <td>36.6</td>\n",
       "      <td>formerly smoked</td>\n",
       "      <td>1</td>\n",
       "    </tr>\n",
       "    <tr>\n",
       "      <th>1</th>\n",
       "      <td>Male</td>\n",
       "      <td>80.0</td>\n",
       "      <td>0</td>\n",
       "      <td>1</td>\n",
       "      <td>Yes</td>\n",
       "      <td>Private</td>\n",
       "      <td>Rural</td>\n",
       "      <td>105.92</td>\n",
       "      <td>32.5</td>\n",
       "      <td>never smoked</td>\n",
       "      <td>1</td>\n",
       "    </tr>\n",
       "    <tr>\n",
       "      <th>2</th>\n",
       "      <td>Female</td>\n",
       "      <td>49.0</td>\n",
       "      <td>0</td>\n",
       "      <td>0</td>\n",
       "      <td>Yes</td>\n",
       "      <td>Private</td>\n",
       "      <td>Urban</td>\n",
       "      <td>171.23</td>\n",
       "      <td>34.4</td>\n",
       "      <td>smokes</td>\n",
       "      <td>1</td>\n",
       "    </tr>\n",
       "    <tr>\n",
       "      <th>3</th>\n",
       "      <td>Female</td>\n",
       "      <td>79.0</td>\n",
       "      <td>1</td>\n",
       "      <td>0</td>\n",
       "      <td>Yes</td>\n",
       "      <td>Self-employed</td>\n",
       "      <td>Rural</td>\n",
       "      <td>174.12</td>\n",
       "      <td>24.0</td>\n",
       "      <td>never smoked</td>\n",
       "      <td>1</td>\n",
       "    </tr>\n",
       "    <tr>\n",
       "      <th>4</th>\n",
       "      <td>Male</td>\n",
       "      <td>81.0</td>\n",
       "      <td>0</td>\n",
       "      <td>0</td>\n",
       "      <td>Yes</td>\n",
       "      <td>Private</td>\n",
       "      <td>Urban</td>\n",
       "      <td>186.21</td>\n",
       "      <td>29.0</td>\n",
       "      <td>formerly smoked</td>\n",
       "      <td>1</td>\n",
       "    </tr>\n",
       "  </tbody>\n",
       "</table>\n",
       "</div>"
      ],
      "text/plain": [
       "   gender   age  hypertension  heart_disease ever_married      work_type  \\\n",
       "0    Male  67.0             0              1          Yes        Private   \n",
       "1    Male  80.0             0              1          Yes        Private   \n",
       "2  Female  49.0             0              0          Yes        Private   \n",
       "3  Female  79.0             1              0          Yes  Self-employed   \n",
       "4    Male  81.0             0              0          Yes        Private   \n",
       "\n",
       "  Residence_type  avg_glucose_level   bmi   smoking_status  stroke  \n",
       "0          Urban             228.69  36.6  formerly smoked       1  \n",
       "1          Rural             105.92  32.5     never smoked       1  \n",
       "2          Urban             171.23  34.4           smokes       1  \n",
       "3          Rural             174.12  24.0     never smoked       1  \n",
       "4          Urban             186.21  29.0  formerly smoked       1  "
      ]
     },
     "execution_count": 4,
     "metadata": {},
     "output_type": "execute_result"
    }
   ],
   "source": [
    "df.head()"
   ]
  },
  {
   "cell_type": "code",
   "execution_count": 5,
   "id": "6b4d07ac",
   "metadata": {},
   "outputs": [
    {
     "data": {
      "text/plain": [
       "Index(['gender', 'age', 'hypertension', 'heart_disease', 'ever_married',\n",
       "       'work_type', 'Residence_type', 'avg_glucose_level', 'bmi',\n",
       "       'smoking_status', 'stroke'],\n",
       "      dtype='object')"
      ]
     },
     "execution_count": 5,
     "metadata": {},
     "output_type": "execute_result"
    }
   ],
   "source": [
    "df.columns"
   ]
  },
  {
   "cell_type": "markdown",
   "id": "7cb1f6e0",
   "metadata": {},
   "source": [
    "### Limpiar dato"
   ]
  },
  {
   "cell_type": "code",
   "execution_count": 6,
   "id": "52bc1dba",
   "metadata": {},
   "outputs": [
    {
     "name": "stdout",
     "output_type": "stream",
     "text": [
      "<class 'pandas.core.frame.DataFrame'>\n",
      "RangeIndex: 4981 entries, 0 to 4980\n",
      "Data columns (total 11 columns):\n",
      " #   Column             Non-Null Count  Dtype  \n",
      "---  ------             --------------  -----  \n",
      " 0   gender             4981 non-null   object \n",
      " 1   age                4981 non-null   int64  \n",
      " 2   hypertension       4981 non-null   int64  \n",
      " 3   heart_disease      4981 non-null   int64  \n",
      " 4   ever_married       4981 non-null   object \n",
      " 5   work_type          4981 non-null   object \n",
      " 6   Residence_type     4981 non-null   object \n",
      " 7   avg_glucose_level  4981 non-null   float64\n",
      " 8   bmi                4981 non-null   float64\n",
      " 9   smoking_status     4981 non-null   object \n",
      " 10  stroke             4981 non-null   int64  \n",
      "dtypes: float64(2), int64(4), object(5)\n",
      "memory usage: 428.2+ KB\n"
     ]
    }
   ],
   "source": [
    "# check basic information of dataset\n",
    "df[\"age\"] = df[\"age\"].astype(float).astype(int)\n",
    "df.info()"
   ]
  },
  {
   "cell_type": "markdown",
   "id": "01b705ac",
   "metadata": {},
   "source": [
    "### Manejo de valores atípicos"
   ]
  },
  {
   "cell_type": "code",
   "execution_count": 7,
   "id": "ef55003a",
   "metadata": {},
   "outputs": [
    {
     "data": {
      "text/html": [
       "<div>\n",
       "<style scoped>\n",
       "    .dataframe tbody tr th:only-of-type {\n",
       "        vertical-align: middle;\n",
       "    }\n",
       "\n",
       "    .dataframe tbody tr th {\n",
       "        vertical-align: top;\n",
       "    }\n",
       "\n",
       "    .dataframe thead th {\n",
       "        text-align: right;\n",
       "    }\n",
       "</style>\n",
       "<table border=\"1\" class=\"dataframe\">\n",
       "  <thead>\n",
       "    <tr style=\"text-align: right;\">\n",
       "      <th></th>\n",
       "      <th>age</th>\n",
       "      <th>hypertension</th>\n",
       "      <th>heart_disease</th>\n",
       "      <th>avg_glucose_level</th>\n",
       "      <th>bmi</th>\n",
       "      <th>stroke</th>\n",
       "    </tr>\n",
       "  </thead>\n",
       "  <tbody>\n",
       "    <tr>\n",
       "      <th>count</th>\n",
       "      <td>4981.000000</td>\n",
       "      <td>4981.000000</td>\n",
       "      <td>4981.000000</td>\n",
       "      <td>4981.000000</td>\n",
       "      <td>4981.000000</td>\n",
       "      <td>4981.000000</td>\n",
       "    </tr>\n",
       "    <tr>\n",
       "      <th>mean</th>\n",
       "      <td>43.408552</td>\n",
       "      <td>0.096165</td>\n",
       "      <td>0.055210</td>\n",
       "      <td>105.943562</td>\n",
       "      <td>28.498173</td>\n",
       "      <td>0.049789</td>\n",
       "    </tr>\n",
       "    <tr>\n",
       "      <th>std</th>\n",
       "      <td>22.683945</td>\n",
       "      <td>0.294848</td>\n",
       "      <td>0.228412</td>\n",
       "      <td>45.075373</td>\n",
       "      <td>6.790464</td>\n",
       "      <td>0.217531</td>\n",
       "    </tr>\n",
       "    <tr>\n",
       "      <th>min</th>\n",
       "      <td>0.000000</td>\n",
       "      <td>0.000000</td>\n",
       "      <td>0.000000</td>\n",
       "      <td>55.120000</td>\n",
       "      <td>14.000000</td>\n",
       "      <td>0.000000</td>\n",
       "    </tr>\n",
       "    <tr>\n",
       "      <th>25%</th>\n",
       "      <td>25.000000</td>\n",
       "      <td>0.000000</td>\n",
       "      <td>0.000000</td>\n",
       "      <td>77.230000</td>\n",
       "      <td>23.700000</td>\n",
       "      <td>0.000000</td>\n",
       "    </tr>\n",
       "    <tr>\n",
       "      <th>50%</th>\n",
       "      <td>45.000000</td>\n",
       "      <td>0.000000</td>\n",
       "      <td>0.000000</td>\n",
       "      <td>91.850000</td>\n",
       "      <td>28.100000</td>\n",
       "      <td>0.000000</td>\n",
       "    </tr>\n",
       "    <tr>\n",
       "      <th>75%</th>\n",
       "      <td>61.000000</td>\n",
       "      <td>0.000000</td>\n",
       "      <td>0.000000</td>\n",
       "      <td>113.860000</td>\n",
       "      <td>32.600000</td>\n",
       "      <td>0.000000</td>\n",
       "    </tr>\n",
       "    <tr>\n",
       "      <th>max</th>\n",
       "      <td>82.000000</td>\n",
       "      <td>1.000000</td>\n",
       "      <td>1.000000</td>\n",
       "      <td>271.740000</td>\n",
       "      <td>48.900000</td>\n",
       "      <td>1.000000</td>\n",
       "    </tr>\n",
       "  </tbody>\n",
       "</table>\n",
       "</div>"
      ],
      "text/plain": [
       "               age  hypertension  heart_disease  avg_glucose_level  \\\n",
       "count  4981.000000   4981.000000    4981.000000        4981.000000   \n",
       "mean     43.408552      0.096165       0.055210         105.943562   \n",
       "std      22.683945      0.294848       0.228412          45.075373   \n",
       "min       0.000000      0.000000       0.000000          55.120000   \n",
       "25%      25.000000      0.000000       0.000000          77.230000   \n",
       "50%      45.000000      0.000000       0.000000          91.850000   \n",
       "75%      61.000000      0.000000       0.000000         113.860000   \n",
       "max      82.000000      1.000000       1.000000         271.740000   \n",
       "\n",
       "               bmi       stroke  \n",
       "count  4981.000000  4981.000000  \n",
       "mean     28.498173     0.049789  \n",
       "std       6.790464     0.217531  \n",
       "min      14.000000     0.000000  \n",
       "25%      23.700000     0.000000  \n",
       "50%      28.100000     0.000000  \n",
       "75%      32.600000     0.000000  \n",
       "max      48.900000     1.000000  "
      ]
     },
     "execution_count": 7,
     "metadata": {},
     "output_type": "execute_result"
    }
   ],
   "source": [
    "#查看数据描述统计 Ver estadísticas de descripción de datos\n",
    "df.describe()"
   ]
  },
  {
   "cell_type": "code",
   "execution_count": 8,
   "id": "6c83f141",
   "metadata": {},
   "outputs": [
    {
     "data": {
      "text/plain": [
       "(4981, 11)"
      ]
     },
     "execution_count": 8,
     "metadata": {},
     "output_type": "execute_result"
    }
   ],
   "source": [
    "#删除重复值 eliminar valores duplicados\n",
    "df = df.drop_duplicates()\n",
    "df.shape"
   ]
  },
  {
   "cell_type": "code",
   "execution_count": 9,
   "id": "97cd3422",
   "metadata": {},
   "outputs": [
    {
     "data": {
      "text/plain": [
       "gender                  2\n",
       "age                    83\n",
       "hypertension            2\n",
       "heart_disease           2\n",
       "ever_married            2\n",
       "work_type               4\n",
       "Residence_type          2\n",
       "avg_glucose_level    3895\n",
       "bmi                   342\n",
       "smoking_status          4\n",
       "stroke                  2\n",
       "dtype: int64"
      ]
     },
     "execution_count": 9,
     "metadata": {},
     "output_type": "execute_result"
    }
   ],
   "source": [
    "#查看数据集各列的唯一值数量 Ver la cantidad de valores únicos para cada columna del conjunto de datos\n",
    "df.nunique()"
   ]
  },
  {
   "cell_type": "code",
   "execution_count": 10,
   "id": "243446c5",
   "metadata": {},
   "outputs": [
    {
     "name": "stdout",
     "output_type": "stream",
     "text": [
      "gender ----- ['Male' 'Female']\n",
      "hypertension ----- [0 1]\n",
      "heart_disease ----- [1 0]\n",
      "ever_married ----- ['Yes' 'No']\n",
      "work_type ----- ['Private' 'Self-employed' 'Govt_job' 'children']\n",
      "Residence_type ----- ['Urban' 'Rural']\n",
      "smoking_status ----- ['formerly smoked' 'never smoked' 'smokes' 'Unknown']\n",
      "stroke ----- [1 0]\n"
     ]
    }
   ],
   "source": [
    "# 定义函数查看每一列的唯一值 Defina una función para ver los valores únicos de cada columna\n",
    "discrete_data = df[[\"gender\",\"hypertension\",\"heart_disease\",\"ever_married\",\"work_type\",\"Residence_type\",\"smoking_status\",\"stroke\"]]\n",
    "def uni(columnlabel):\n",
    "    print(columnlabel,\"-----\",discrete_data[columnlabel].unique())\n",
    "# 查看每一列的唯一值 Ver valores únicos para cada columna\n",
    "for i in range(0,len(discrete_data.columns)):\n",
    "    uni(discrete_data.columns[i])"
   ]
  },
  {
   "cell_type": "code",
   "execution_count": 11,
   "id": "23fb0f0a",
   "metadata": {},
   "outputs": [
    {
     "data": {
      "text/plain": [
       "gender               0\n",
       "age                  0\n",
       "hypertension         0\n",
       "heart_disease        0\n",
       "ever_married         0\n",
       "work_type            0\n",
       "Residence_type       0\n",
       "avg_glucose_level    0\n",
       "bmi                  0\n",
       "smoking_status       0\n",
       "stroke               0\n",
       "dtype: int64"
      ]
     },
     "execution_count": 11,
     "metadata": {},
     "output_type": "execute_result"
    }
   ],
   "source": [
    "# check any mmissing values present in dataset or not\n",
    "df.isnull().sum()"
   ]
  },
  {
   "cell_type": "code",
   "execution_count": 12,
   "id": "65e4adeb",
   "metadata": {},
   "outputs": [
    {
     "data": {
      "text/plain": [
       "never smoked       1838\n",
       "Unknown            1500\n",
       "formerly smoked     867\n",
       "smokes              776\n",
       "Name: smoking_status, dtype: int64"
      ]
     },
     "execution_count": 12,
     "metadata": {},
     "output_type": "execute_result"
    }
   ],
   "source": [
    "df.smoking_status.value_counts()"
   ]
  },
  {
   "cell_type": "code",
   "execution_count": 13,
   "id": "1f78d12a",
   "metadata": {},
   "outputs": [
    {
     "data": {
      "text/plain": [
       "never smoked       3338\n",
       "formerly smoked     867\n",
       "smokes              776\n",
       "Name: smoking_status, dtype: int64"
      ]
     },
     "execution_count": 13,
     "metadata": {},
     "output_type": "execute_result"
    }
   ],
   "source": [
    "#将吸烟状态的异常值替换为空值 Reemplace los valores atípicos para el estado de fumador con valores nulos\n",
    "df[\"smoking_status\"].replace(\"Unknown\",np.nan,inplace=True)\n",
    "#用众数填充缺失值 Rellena los valores que faltan con la moda\n",
    "df[\"smoking_status\"].fillna(df[\"smoking_status\"].mode()[0],inplace=True)\n",
    "df.smoking_status.value_counts()"
   ]
  },
  {
   "cell_type": "markdown",
   "id": "36434179",
   "metadata": {},
   "source": [
    "### Exploratory Data Analysis (EDA)"
   ]
  },
  {
   "cell_type": "markdown",
   "id": "29591ff8",
   "metadata": {},
   "source": [
    "#### Análisis Preliminar de Variables Discretas"
   ]
  },
  {
   "cell_type": "code",
   "execution_count": 14,
   "id": "adc03820",
   "metadata": {},
   "outputs": [],
   "source": [
    "#设置可视化数据列的百分比 Establecer el porcentaje de una columna de datos de visualización\n",
    "def annot_plot(ax):\n",
    "    ax.spines[\"top\"].set_visible(False)#设置顶部边框为空\n",
    "    ax.spines[\"right\"].set_visible(False) #设置右侧边框为空\n",
    "    for p in ax.patches:\n",
    "        ax.annotate(f\"{p.get_height()*100/df.shape[0]:.2f}%\",(p.get_x()+p.get_width()/2,p.get_height()),\n",
    "                   ha=\"center\",va=\"center\",fontsize=11,color=\"black\",rotation=0,xytext=(0,10),textcoords=\"offset points\")\n"
   ]
  },
  {
   "cell_type": "code",
   "execution_count": 15,
   "id": "9c74e332",
   "metadata": {},
   "outputs": [
    {
     "data": {
      "image/png": "[encoded data removed]",
      "text/plain": [
       "<Figure size 432x288 with 1 Axes>"
      ]
     },
     "metadata": {
      "needs_background": "light"
     },
     "output_type": "display_data"
    }
   ],
   "source": [
    "#数据集分布情况\n",
    "ax = sns.countplot(x=\"stroke\",data=df, palette=\"gist_rainbow_r\")\n",
    "plt.ylabel(\"incidencia de accidentes cerebrovasculares\")\n",
    "ax.spines[\"top\"].set_visible(False)\n",
    "ax.spines[\"right\"].set_visible(False)\n",
    "for p in ax.patches:\n",
    "    ax.annotate(f\"{p.get_height()*100/df.shape[0]:.2f}%\",(p.get_x()+p.get_width()/2,p.get_height()),\n",
    "               ha=\"center\",va=\"center\",fontsize=11,color=\"black\",rotation=0,xytext=(0,10),textcoords = \"offset points\")\n",
    "plt.show()"
   ]
  },
  {
   "cell_type": "markdown",
   "id": "08593691",
   "metadata": {},
   "source": [
    "#### Conclusión: \n",
    "los usuarios de accidentes cerebrovasculares solo representan el 4,98%, y se puede ver que la distribución del conjunto de datos es desigual, por lo que se requiere un muestreo estratificado cuando los datos se dividen en conjuntos de datos de entrenamiento y prueba, y los datos deben procesarse SMOTE ."
   ]
  },
  {
   "cell_type": "code",
   "execution_count": 16,
   "id": "19dd03bb",
   "metadata": {},
   "outputs": [
    {
     "data": {
      "image/png": "[encoded data removed]",
      "text/plain": [
       "<Figure size 432x288 with 1 Axes>"
      ]
     },
     "metadata": {
      "needs_background": "light"
     },
     "output_type": "display_data"
    }
   ],
   "source": [
    "ax = sns.countplot(x=\"stroke\",hue=\"gender\",data=df, palette=\"gist_rainbow_r\")\n",
    "plt.ylabel(\"incidencia de accidentes cerebrovasculares\")\n",
    "annot_plot(ax)\n",
    "plt.show()"
   ]
  },
  {
   "cell_type": "markdown",
   "id": "b21e4ed4",
   "metadata": {},
   "source": [
    "#### Conclusión: \n",
    "La figura muestra que la proporción de mujeres con la enfermedad es menor, pero la proporción de mujeres que no tienen la enfermedad también es menor. Debido a que la cantidad de hombres y mujeres en el conjunto de datos varía, es imposible juzgar directamente que los hombres son más propensos a la enfermedad."
   ]
  },
  {
   "cell_type": "code",
   "execution_count": 17,
   "id": "5f712a15",
   "metadata": {},
   "outputs": [
    {
     "data": {
      "image/png": "[encoded data removed]",
      "text/plain": [
       "<Figure size 432x288 with 1 Axes>"
      ]
     },
     "metadata": {
      "needs_background": "light"
     },
     "output_type": "display_data"
    }
   ],
   "source": [
    "ax = sns.countplot(x=\"stroke\",hue=\"smoking_status\",data=df, palette=\"gist_rainbow_r\")\n",
    "plt.ylabel(\"incidencia de accidentes cerebrovasculares\")\n",
    "annot_plot(ax)\n",
    "plt.show()"
   ]
  },
  {
   "cell_type": "markdown",
   "id": "99a05fad",
   "metadata": {},
   "source": [
    "#### Comparación:\n",
    "las personas que no se reúnen en reuniones muestran que la enfermedad representa una proporción relativamente grande, y la no ocupación también representa la mayoría. Los datos allí son más y el rango de cantidad varía, lo cual es fácil. Por lo tanto, es Es fácil juzgar directamente si hay una enfermedad."
   ]
  },
  {
   "cell_type": "code",
   "execution_count": 18,
   "id": "10fd40a9",
   "metadata": {},
   "outputs": [
    {
     "data": {
      "image/png": "[encoded data removed]",
      "text/plain": [
       "<Figure size 432x288 with 1 Axes>"
      ]
     },
     "metadata": {
      "needs_background": "light"
     },
     "output_type": "display_data"
    }
   ],
   "source": [
    "ax = sns.countplot(x=\"stroke\",hue=\"heart_disease\",data=df, palette=\"gist_rainbow_r\")\n",
    "plt.ylabel(\"incidencia de accidentes cerebrovasculares\")\n",
    "annot_plot(ax)\n",
    "plt.show()"
   ]
  },
  {
   "cell_type": "markdown",
   "id": "f5dcd3d9",
   "metadata": {},
   "source": [
    "#### Conclusión: \n",
    "la figura muestra que los usuarios sin enfermedad cardíaca representan una gran proporción de la enfermedad, pero la proporción de usuarios sin enfermedad cardíaca sin enfermedad cardíaca también representa la mayor parte del duelo. Debido a que la cantidad de personas con enfermedad cardíaca en los datos El conjunto varía, es imposible determinar directamente si la enfermedad cardíaca no lo es. Es más probable que la enfermedad cause un accidente cerebrovascular."
   ]
  },
  {
   "cell_type": "code",
   "execution_count": 19,
   "id": "1b5e6e7d",
   "metadata": {},
   "outputs": [
    {
     "data": {
      "image/png": "[encoded data removed]",
      "text/plain": [
       "<Figure size 432x288 with 1 Axes>"
      ]
     },
     "metadata": {
      "needs_background": "light"
     },
     "output_type": "display_data"
    },
    {
     "data": {
      "text/plain": [
       "Female    2907\n",
       "Male      2074\n",
       "Name: gender, dtype: int64"
      ]
     },
     "execution_count": 19,
     "metadata": {},
     "output_type": "execute_result"
    }
   ],
   "source": [
    "# male and female\n",
    "ax = sns.countplot(x=df.gender,data=df, palette=\"gist_rainbow_r\")\n",
    "plt.ylabel(\"Proporción de sexo de trazo\")\n",
    "annot_plot(ax)\n",
    "plt.show()\n",
    "df.gender.value_counts()"
   ]
  },
  {
   "cell_type": "code",
   "execution_count": 20,
   "id": "b929a743",
   "metadata": {},
   "outputs": [
    {
     "data": {
      "image/png": "[encoded data removed]",
      "text/plain": [
       "<Figure size 432x288 with 1 Axes>"
      ]
     },
     "metadata": {
      "needs_background": "light"
     },
     "output_type": "display_data"
    }
   ],
   "source": [
    "# smoking_status \n",
    "ax = sns.countplot(x = df.smoking_status,  hue= df.gender,data=df, palette='gist_rainbow_r')\n",
    "plt.ylabel(\"Relación entre género y condición de fumador\")\n",
    "annot_plot(ax)\n",
    "plt.show()"
   ]
  },
  {
   "cell_type": "code",
   "execution_count": null,
   "id": "b55c837e",
   "metadata": {},
   "outputs": [],
   "source": []
  },
  {
   "cell_type": "code",
   "execution_count": 21,
   "id": "1cc7eb06",
   "metadata": {},
   "outputs": [
    {
     "data": {
      "image/png": "[encoded data removed]",
      "text/plain": [
       "<Figure size 432x288 with 1 Axes>"
      ]
     },
     "metadata": {
      "needs_background": "light"
     },
     "output_type": "display_data"
    },
    {
     "data": {
      "text/plain": [
       "Yes    3280\n",
       "No     1701\n",
       "Name: ever_married, dtype: int64"
      ]
     },
     "execution_count": 21,
     "metadata": {},
     "output_type": "execute_result"
    }
   ],
   "source": [
    "# ever_married\n",
    "ax = sns.countplot(x = df.ever_married, hue= df.gender,data=df, palette=\"gist_rainbow_r\")\n",
    "plt.ylabel(\"genero y matrimonio\")\n",
    "annot_plot(ax)\n",
    "plt.show()\n",
    "df.ever_married.value_counts()"
   ]
  },
  {
   "cell_type": "code",
   "execution_count": 22,
   "id": "fc0738db",
   "metadata": {},
   "outputs": [
    {
     "data": {
      "image/png": "[encoded data removed]",
      "text/plain": [
       "<Figure size 432x288 with 1 Axes>"
      ]
     },
     "metadata": {
      "needs_background": "light"
     },
     "output_type": "display_data"
    },
    {
     "data": {
      "text/plain": [
       "Urban    2532\n",
       "Rural    2449\n",
       "Name: Residence_type, dtype: int64"
      ]
     },
     "execution_count": 22,
     "metadata": {},
     "output_type": "execute_result"
    }
   ],
   "source": [
    "# Residence_type\n",
    "ax = sns.countplot(x = df.Residence_type,  hue= df.gender,data=df, palette='gist_rainbow_r')\n",
    "plt.ylabel(\"Relación entre género y tipo de residente\")\n",
    "annot_plot(ax)\n",
    "plt.show()\n",
    "df.Residence_type.value_counts()"
   ]
  },
  {
   "cell_type": "code",
   "execution_count": 23,
   "id": "2c054922",
   "metadata": {},
   "outputs": [
    {
     "data": {
      "image/png": "[encoded data removed]",
      "text/plain": [
       "<Figure size 432x288 with 1 Axes>"
      ]
     },
     "metadata": {
      "needs_background": "light"
     },
     "output_type": "display_data"
    },
    {
     "data": {
      "text/plain": [
       "Private          2860\n",
       "Self-employed     804\n",
       "children          673\n",
       "Govt_job          644\n",
       "Name: work_type, dtype: int64"
      ]
     },
     "execution_count": 23,
     "metadata": {},
     "output_type": "execute_result"
    }
   ],
   "source": [
    "# work_type\n",
    "ax = sns.countplot(x = df.work_type,  hue= df.gender,data=df, palette='gist_rainbow_r')\n",
    "plt.ylabel(\"La relación entre el género y el tipo de trabajo\")\n",
    "annot_plot(ax)\n",
    "plt.show()\n",
    "df.work_type.value_counts()"
   ]
  },
  {
   "cell_type": "markdown",
   "id": "ca2c425a",
   "metadata": {},
   "source": [
    "#### Para los valores atípicos del estado de tabaquismo, de acuerdo con el estado de vida real, elegimos el modo del conjunto de datos para reemplazar, primero reemplazamos el valor desconocido con el valor nulo y luego completamos el valor nulo con el modo."
   ]
  },
  {
   "cell_type": "code",
   "execution_count": 24,
   "id": "4b81886b",
   "metadata": {},
   "outputs": [
    {
     "data": {
      "image/png": "[encoded data removed]",
      "text/plain": [
       "<Figure size 432x288 with 1 Axes>"
      ]
     },
     "metadata": {
      "needs_background": "light"
     },
     "output_type": "display_data"
    },
    {
     "data": {
      "text/plain": [
       "0    4733\n",
       "1     248\n",
       "Name: stroke, dtype: int64"
      ]
     },
     "execution_count": 24,
     "metadata": {},
     "output_type": "execute_result"
    }
   ],
   "source": [
    "# stroke \n",
    "#性别与发病率的关系\n",
    "ax = sns.countplot(x = df.stroke,  hue= df.gender,data=df, palette='gist_rainbow_r')\n",
    "plt.ylabel(\"La relación entre el sexo y la morbilidad\")\n",
    "annot_plot(ax)\n",
    "plt.show()\n",
    "df.stroke.value_counts()"
   ]
  },
  {
   "cell_type": "markdown",
   "id": "97e65019",
   "metadata": {},
   "source": [
    "#### Conclusión:\n",
    "La figura muestra que la proporción de mujeres con la enfermedad es menor, pero la proporción de mujeres que no tienen la enfermedad también es menor. Debido a que la cantidad de hombres y mujeres en el conjunto de datos varía, es imposible juzgar directamente que los hombres son más propensos a la enfermedad."
   ]
  },
  {
   "cell_type": "code",
   "execution_count": 25,
   "id": "698558df",
   "metadata": {},
   "outputs": [
    {
     "data": {
      "image/png": "[encoded data removed]",
      "text/plain": [
       "<Figure size 432x288 with 1 Axes>"
      ]
     },
     "metadata": {
      "needs_background": "light"
     },
     "output_type": "display_data"
    },
    {
     "data": {
      "text/plain": [
       "0    4706\n",
       "1     275\n",
       "Name: heart_disease, dtype: int64"
      ]
     },
     "execution_count": 25,
     "metadata": {},
     "output_type": "execute_result"
    }
   ],
   "source": [
    "# heart_disease \n",
    "ax = sns.countplot(x = df.heart_disease,  hue= df.gender,data=df, palette='gist_rainbow_r')\n",
    "plt.ylabel(\"La relación entre el sexo y las enfermedades del corazón\")\n",
    "annot_plot(ax)\n",
    "plt.show()\n",
    "df.heart_disease.value_counts()"
   ]
  },
  {
   "cell_type": "code",
   "execution_count": 26,
   "id": "e9de13bf",
   "metadata": {},
   "outputs": [
    {
     "data": {
      "image/png": "[encoded data removed]",
      "text/plain": [
       "<Figure size 432x288 with 1 Axes>"
      ]
     },
     "metadata": {
      "needs_background": "light"
     },
     "output_type": "display_data"
    },
    {
     "data": {
      "text/plain": [
       "0    4502\n",
       "1     479\n",
       "Name: hypertension, dtype: int64"
      ]
     },
     "execution_count": 26,
     "metadata": {},
     "output_type": "execute_result"
    }
   ],
   "source": [
    "# hypertension \n",
    "ax = sns.countplot(x = df.hypertension,  hue= df.gender,data=df, palette='gist_rainbow_r')\n",
    "plt.ylabel(\"La relación entre el sexo y el azúcar en la sangre\")\n",
    "annot_plot(ax)\n",
    "plt.show()\n",
    "df.hypertension.value_counts()"
   ]
  },
  {
   "cell_type": "code",
   "execution_count": 27,
   "id": "5cd5caa6",
   "metadata": {},
   "outputs": [
    {
     "name": "stderr",
     "output_type": "stream",
     "text": [
      "/usr/local/lib/python3.9/site-packages/seaborn/distributions.py:2619: FutureWarning: `distplot` is a deprecated function and will be removed in a future version. Please adapt your code to use either `displot` (a figure-level function with similar flexibility) or `histplot` (an axes-level function for histograms).\n",
      "  warnings.warn(msg, FutureWarning)\n"
     ]
    },
    {
     "data": {
      "image/png": "[encoded data removed]",
      "text/plain": [
       "<Figure size 432x288 with 1 Axes>"
      ]
     },
     "metadata": {
      "needs_background": "light"
     },
     "output_type": "display_data"
    }
   ],
   "source": [
    "# age\n",
    "sns.distplot(x = df.age, color=\"g\")\n",
    "plt.show()"
   ]
  },
  {
   "cell_type": "markdown",
   "id": "121208e4",
   "metadata": {},
   "source": [
    "### Análisis Preliminar de Variables Continuas"
   ]
  },
  {
   "cell_type": "code",
   "execution_count": 28,
   "id": "4eb5a0e8",
   "metadata": {},
   "outputs": [
    {
     "data": {
      "image/png": "[encoded data removed]",
      "text/plain": [
       "<Figure size 432x288 with 1 Axes>"
      ]
     },
     "metadata": {
      "needs_background": "light"
     },
     "output_type": "display_data"
    }
   ],
   "source": [
    "#bmi箱线图\n",
    "sns.boxplot(x=\"stroke\",y=\"bmi\",data=df, palette='gist_rainbow_r')\n",
    "plt.ylabel(\"Distribución del bmi de la población con y sin accidente cerebrovascular\")\n",
    "plt.show()"
   ]
  },
  {
   "cell_type": "code",
   "execution_count": 29,
   "id": "b0130a3d",
   "metadata": {},
   "outputs": [
    {
     "data": {
      "text/plain": [
       "<AxesSubplot:ylabel='Density'>"
      ]
     },
     "execution_count": 29,
     "metadata": {},
     "output_type": "execute_result"
    },
    {
     "data": {
      "image/png": "[encoded data removed]",
      "text/plain": [
       "<Figure size 432x288 with 1 Axes>"
      ]
     },
     "metadata": {
      "needs_background": "light"
     },
     "output_type": "display_data"
    }
   ],
   "source": [
    "#bmi分布密度图\n",
    "df[\"bmi\"].plot.kde(color=\"red\")\n",
    "#患病用户密度分布\n",
    "df.query(\"stroke==1\")[\"bmi\"].plot.kde(color=\"blue\")"
   ]
  },
  {
   "cell_type": "markdown",
   "id": "27786e63",
   "metadata": {},
   "source": [
    "#### Conclusión: \n",
    "La distribución del bmi de las personas sin ictus tiene valores más discretos, mientras que el bmi de las personas con ictus está relativamente concentrado en un intervalo."
   ]
  },
  {
   "cell_type": "code",
   "execution_count": 30,
   "id": "1c336f9b",
   "metadata": {},
   "outputs": [
    {
     "data": {
      "image/png": "[encoded data removed]",
      "text/plain": [
       "<Figure size 432x288 with 1 Axes>"
      ]
     },
     "metadata": {
      "needs_background": "light"
     },
     "output_type": "display_data"
    }
   ],
   "source": [
    "#血液中的葡萄糖水平的分布\n",
    "sns.boxplot(x=\"stroke\",y=\"avg_glucose_level\",data=df, palette='gist_rainbow_r')\n",
    "plt.ylabel(\"Niveles de glucosa en sangre de la población usuaria\")\n",
    "plt.show()"
   ]
  },
  {
   "cell_type": "code",
   "execution_count": 31,
   "id": "a84becdb",
   "metadata": {},
   "outputs": [
    {
     "data": {
      "text/plain": [
       "<AxesSubplot:ylabel='Density'>"
      ]
     },
     "execution_count": 31,
     "metadata": {},
     "output_type": "execute_result"
    },
    {
     "data": {
      "image/png": "[encoded data removed]",
      "text/plain": [
       "<Figure size 432x288 with 1 Axes>"
      ]
     },
     "metadata": {
      "needs_background": "light"
     },
     "output_type": "display_data"
    }
   ],
   "source": [
    "#avg_glucose_level分布密度图\n",
    "df[\"avg_glucose_level\"].plot.kde(color=\"red\")\n",
    "#患病用户密度分布\n",
    "df.query(\"stroke==1\")[\"avg_glucose_level\"].plot.kde(color=\"blue\")"
   ]
  },
  {
   "cell_type": "markdown",
   "id": "094c773e",
   "metadata": {},
   "source": [
    "#### Conclusión: \n",
    "Se puede observar que la población discreta de usuarios sin ictus está más distribuida, mientras que el nivel de glucosa en sangre de la población con ictus se distribuye en un intervalo relativamente estable."
   ]
  },
  {
   "cell_type": "markdown",
   "id": "f471b8c7",
   "metadata": {},
   "source": [
    "### Extraer características"
   ]
  },
  {
   "cell_type": "code",
   "execution_count": 32,
   "id": "85448138",
   "metadata": {},
   "outputs": [
    {
     "data": {
      "text/html": [
       "<div>\n",
       "<style scoped>\n",
       "    .dataframe tbody tr th:only-of-type {\n",
       "        vertical-align: middle;\n",
       "    }\n",
       "\n",
       "    .dataframe tbody tr th {\n",
       "        vertical-align: top;\n",
       "    }\n",
       "\n",
       "    .dataframe thead th {\n",
       "        text-align: right;\n",
       "    }\n",
       "</style>\n",
       "<table border=\"1\" class=\"dataframe\">\n",
       "  <thead>\n",
       "    <tr style=\"text-align: right;\">\n",
       "      <th></th>\n",
       "      <th>gender</th>\n",
       "      <th>age</th>\n",
       "      <th>hypertension</th>\n",
       "      <th>heart_disease</th>\n",
       "      <th>ever_married</th>\n",
       "      <th>work_type</th>\n",
       "      <th>Residence_type</th>\n",
       "      <th>avg_glucose_level</th>\n",
       "      <th>bmi</th>\n",
       "      <th>smoking_status</th>\n",
       "    </tr>\n",
       "  </thead>\n",
       "  <tbody>\n",
       "    <tr>\n",
       "      <th>0</th>\n",
       "      <td>0</td>\n",
       "      <td>0</td>\n",
       "      <td>0</td>\n",
       "      <td>0</td>\n",
       "      <td>0</td>\n",
       "      <td>0</td>\n",
       "      <td>0</td>\n",
       "      <td>0</td>\n",
       "      <td>0</td>\n",
       "      <td>0</td>\n",
       "    </tr>\n",
       "    <tr>\n",
       "      <th>1</th>\n",
       "      <td>0</td>\n",
       "      <td>1</td>\n",
       "      <td>0</td>\n",
       "      <td>0</td>\n",
       "      <td>0</td>\n",
       "      <td>0</td>\n",
       "      <td>1</td>\n",
       "      <td>1</td>\n",
       "      <td>1</td>\n",
       "      <td>1</td>\n",
       "    </tr>\n",
       "    <tr>\n",
       "      <th>2</th>\n",
       "      <td>1</td>\n",
       "      <td>2</td>\n",
       "      <td>0</td>\n",
       "      <td>1</td>\n",
       "      <td>0</td>\n",
       "      <td>0</td>\n",
       "      <td>0</td>\n",
       "      <td>2</td>\n",
       "      <td>2</td>\n",
       "      <td>2</td>\n",
       "    </tr>\n",
       "    <tr>\n",
       "      <th>3</th>\n",
       "      <td>1</td>\n",
       "      <td>3</td>\n",
       "      <td>1</td>\n",
       "      <td>1</td>\n",
       "      <td>0</td>\n",
       "      <td>1</td>\n",
       "      <td>1</td>\n",
       "      <td>3</td>\n",
       "      <td>3</td>\n",
       "      <td>1</td>\n",
       "    </tr>\n",
       "    <tr>\n",
       "      <th>4</th>\n",
       "      <td>0</td>\n",
       "      <td>4</td>\n",
       "      <td>0</td>\n",
       "      <td>1</td>\n",
       "      <td>0</td>\n",
       "      <td>0</td>\n",
       "      <td>0</td>\n",
       "      <td>4</td>\n",
       "      <td>4</td>\n",
       "      <td>0</td>\n",
       "    </tr>\n",
       "  </tbody>\n",
       "</table>\n",
       "</div>"
      ],
      "text/plain": [
       "   gender  age  hypertension  heart_disease  ever_married  work_type  \\\n",
       "0       0    0             0              0             0          0   \n",
       "1       0    1             0              0             0          0   \n",
       "2       1    2             0              1             0          0   \n",
       "3       1    3             1              1             0          1   \n",
       "4       0    4             0              1             0          0   \n",
       "\n",
       "   Residence_type  avg_glucose_level  bmi  smoking_status  \n",
       "0               0                  0    0               0  \n",
       "1               1                  1    1               1  \n",
       "2               0                  2    2               2  \n",
       "3               1                  3    3               1  \n",
       "4               0                  4    4               0  "
      ]
     },
     "execution_count": 32,
     "metadata": {},
     "output_type": "execute_result"
    }
   ],
   "source": [
    "#提取特征\n",
    "charges = df.drop([\"stroke\"],axis=1)\n",
    "corrDf = charges.apply(lambda x:pd.factorize(x)[0])\n",
    "corrDf.head()"
   ]
  },
  {
   "cell_type": "code",
   "execution_count": 33,
   "id": "ac963080",
   "metadata": {},
   "outputs": [
    {
     "data": {
      "text/html": [
       "<div>\n",
       "<style scoped>\n",
       "    .dataframe tbody tr th:only-of-type {\n",
       "        vertical-align: middle;\n",
       "    }\n",
       "\n",
       "    .dataframe tbody tr th {\n",
       "        vertical-align: top;\n",
       "    }\n",
       "\n",
       "    .dataframe thead th {\n",
       "        text-align: right;\n",
       "    }\n",
       "</style>\n",
       "<table border=\"1\" class=\"dataframe\">\n",
       "  <thead>\n",
       "    <tr style=\"text-align: right;\">\n",
       "      <th></th>\n",
       "      <th>gender</th>\n",
       "      <th>age</th>\n",
       "      <th>hypertension</th>\n",
       "      <th>heart_disease</th>\n",
       "      <th>ever_married</th>\n",
       "      <th>work_type</th>\n",
       "      <th>Residence_type</th>\n",
       "      <th>avg_glucose_level</th>\n",
       "      <th>bmi</th>\n",
       "      <th>smoking_status</th>\n",
       "    </tr>\n",
       "  </thead>\n",
       "  <tbody>\n",
       "    <tr>\n",
       "      <th>gender</th>\n",
       "      <td>1.000000</td>\n",
       "      <td>-0.012168</td>\n",
       "      <td>-0.021485</td>\n",
       "      <td>0.086476</td>\n",
       "      <td>-0.028971</td>\n",
       "      <td>-0.063684</td>\n",
       "      <td>-0.004301</td>\n",
       "      <td>-0.003350</td>\n",
       "      <td>0.011963</td>\n",
       "      <td>0.021362</td>\n",
       "    </tr>\n",
       "    <tr>\n",
       "      <th>age</th>\n",
       "      <td>-0.012168</td>\n",
       "      <td>1.000000</td>\n",
       "      <td>-0.227529</td>\n",
       "      <td>0.210886</td>\n",
       "      <td>0.537537</td>\n",
       "      <td>0.271470</td>\n",
       "      <td>0.023700</td>\n",
       "      <td>0.041936</td>\n",
       "      <td>0.140965</td>\n",
       "      <td>0.085377</td>\n",
       "    </tr>\n",
       "    <tr>\n",
       "      <th>hypertension</th>\n",
       "      <td>-0.021485</td>\n",
       "      <td>-0.227529</td>\n",
       "      <td>1.000000</td>\n",
       "      <td>-0.111974</td>\n",
       "      <td>-0.164534</td>\n",
       "      <td>-0.073155</td>\n",
       "      <td>0.004755</td>\n",
       "      <td>-0.026456</td>\n",
       "      <td>-0.019053</td>\n",
       "      <td>-0.018090</td>\n",
       "    </tr>\n",
       "    <tr>\n",
       "      <th>heart_disease</th>\n",
       "      <td>0.086476</td>\n",
       "      <td>0.210886</td>\n",
       "      <td>-0.111974</td>\n",
       "      <td>1.000000</td>\n",
       "      <td>0.114765</td>\n",
       "      <td>0.056632</td>\n",
       "      <td>0.002125</td>\n",
       "      <td>0.019200</td>\n",
       "      <td>0.070082</td>\n",
       "      <td>0.016808</td>\n",
       "    </tr>\n",
       "    <tr>\n",
       "      <th>ever_married</th>\n",
       "      <td>-0.028971</td>\n",
       "      <td>0.537537</td>\n",
       "      <td>-0.164534</td>\n",
       "      <td>0.114765</td>\n",
       "      <td>1.000000</td>\n",
       "      <td>0.365538</td>\n",
       "      <td>0.008191</td>\n",
       "      <td>0.016706</td>\n",
       "      <td>0.120293</td>\n",
       "      <td>0.046520</td>\n",
       "    </tr>\n",
       "    <tr>\n",
       "      <th>work_type</th>\n",
       "      <td>-0.063684</td>\n",
       "      <td>0.271470</td>\n",
       "      <td>-0.073155</td>\n",
       "      <td>0.056632</td>\n",
       "      <td>0.365538</td>\n",
       "      <td>1.000000</td>\n",
       "      <td>-0.008475</td>\n",
       "      <td>0.017066</td>\n",
       "      <td>0.196876</td>\n",
       "      <td>-0.019969</td>\n",
       "    </tr>\n",
       "    <tr>\n",
       "      <th>Residence_type</th>\n",
       "      <td>-0.004301</td>\n",
       "      <td>0.023700</td>\n",
       "      <td>0.004755</td>\n",
       "      <td>0.002125</td>\n",
       "      <td>0.008191</td>\n",
       "      <td>-0.008475</td>\n",
       "      <td>1.000000</td>\n",
       "      <td>0.001438</td>\n",
       "      <td>-0.036646</td>\n",
       "      <td>-0.012773</td>\n",
       "    </tr>\n",
       "    <tr>\n",
       "      <th>avg_glucose_level</th>\n",
       "      <td>-0.003350</td>\n",
       "      <td>0.041936</td>\n",
       "      <td>-0.026456</td>\n",
       "      <td>0.019200</td>\n",
       "      <td>0.016706</td>\n",
       "      <td>0.017066</td>\n",
       "      <td>0.001438</td>\n",
       "      <td>1.000000</td>\n",
       "      <td>0.077228</td>\n",
       "      <td>0.006505</td>\n",
       "    </tr>\n",
       "    <tr>\n",
       "      <th>bmi</th>\n",
       "      <td>0.011963</td>\n",
       "      <td>0.140965</td>\n",
       "      <td>-0.019053</td>\n",
       "      <td>0.070082</td>\n",
       "      <td>0.120293</td>\n",
       "      <td>0.196876</td>\n",
       "      <td>-0.036646</td>\n",
       "      <td>0.077228</td>\n",
       "      <td>1.000000</td>\n",
       "      <td>-0.004289</td>\n",
       "    </tr>\n",
       "    <tr>\n",
       "      <th>smoking_status</th>\n",
       "      <td>0.021362</td>\n",
       "      <td>0.085377</td>\n",
       "      <td>-0.018090</td>\n",
       "      <td>0.016808</td>\n",
       "      <td>0.046520</td>\n",
       "      <td>-0.019969</td>\n",
       "      <td>-0.012773</td>\n",
       "      <td>0.006505</td>\n",
       "      <td>-0.004289</td>\n",
       "      <td>1.000000</td>\n",
       "    </tr>\n",
       "  </tbody>\n",
       "</table>\n",
       "</div>"
      ],
      "text/plain": [
       "                     gender       age  hypertension  heart_disease  \\\n",
       "gender             1.000000 -0.012168     -0.021485       0.086476   \n",
       "age               -0.012168  1.000000     -0.227529       0.210886   \n",
       "hypertension      -0.021485 -0.227529      1.000000      -0.111974   \n",
       "heart_disease      0.086476  0.210886     -0.111974       1.000000   \n",
       "ever_married      -0.028971  0.537537     -0.164534       0.114765   \n",
       "work_type         -0.063684  0.271470     -0.073155       0.056632   \n",
       "Residence_type    -0.004301  0.023700      0.004755       0.002125   \n",
       "avg_glucose_level -0.003350  0.041936     -0.026456       0.019200   \n",
       "bmi                0.011963  0.140965     -0.019053       0.070082   \n",
       "smoking_status     0.021362  0.085377     -0.018090       0.016808   \n",
       "\n",
       "                   ever_married  work_type  Residence_type  avg_glucose_level  \\\n",
       "gender                -0.028971  -0.063684       -0.004301          -0.003350   \n",
       "age                    0.537537   0.271470        0.023700           0.041936   \n",
       "hypertension          -0.164534  -0.073155        0.004755          -0.026456   \n",
       "heart_disease          0.114765   0.056632        0.002125           0.019200   \n",
       "ever_married           1.000000   0.365538        0.008191           0.016706   \n",
       "work_type              0.365538   1.000000       -0.008475           0.017066   \n",
       "Residence_type         0.008191  -0.008475        1.000000           0.001438   \n",
       "avg_glucose_level      0.016706   0.017066        0.001438           1.000000   \n",
       "bmi                    0.120293   0.196876       -0.036646           0.077228   \n",
       "smoking_status         0.046520  -0.019969       -0.012773           0.006505   \n",
       "\n",
       "                        bmi  smoking_status  \n",
       "gender             0.011963        0.021362  \n",
       "age                0.140965        0.085377  \n",
       "hypertension      -0.019053       -0.018090  \n",
       "heart_disease      0.070082        0.016808  \n",
       "ever_married       0.120293        0.046520  \n",
       "work_type          0.196876       -0.019969  \n",
       "Residence_type    -0.036646       -0.012773  \n",
       "avg_glucose_level  0.077228        0.006505  \n",
       "bmi                1.000000       -0.004289  \n",
       "smoking_status    -0.004289        1.000000  "
      ]
     },
     "execution_count": 33,
     "metadata": {},
     "output_type": "execute_result"
    }
   ],
   "source": [
    "#构造相关性矩阵\n",
    "corr=corrDf.corr()\n",
    "corr"
   ]
  },
  {
   "cell_type": "code",
   "execution_count": 34,
   "id": "2e339980",
   "metadata": {},
   "outputs": [
    {
     "data": {
      "image/png": "[encoded data removed]",
      "text/plain": [
       "<Figure size 800x400 with 2 Axes>"
      ]
     },
     "metadata": {
      "needs_background": "light"
     },
     "output_type": "display_data"
    }
   ],
   "source": [
    "#绘制相关系数热力地图\n",
    "plt.figure(figsize=(10,5),dpi=80)\n",
    "ax = sns.heatmap(corr,xticklabels=corr.columns,yticklabels=corr.columns,\n",
    "                linewidths=0.2,cmap=\"YlGnBu\",annot=True)\n",
    "plt.title(\"Correlation between variables\")\n",
    "plt.show()"
   ]
  },
  {
   "cell_type": "markdown",
   "id": "6e8f40ae",
   "metadata": {},
   "source": [
    "#### Conclusión: \n",
    "A partir de la figura anterior, se puede ver que la edad, el tipo de trabajo, el estado civil, las enfermedades cardíacas, la hipertensión y el tabaquismo tienen correlaciones relativamente fuertes."
   ]
  },
  {
   "cell_type": "code",
   "execution_count": 35,
   "id": "01827a0d",
   "metadata": {},
   "outputs": [
    {
     "data": {
      "text/html": [
       "<div>\n",
       "<style scoped>\n",
       "    .dataframe tbody tr th:only-of-type {\n",
       "        vertical-align: middle;\n",
       "    }\n",
       "\n",
       "    .dataframe tbody tr th {\n",
       "        vertical-align: top;\n",
       "    }\n",
       "\n",
       "    .dataframe thead th {\n",
       "        text-align: right;\n",
       "    }\n",
       "</style>\n",
       "<table border=\"1\" class=\"dataframe\">\n",
       "  <thead>\n",
       "    <tr style=\"text-align: right;\">\n",
       "      <th></th>\n",
       "      <th>age</th>\n",
       "      <th>hypertension</th>\n",
       "      <th>heart_disease</th>\n",
       "      <th>avg_glucose_level</th>\n",
       "      <th>bmi</th>\n",
       "      <th>stroke</th>\n",
       "      <th>ever_married_No</th>\n",
       "      <th>ever_married_Yes</th>\n",
       "      <th>work_type_Govt_job</th>\n",
       "      <th>work_type_Private</th>\n",
       "      <th>work_type_Self-employed</th>\n",
       "      <th>work_type_children</th>\n",
       "      <th>Residence_type_Rural</th>\n",
       "      <th>Residence_type_Urban</th>\n",
       "      <th>smoking_status_formerly smoked</th>\n",
       "      <th>smoking_status_never smoked</th>\n",
       "      <th>smoking_status_smokes</th>\n",
       "    </tr>\n",
       "  </thead>\n",
       "  <tbody>\n",
       "    <tr>\n",
       "      <th>0</th>\n",
       "      <td>67</td>\n",
       "      <td>0</td>\n",
       "      <td>1</td>\n",
       "      <td>228.69</td>\n",
       "      <td>36.6</td>\n",
       "      <td>1</td>\n",
       "      <td>0</td>\n",
       "      <td>1</td>\n",
       "      <td>0</td>\n",
       "      <td>1</td>\n",
       "      <td>0</td>\n",
       "      <td>0</td>\n",
       "      <td>0</td>\n",
       "      <td>1</td>\n",
       "      <td>1</td>\n",
       "      <td>0</td>\n",
       "      <td>0</td>\n",
       "    </tr>\n",
       "    <tr>\n",
       "      <th>1</th>\n",
       "      <td>80</td>\n",
       "      <td>0</td>\n",
       "      <td>1</td>\n",
       "      <td>105.92</td>\n",
       "      <td>32.5</td>\n",
       "      <td>1</td>\n",
       "      <td>0</td>\n",
       "      <td>1</td>\n",
       "      <td>0</td>\n",
       "      <td>1</td>\n",
       "      <td>0</td>\n",
       "      <td>0</td>\n",
       "      <td>1</td>\n",
       "      <td>0</td>\n",
       "      <td>0</td>\n",
       "      <td>1</td>\n",
       "      <td>0</td>\n",
       "    </tr>\n",
       "  </tbody>\n",
       "</table>\n",
       "</div>"
      ],
      "text/plain": [
       "   age  hypertension  heart_disease  avg_glucose_level   bmi  stroke  \\\n",
       "0   67             0              1             228.69  36.6       1   \n",
       "1   80             0              1             105.92  32.5       1   \n",
       "\n",
       "   ever_married_No  ever_married_Yes  work_type_Govt_job  work_type_Private  \\\n",
       "0                0                 1                   0                  1   \n",
       "1                0                 1                   0                  1   \n",
       "\n",
       "   work_type_Self-employed  work_type_children  Residence_type_Rural  \\\n",
       "0                        0                   0                     0   \n",
       "1                        0                   0                     1   \n",
       "\n",
       "   Residence_type_Urban  smoking_status_formerly smoked  \\\n",
       "0                     1                               1   \n",
       "1                     0                               0   \n",
       "\n",
       "   smoking_status_never smoked  smoking_status_smokes  \n",
       "0                            0                      0  \n",
       "1                            1                      0  "
      ]
     },
     "execution_count": 35,
     "metadata": {},
     "output_type": "execute_result"
    }
   ],
   "source": [
    "#使用one_hot编码查看数据之间的关系 Use la codificación one_hot para ver la relación entre los datos\n",
    "one_hot_data = pd.get_dummies(df.iloc[:,1:])\n",
    "one_hot_data.head(2)"
   ]
  },
  {
   "cell_type": "code",
   "execution_count": 36,
   "id": "0009616e",
   "metadata": {},
   "outputs": [
    {
     "data": {
      "image/png": "[encoded data removed]",
      "text/plain": [
       "<Figure size 864x360 with 1 Axes>"
      ]
     },
     "metadata": {
      "needs_background": "light"
     },
     "output_type": "display_data"
    }
   ],
   "source": [
    "#用户是否有中风与各变量之间的关系\n",
    "plt.figure(figsize=(12,5))\n",
    "one_hot_data.corr()[\"stroke\"].sort_values(ascending=False).plot(kind=\"bar\")\n",
    "plt.title(\"La relación entre si el usuario tuvo un ictus y cada variable\")\n",
    "plt.show()"
   ]
  },
  {
   "cell_type": "markdown",
   "id": "f1c675f5",
   "metadata": {},
   "source": [
    "#### Conclusión:\n",
    "Se puede observar que la relación entre accidente cerebrovascular y género y tipo de residencia es pequeña, lo que directamente se puede descartar, por el alto coeficiente de correlación entre situación laboral y freelance se mantiene."
   ]
  },
  {
   "cell_type": "code",
   "execution_count": 37,
   "id": "98a87964",
   "metadata": {},
   "outputs": [
    {
     "data": {
      "image/png": "[encoded data removed]",
      "text/plain": [
       "<Figure size 720x360 with 2 Axes>"
      ]
     },
     "metadata": {
      "needs_background": "light"
     },
     "output_type": "display_data"
    }
   ],
   "source": [
    "#中风与高血压和婚姻状态的关系\n",
    "coveriables=[\"hypertension\",\"ever_married\"]\n",
    "fig,axes=plt.subplots(nrows=1,ncols=2,figsize=(10,5))\n",
    "for i,item in enumerate(coveriables): #enumerate()函数用于将一个可遍历的数据对象(如列表、元组或字符串)组合为一个索引序列，同时列出数据和数据下标，一般用在 for 循环当中。\n",
    "    plt.subplot(1,2,(i+1))\n",
    "    ax = sns.countplot(x=item,hue=\"stroke\",data=df,palette=\"Pastel2\")\n",
    "    plt.xlabel(str(item))\n",
    "    plt.title(\"stroke by \"+str(item))\n",
    "    i=i+1\n",
    "    annot_plot(ax)\n",
    "plt.show()"
   ]
  },
  {
   "cell_type": "code",
   "execution_count": 38,
   "id": "415b5d26",
   "metadata": {},
   "outputs": [
    {
     "data": {
      "text/plain": [
       "<AxesSubplot:xlabel='age'>"
      ]
     },
     "execution_count": 38,
     "metadata": {},
     "output_type": "execute_result"
    },
    {
     "data": {
      "image/png": "[encoded data removed]",
      "text/plain": [
       "<Figure size 720x360 with 1 Axes>"
      ]
     },
     "metadata": {
      "needs_background": "light"
     },
     "output_type": "display_data"
    }
   ],
   "source": [
    "#求百分比绘图,更能准确反应区别\n",
    "n = len(df)+1\n",
    "nlist = range(1,n)\n",
    "df['id'] = nlist\n",
    "\n",
    "age_data = df.pivot_table(index=\"age\",columns=\"stroke\",values=\"id\",aggfunc=\"count\")\n",
    "age_data = age_data.apply(lambda x:x/x.sum())\n",
    "#绘制堆积面积图\n",
    "age_data.plot.area(figsize=(10,5))"
   ]
  },
  {
   "cell_type": "markdown",
   "id": "3a47fcfb",
   "metadata": {},
   "source": [
    "#### Conclusión: \n",
    "Se puede observar que con el aumento de la edad, la probabilidad de que un usuario sufra un ictus aumenta paulatinamente, tomando como límite los 40 años, a mayor edad mayor probabilidad de ictus.\n",
    "#### Para resumir: \n",
    "seleccionamos todas las características excepto el género y el tipo de residencia para la formación modelo"
   ]
  },
  {
   "cell_type": "markdown",
   "id": "0b562183",
   "metadata": {},
   "source": [
    "### Procesamiento de datos de características"
   ]
  },
  {
   "cell_type": "code",
   "execution_count": 39,
   "id": "72947da5",
   "metadata": {},
   "outputs": [
    {
     "data": {
      "text/html": [
       "<div>\n",
       "<style scoped>\n",
       "    .dataframe tbody tr th:only-of-type {\n",
       "        vertical-align: middle;\n",
       "    }\n",
       "\n",
       "    .dataframe tbody tr th {\n",
       "        vertical-align: top;\n",
       "    }\n",
       "\n",
       "    .dataframe thead th {\n",
       "        text-align: right;\n",
       "    }\n",
       "</style>\n",
       "<table border=\"1\" class=\"dataframe\">\n",
       "  <thead>\n",
       "    <tr style=\"text-align: right;\">\n",
       "      <th></th>\n",
       "      <th>age</th>\n",
       "      <th>hypertension</th>\n",
       "      <th>heart_disease</th>\n",
       "      <th>ever_married</th>\n",
       "      <th>work_type</th>\n",
       "      <th>avg_glucose_level</th>\n",
       "      <th>bmi</th>\n",
       "      <th>smoking_status</th>\n",
       "    </tr>\n",
       "  </thead>\n",
       "  <tbody>\n",
       "    <tr>\n",
       "      <th>0</th>\n",
       "      <td>67</td>\n",
       "      <td>0</td>\n",
       "      <td>1</td>\n",
       "      <td>Yes</td>\n",
       "      <td>Private</td>\n",
       "      <td>228.69</td>\n",
       "      <td>36.6</td>\n",
       "      <td>formerly smoked</td>\n",
       "    </tr>\n",
       "    <tr>\n",
       "      <th>1</th>\n",
       "      <td>80</td>\n",
       "      <td>0</td>\n",
       "      <td>1</td>\n",
       "      <td>Yes</td>\n",
       "      <td>Private</td>\n",
       "      <td>105.92</td>\n",
       "      <td>32.5</td>\n",
       "      <td>never smoked</td>\n",
       "    </tr>\n",
       "    <tr>\n",
       "      <th>2</th>\n",
       "      <td>49</td>\n",
       "      <td>0</td>\n",
       "      <td>0</td>\n",
       "      <td>Yes</td>\n",
       "      <td>Private</td>\n",
       "      <td>171.23</td>\n",
       "      <td>34.4</td>\n",
       "      <td>smokes</td>\n",
       "    </tr>\n",
       "    <tr>\n",
       "      <th>3</th>\n",
       "      <td>79</td>\n",
       "      <td>1</td>\n",
       "      <td>0</td>\n",
       "      <td>Yes</td>\n",
       "      <td>Self-employed</td>\n",
       "      <td>174.12</td>\n",
       "      <td>24.0</td>\n",
       "      <td>never smoked</td>\n",
       "    </tr>\n",
       "    <tr>\n",
       "      <th>4</th>\n",
       "      <td>81</td>\n",
       "      <td>0</td>\n",
       "      <td>0</td>\n",
       "      <td>Yes</td>\n",
       "      <td>Private</td>\n",
       "      <td>186.21</td>\n",
       "      <td>29.0</td>\n",
       "      <td>formerly smoked</td>\n",
       "    </tr>\n",
       "  </tbody>\n",
       "</table>\n",
       "</div>"
      ],
      "text/plain": [
       "   age  hypertension  heart_disease ever_married      work_type  \\\n",
       "0   67             0              1          Yes        Private   \n",
       "1   80             0              1          Yes        Private   \n",
       "2   49             0              0          Yes        Private   \n",
       "3   79             1              0          Yes  Self-employed   \n",
       "4   81             0              0          Yes        Private   \n",
       "\n",
       "   avg_glucose_level   bmi   smoking_status  \n",
       "0             228.69  36.6  formerly smoked  \n",
       "1             105.92  32.5     never smoked  \n",
       "2             171.23  34.4           smokes  \n",
       "3             174.12  24.0     never smoked  \n",
       "4             186.21  29.0  formerly smoked  "
      ]
     },
     "execution_count": 39,
     "metadata": {},
     "output_type": "execute_result"
    }
   ],
   "source": [
    "data_comvar = df.drop([\"id\",\"gender\",\"Residence_type\",\"stroke\"],axis=1)\n",
    "data_comvar.head(5)"
   ]
  },
  {
   "cell_type": "code",
   "execution_count": 40,
   "id": "c4333a31",
   "metadata": {},
   "outputs": [
    {
     "data": {
      "text/plain": [
       "array([[ 1.04011079e+00,  2.72341090e+00,  1.19323816e+00],\n",
       "       [ 1.61326088e+00, -5.22766599e-04,  5.89389611e-01],\n",
       "       [ 2.46518357e-01,  1.44852918e+00,  8.69221866e-01],\n",
       "       ...,\n",
       "       [ 7.01644829e-02, -2.42364234e-01,  4.86293516e-01],\n",
       "       [-1.50277859e-01, -4.88199415e-01,  2.21189274e-01],\n",
       "       [ 1.61326088e+00, -4.92415000e-01,  8.86371531e-02]])"
      ]
     },
     "execution_count": 40,
     "metadata": {},
     "output_type": "execute_result"
    }
   ],
   "source": [
    "#对连续变量进行标准化处理 Estandarizar Variables Continuas\n",
    "scaler = StandardScaler(copy=False)\n",
    "#fit_transform()先拟合数据，然后转化数据将其变成标准形式 Ajuste los datos primero, luego transforme los datos en una forma estándar\n",
    "scaler.fit_transform(data_comvar[[\"age\",\"avg_glucose_level\",\"bmi\"]])"
   ]
  },
  {
   "cell_type": "code",
   "execution_count": 41,
   "id": "8991b0aa",
   "metadata": {},
   "outputs": [
    {
     "data": {
      "text/html": [
       "<div>\n",
       "<style scoped>\n",
       "    .dataframe tbody tr th:only-of-type {\n",
       "        vertical-align: middle;\n",
       "    }\n",
       "\n",
       "    .dataframe tbody tr th {\n",
       "        vertical-align: top;\n",
       "    }\n",
       "\n",
       "    .dataframe thead th {\n",
       "        text-align: right;\n",
       "    }\n",
       "</style>\n",
       "<table border=\"1\" class=\"dataframe\">\n",
       "  <thead>\n",
       "    <tr style=\"text-align: right;\">\n",
       "      <th></th>\n",
       "      <th>age</th>\n",
       "      <th>avg_glucose_level</th>\n",
       "      <th>bmi</th>\n",
       "    </tr>\n",
       "  </thead>\n",
       "  <tbody>\n",
       "    <tr>\n",
       "      <th>0</th>\n",
       "      <td>1.040111</td>\n",
       "      <td>2.723411</td>\n",
       "      <td>1.193238</td>\n",
       "    </tr>\n",
       "    <tr>\n",
       "      <th>1</th>\n",
       "      <td>1.613261</td>\n",
       "      <td>-0.000523</td>\n",
       "      <td>0.589390</td>\n",
       "    </tr>\n",
       "    <tr>\n",
       "      <th>2</th>\n",
       "      <td>0.246518</td>\n",
       "      <td>1.448529</td>\n",
       "      <td>0.869222</td>\n",
       "    </tr>\n",
       "    <tr>\n",
       "      <th>3</th>\n",
       "      <td>1.569172</td>\n",
       "      <td>1.512650</td>\n",
       "      <td>-0.662492</td>\n",
       "    </tr>\n",
       "    <tr>\n",
       "      <th>4</th>\n",
       "      <td>1.657349</td>\n",
       "      <td>1.780895</td>\n",
       "      <td>0.073909</td>\n",
       "    </tr>\n",
       "    <tr>\n",
       "      <th>...</th>\n",
       "      <td>...</td>\n",
       "      <td>...</td>\n",
       "      <td>...</td>\n",
       "    </tr>\n",
       "    <tr>\n",
       "      <th>4976</th>\n",
       "      <td>-0.106189</td>\n",
       "      <td>-0.794162</td>\n",
       "      <td>0.191733</td>\n",
       "    </tr>\n",
       "    <tr>\n",
       "      <th>4977</th>\n",
       "      <td>-0.150278</td>\n",
       "      <td>1.890500</td>\n",
       "      <td>0.383197</td>\n",
       "    </tr>\n",
       "    <tr>\n",
       "      <th>4978</th>\n",
       "      <td>0.070164</td>\n",
       "      <td>-0.242364</td>\n",
       "      <td>0.486294</td>\n",
       "    </tr>\n",
       "    <tr>\n",
       "      <th>4979</th>\n",
       "      <td>-0.150278</td>\n",
       "      <td>-0.488199</td>\n",
       "      <td>0.221189</td>\n",
       "    </tr>\n",
       "    <tr>\n",
       "      <th>4980</th>\n",
       "      <td>1.613261</td>\n",
       "      <td>-0.492415</td>\n",
       "      <td>0.088637</td>\n",
       "    </tr>\n",
       "  </tbody>\n",
       "</table>\n",
       "<p>4981 rows × 3 columns</p>\n",
       "</div>"
      ],
      "text/plain": [
       "           age  avg_glucose_level       bmi\n",
       "0     1.040111           2.723411  1.193238\n",
       "1     1.613261          -0.000523  0.589390\n",
       "2     0.246518           1.448529  0.869222\n",
       "3     1.569172           1.512650 -0.662492\n",
       "4     1.657349           1.780895  0.073909\n",
       "...        ...                ...       ...\n",
       "4976 -0.106189          -0.794162  0.191733\n",
       "4977 -0.150278           1.890500  0.383197\n",
       "4978  0.070164          -0.242364  0.486294\n",
       "4979 -0.150278          -0.488199  0.221189\n",
       "4980  1.613261          -0.492415  0.088637\n",
       "\n",
       "[4981 rows x 3 columns]"
      ]
     },
     "execution_count": 41,
     "metadata": {},
     "output_type": "execute_result"
    }
   ],
   "source": [
    "#替换数据\n",
    "data_comvar[[\"age\",\"avg_glucose_level\",\"bmi\"]] = scaler.fit_transform(data_comvar[[\"age\",\"avg_glucose_level\",\"bmi\"]])\n",
    "data_comvar[[\"age\",\"avg_glucose_level\",\"bmi\"]]"
   ]
  },
  {
   "cell_type": "code",
   "execution_count": 42,
   "id": "1da63ab7",
   "metadata": {},
   "outputs": [
    {
     "data": {
      "image/png": "[encoded data removed]",
      "text/plain": [
       "<Figure size 640x320 with 1 Axes>"
      ]
     },
     "metadata": {
      "needs_background": "light"
     },
     "output_type": "display_data"
    }
   ],
   "source": [
    "#使用箱线图查看是否存在异常值 Use un diagrama de caja para ver si hay valores atípicos\n",
    "plt.figure(figsize=(8,4),dpi=80)\n",
    "numbox=sns.boxplot(data=data_comvar[[\"age\",\"avg_glucose_level\",\"bmi\"]],palette=\"Set2\")\n",
    "plt.title(\"Edad, nivel medio en sangre y distribución del bmi\")\n",
    "plt.show()"
   ]
  },
  {
   "cell_type": "markdown",
   "id": "940b2b1c",
   "metadata": {},
   "source": [
    "Hay muchos valores atípicos en el índice de avg_glucose_level, pero no necesariamente son valores atípicos. También hay algunos valores atípicos en bmi, y la distribución por edades es normal. Aquí, para entrenar el modelo, eliminamos los valores que son tanto en sangre como en sangre. niveles de glucosa y valores atípicos de bmi."
   ]
  },
  {
   "cell_type": "code",
   "execution_count": 43,
   "id": "9ca52662",
   "metadata": {},
   "outputs": [],
   "source": [
    "def detect_outliers(data,n,features):\n",
    "    outlier_indices=[]\n",
    "    for col in features:\n",
    "        #第一个四分位点\n",
    "        #Q1 = data[col].describe()[\"25%\"]\n",
    "        Q1=np.percentile(data[col],25)\n",
    "        #第三个四分卫点\n",
    "        #Q3 = data[col].describe()[\"75%\"]\n",
    "        Q3=np.percentile(data[col],75)\n",
    "        IQR = Q3-Q1\n",
    "        #极端上限和下限\n",
    "        lower_limit = Q1-1.5*IQR\n",
    "        upper_limit = Q3+1.5*IQR\n",
    "        #查询异常值的索引\n",
    "        outlier_col = data[(data[col]<lower_limit)|(data[col]>upper_limit)].index\n",
    "        #保存\n",
    "        outlier_indices.extend(outlier_col)\n",
    "    from collections import Counter\n",
    "    outlier_indices = Counter(outlier_indices)\n",
    "    #若被n特特征同时判定为异常点才输出\n",
    "    more_outliers = list(k for k,v in outlier_indices.items() if v>=n)\n",
    "    return more_outliers"
   ]
  },
  {
   "cell_type": "code",
   "execution_count": 44,
   "id": "3287ccb6",
   "metadata": {},
   "outputs": [
    {
     "data": {
      "text/plain": [
       "[17, 53, 154, 368, 1411, 2116, 2683, 3341, 3683, 3994, 4329]"
      ]
     },
     "execution_count": 44,
     "metadata": {},
     "output_type": "execute_result"
    }
   ],
   "source": [
    "#异常值的索引 índice de valores atípicos\n",
    "outliers = detect_outliers(data_comvar,2,[\"avg_glucose_level\",\"bmi\"])\n",
    "outliers"
   ]
  },
  {
   "cell_type": "markdown",
   "id": "8c540f9c",
   "metadata": {},
   "source": [
    "### eliminar valores atípicos"
   ]
  },
  {
   "cell_type": "code",
   "execution_count": 45,
   "id": "ba067bdd",
   "metadata": {},
   "outputs": [
    {
     "data": {
      "text/html": [
       "<div>\n",
       "<style scoped>\n",
       "    .dataframe tbody tr th:only-of-type {\n",
       "        vertical-align: middle;\n",
       "    }\n",
       "\n",
       "    .dataframe tbody tr th {\n",
       "        vertical-align: top;\n",
       "    }\n",
       "\n",
       "    .dataframe thead th {\n",
       "        text-align: right;\n",
       "    }\n",
       "</style>\n",
       "<table border=\"1\" class=\"dataframe\">\n",
       "  <thead>\n",
       "    <tr style=\"text-align: right;\">\n",
       "      <th></th>\n",
       "      <th>age</th>\n",
       "      <th>hypertension</th>\n",
       "      <th>heart_disease</th>\n",
       "      <th>ever_married</th>\n",
       "      <th>work_type</th>\n",
       "      <th>avg_glucose_level</th>\n",
       "      <th>bmi</th>\n",
       "      <th>smoking_status</th>\n",
       "    </tr>\n",
       "  </thead>\n",
       "  <tbody>\n",
       "    <tr>\n",
       "      <th>0</th>\n",
       "      <td>1.040111</td>\n",
       "      <td>0</td>\n",
       "      <td>1</td>\n",
       "      <td>Yes</td>\n",
       "      <td>Private</td>\n",
       "      <td>2.723411</td>\n",
       "      <td>1.193238</td>\n",
       "      <td>formerly smoked</td>\n",
       "    </tr>\n",
       "    <tr>\n",
       "      <th>1</th>\n",
       "      <td>1.613261</td>\n",
       "      <td>0</td>\n",
       "      <td>1</td>\n",
       "      <td>Yes</td>\n",
       "      <td>Private</td>\n",
       "      <td>-0.000523</td>\n",
       "      <td>0.589390</td>\n",
       "      <td>never smoked</td>\n",
       "    </tr>\n",
       "  </tbody>\n",
       "</table>\n",
       "</div>"
      ],
      "text/plain": [
       "        age  hypertension  heart_disease ever_married work_type  \\\n",
       "0  1.040111             0              1          Yes   Private   \n",
       "1  1.613261             0              1          Yes   Private   \n",
       "\n",
       "   avg_glucose_level       bmi   smoking_status  \n",
       "0           2.723411  1.193238  formerly smoked  \n",
       "1          -0.000523  0.589390     never smoked  "
      ]
     },
     "execution_count": 45,
     "metadata": {},
     "output_type": "execute_result"
    }
   ],
   "source": [
    "#Eliminar valores atípicos de conjuntos de datos de entidades\n",
    "data_comvar = data_comvar.drop(outliers,axis=0).reset_index(drop=True)\n",
    "data_comvar.head(2)"
   ]
  },
  {
   "cell_type": "code",
   "execution_count": 46,
   "id": "77192038",
   "metadata": {},
   "outputs": [
    {
     "data": {
      "text/html": [
       "<div>\n",
       "<style scoped>\n",
       "    .dataframe tbody tr th:only-of-type {\n",
       "        vertical-align: middle;\n",
       "    }\n",
       "\n",
       "    .dataframe tbody tr th {\n",
       "        vertical-align: top;\n",
       "    }\n",
       "\n",
       "    .dataframe thead th {\n",
       "        text-align: right;\n",
       "    }\n",
       "</style>\n",
       "<table border=\"1\" class=\"dataframe\">\n",
       "  <thead>\n",
       "    <tr style=\"text-align: right;\">\n",
       "      <th></th>\n",
       "      <th>gender</th>\n",
       "      <th>age</th>\n",
       "      <th>hypertension</th>\n",
       "      <th>heart_disease</th>\n",
       "      <th>ever_married</th>\n",
       "      <th>work_type</th>\n",
       "      <th>Residence_type</th>\n",
       "      <th>avg_glucose_level</th>\n",
       "      <th>bmi</th>\n",
       "      <th>smoking_status</th>\n",
       "      <th>stroke</th>\n",
       "      <th>id</th>\n",
       "    </tr>\n",
       "  </thead>\n",
       "  <tbody>\n",
       "    <tr>\n",
       "      <th>0</th>\n",
       "      <td>Male</td>\n",
       "      <td>67</td>\n",
       "      <td>0</td>\n",
       "      <td>1</td>\n",
       "      <td>Yes</td>\n",
       "      <td>Private</td>\n",
       "      <td>Urban</td>\n",
       "      <td>228.69</td>\n",
       "      <td>36.6</td>\n",
       "      <td>formerly smoked</td>\n",
       "      <td>1</td>\n",
       "      <td>1</td>\n",
       "    </tr>\n",
       "    <tr>\n",
       "      <th>1</th>\n",
       "      <td>Male</td>\n",
       "      <td>80</td>\n",
       "      <td>0</td>\n",
       "      <td>1</td>\n",
       "      <td>Yes</td>\n",
       "      <td>Private</td>\n",
       "      <td>Rural</td>\n",
       "      <td>105.92</td>\n",
       "      <td>32.5</td>\n",
       "      <td>never smoked</td>\n",
       "      <td>1</td>\n",
       "      <td>2</td>\n",
       "    </tr>\n",
       "  </tbody>\n",
       "</table>\n",
       "</div>"
      ],
      "text/plain": [
       "  gender  age  hypertension  heart_disease ever_married work_type  \\\n",
       "0   Male   67             0              1          Yes   Private   \n",
       "1   Male   80             0              1          Yes   Private   \n",
       "\n",
       "  Residence_type  avg_glucose_level   bmi   smoking_status  stroke  id  \n",
       "0          Urban             228.69  36.6  formerly smoked       1   1  \n",
       "1          Rural             105.92  32.5     never smoked       1   2  "
      ]
     },
     "execution_count": 46,
     "metadata": {},
     "output_type": "execute_result"
    }
   ],
   "source": [
    "#Eliminar valores atípicos del conjunto de datos original\n",
    "data = df.drop(outliers,axis=0).reset_index(drop=True)\n",
    "data.head(2)"
   ]
  },
  {
   "cell_type": "code",
   "execution_count": 47,
   "id": "cb90e846",
   "metadata": {},
   "outputs": [
    {
     "data": {
      "image/png": "[encoded data removed]",
      "text/plain": [
       "<Figure size 640x320 with 1 Axes>"
      ]
     },
     "metadata": {
      "needs_background": "light"
     },
     "output_type": "display_data"
    }
   ],
   "source": [
    "#检查异常值是否清理完成 Comprobar si los valores atípicos se limpian\n",
    "plt.figure(figsize=(8,4),dpi=80)\n",
    "numbox = sns.boxplot(data = data_comvar[[\"avg_glucose_level\",\"bmi\"]],palette=\"Set2\")\n",
    "plt.title(\"Compruebe la distribución de los niveles de glucosa en sangre y los valores atípicos de bmi después de la limpieza\")\n",
    "plt.show()"
   ]
  },
  {
   "cell_type": "code",
   "execution_count": 48,
   "id": "436e7d58",
   "metadata": {},
   "outputs": [
    {
     "name": "stdout",
     "output_type": "stream",
     "text": [
      "ever_married ----- ['Yes' 'No']\n",
      "work_type ----- ['Private' 'Self-employed' 'Govt_job' 'children']\n",
      "smoking_status ----- ['formerly smoked' 'never smoked' 'smokes']\n"
     ]
    }
   ],
   "source": [
    "#查看对象类型字段里面存在的值\n",
    "#Ver el valor que existe en el tipo de objeto\n",
    "def uni(columnlabel):\n",
    "    print(columnlabel,\"-----\",data_comvar[columnlabel].unique())\n",
    "data_comvar_object = data_comvar.select_dtypes([\"object\"])\n",
    "for i in range(0,len(data_comvar_object.columns)):\n",
    "    uni(data_comvar_object.columns[i])"
   ]
  },
  {
   "cell_type": "markdown",
   "id": "f222f1d1",
   "metadata": {},
   "source": [
    "#### Regularización y etiquetado de datos"
   ]
  },
  {
   "cell_type": "code",
   "execution_count": 49,
   "id": "9b04c6e0",
   "metadata": {},
   "outputs": [
    {
     "name": "stdout",
     "output_type": "stream",
     "text": [
      "ever_married ----- [1 0]\n",
      "work_type ----- [1 2 0 3]\n",
      "smoking_status ----- [0 1 2]\n"
     ]
    }
   ],
   "source": [
    "#使用scikit_learn标签编码，将分类数据转换为整数编码\n",
    "def labelencode(columnlabel):\n",
    "    data_comvar[columnlabel] = LabelEncoder().fit_transform(data_comvar[columnlabel])\n",
    "#进行标签编码：\n",
    "for i in range(0,len(data_comvar_object.columns)):\n",
    "    labelencode(data_comvar_object.columns[i])\n",
    "#展示\n",
    "for i in range(0,len(data_comvar_object.columns)):\n",
    "    uni(data_comvar_object.columns[i])"
   ]
  },
  {
   "cell_type": "code",
   "execution_count": 50,
   "id": "da09233a",
   "metadata": {},
   "outputs": [
    {
     "data": {
      "text/html": [
       "<div>\n",
       "<style scoped>\n",
       "    .dataframe tbody tr th:only-of-type {\n",
       "        vertical-align: middle;\n",
       "    }\n",
       "\n",
       "    .dataframe tbody tr th {\n",
       "        vertical-align: top;\n",
       "    }\n",
       "\n",
       "    .dataframe thead th {\n",
       "        text-align: right;\n",
       "    }\n",
       "</style>\n",
       "<table border=\"1\" class=\"dataframe\">\n",
       "  <thead>\n",
       "    <tr style=\"text-align: right;\">\n",
       "      <th></th>\n",
       "      <th>age</th>\n",
       "      <th>hypertension</th>\n",
       "      <th>heart_disease</th>\n",
       "      <th>ever_married</th>\n",
       "      <th>work_type</th>\n",
       "      <th>avg_glucose_level</th>\n",
       "      <th>bmi</th>\n",
       "      <th>smoking_status</th>\n",
       "    </tr>\n",
       "  </thead>\n",
       "  <tbody>\n",
       "    <tr>\n",
       "      <th>0</th>\n",
       "      <td>1.040111</td>\n",
       "      <td>0</td>\n",
       "      <td>1</td>\n",
       "      <td>1</td>\n",
       "      <td>1</td>\n",
       "      <td>2.723411</td>\n",
       "      <td>1.193238</td>\n",
       "      <td>0</td>\n",
       "    </tr>\n",
       "    <tr>\n",
       "      <th>1</th>\n",
       "      <td>1.613261</td>\n",
       "      <td>0</td>\n",
       "      <td>1</td>\n",
       "      <td>1</td>\n",
       "      <td>1</td>\n",
       "      <td>-0.000523</td>\n",
       "      <td>0.589390</td>\n",
       "      <td>1</td>\n",
       "    </tr>\n",
       "    <tr>\n",
       "      <th>2</th>\n",
       "      <td>0.246518</td>\n",
       "      <td>0</td>\n",
       "      <td>0</td>\n",
       "      <td>1</td>\n",
       "      <td>1</td>\n",
       "      <td>1.448529</td>\n",
       "      <td>0.869222</td>\n",
       "      <td>2</td>\n",
       "    </tr>\n",
       "    <tr>\n",
       "      <th>3</th>\n",
       "      <td>1.569172</td>\n",
       "      <td>1</td>\n",
       "      <td>0</td>\n",
       "      <td>1</td>\n",
       "      <td>2</td>\n",
       "      <td>1.512650</td>\n",
       "      <td>-0.662492</td>\n",
       "      <td>1</td>\n",
       "    </tr>\n",
       "    <tr>\n",
       "      <th>4</th>\n",
       "      <td>1.657349</td>\n",
       "      <td>0</td>\n",
       "      <td>0</td>\n",
       "      <td>1</td>\n",
       "      <td>1</td>\n",
       "      <td>1.780895</td>\n",
       "      <td>0.073909</td>\n",
       "      <td>0</td>\n",
       "    </tr>\n",
       "  </tbody>\n",
       "</table>\n",
       "</div>"
      ],
      "text/plain": [
       "        age  hypertension  heart_disease  ever_married  work_type  \\\n",
       "0  1.040111             0              1             1          1   \n",
       "1  1.613261             0              1             1          1   \n",
       "2  0.246518             0              0             1          1   \n",
       "3  1.569172             1              0             1          2   \n",
       "4  1.657349             0              0             1          1   \n",
       "\n",
       "   avg_glucose_level       bmi  smoking_status  \n",
       "0           2.723411  1.193238               0  \n",
       "1          -0.000523  0.589390               1  \n",
       "2           1.448529  0.869222               2  \n",
       "3           1.512650 -0.662492               1  \n",
       "4           1.780895  0.073909               0  "
      ]
     },
     "execution_count": 50,
     "metadata": {},
     "output_type": "execute_result"
    }
   ],
   "source": [
    "data_comvar.head()\n"
   ]
  },
  {
   "cell_type": "markdown",
   "id": "49105440",
   "metadata": {},
   "source": [
    "### Construye el modelo"
   ]
  },
  {
   "cell_type": "code",
   "execution_count": 53,
   "id": "36f413d7",
   "metadata": {},
   "outputs": [
    {
     "name": "stdout",
     "output_type": "stream",
     "text": [
      "StratifiedShuffleSplit(n_splits=5, random_state=0, test_size=0.2,\n",
      "            train_size=None)\n",
      "El número de grupos en los que se dividen los conjuntos de datos de entrenamiento y prueba： 5\n"
     ]
    }
   ],
   "source": [
    "X=data_comvar\n",
    "y=data[\"stroke\"].values\n",
    "\n",
    "spl = StratifiedShuffleSplit(n_splits=5,test_size=0.2,random_state=0)\n",
    "print(spl)\n",
    "print(\"El número de grupos en los que se dividen los conjuntos de datos de entrenamiento y prueba：\",spl.get_n_splits(X,y))"
   ]
  },
  {
   "cell_type": "code",
   "execution_count": null,
   "id": "3e903d20",
   "metadata": {},
   "outputs": [],
   "source": []
  },
  {
   "cell_type": "code",
   "execution_count": 59,
   "id": "fc9f703f",
   "metadata": {},
   "outputs": [],
   "source": [
    "from sklearn.model_selection import train_test_split, GridSearchCV\n",
    "from sklearn.preprocessing import MinMaxScaler\n",
    "\n",
    "from sklearn.linear_model import LogisticRegression\n",
    "from sklearn.neighbors import KNeighborsClassifier\n",
    "from sklearn.svm import SVC\n",
    "from sklearn.tree import DecisionTreeClassifier\n",
    "\n",
    "from sklearn.tree import plot_tree, export_text\n",
    "from sklearn.metrics import confusion_matrix, classification_report, accuracy_score, roc_curve, roc_auc_score"
   ]
  },
  {
   "cell_type": "code",
   "execution_count": 60,
   "id": "493987b5",
   "metadata": {},
   "outputs": [],
   "source": [
    "X_train, X_test, y_train, y_test = train_test_split(X,y, test_size=0.3, random_state= 0)\n"
   ]
  },
  {
   "cell_type": "code",
   "execution_count": 58,
   "id": "0f595589",
   "metadata": {},
   "outputs": [
    {
     "name": "stdout",
     "output_type": "stream",
     "text": [
      "X_train shape: (3976, 8)\n",
      "y_train shape: (3976,)\n",
      "X_test shape: (994, 8)\n",
      "y_test: (994,)\n"
     ]
    }
   ],
   "source": [
    "#Train\n",
    "print('X_train shape:',X_train.shape)\n",
    "print('y_train shape:',y_train.shape)\n",
    "\n",
    "#Test\n",
    "print('X_test shape:',X_test.shape)\n",
    "print('y_test:',y_test.shape)"
   ]
  },
  {
   "cell_type": "code",
   "execution_count": 65,
   "id": "983bcac6",
   "metadata": {},
   "outputs": [
    {
     "name": "stdout",
     "output_type": "stream",
     "text": [
      "(6596, 8) (6596,)\n"
     ]
    }
   ],
   "source": [
    "#Usando SMOTE para lidiar con el problema del desequilibrio de datos\n",
    "smo = SMOTE(random_state=42)\n",
    "x_smo,y_smo = smo.fit_resample(X_train,y_train)\n",
    "print(x_smo.shape,y_smo.shape)"
   ]
  },
  {
   "cell_type": "markdown",
   "id": "e8a52af6",
   "metadata": {},
   "source": [
    "### Elija un modelo de algoritmo"
   ]
  },
  {
   "cell_type": "code",
   "execution_count": 70,
   "id": "2e909956",
   "metadata": {},
   "outputs": [],
   "source": [
    "Classifiers=[\n",
    "    [\"Random Forest\",RandomForestClassifier()],\n",
    "    [\"Support Vector Machine\",SVC()],\n",
    "    [\"LogisticRegression\",LogisticRegression()],\n",
    "    [\"KNN\",KNeighborsClassifier()],\n",
    "    [\"Naive Bayes\",GaussianNB()],\n",
    "    [\"Decision Tree\",DecisionTreeClassifier()],\n",
    "    [\"AdaBoostClassifier\",AdaBoostClassifier()],\n",
    "    [\"GradientBoostingClassifier\",GradientBoostingClassifier()],\n",
    "    [\"XGB\",XGBClassifier()],\n",
    "    [\"CatBoost\",CatBoostClassifier()]\n",
    "]"
   ]
  },
  {
   "cell_type": "markdown",
   "id": "47d655e8",
   "metadata": {},
   "source": [
    "### Sustituir los datos de entrenamiento para entrenar el modelo"
   ]
  },
  {
   "cell_type": "code",
   "execution_count": 75,
   "id": "6037922e",
   "metadata": {},
   "outputs": [
    {
     "name": "stdout",
     "output_type": "stream",
     "text": [
      "Learning rate set to 0.023055\n",
      "0:\tlearn: 0.6798120\ttotal: 5.71ms\tremaining: 5.7s\n",
      "1:\tlearn: 0.6677408\ttotal: 9.84ms\tremaining: 4.91s\n",
      "2:\tlearn: 0.6555688\ttotal: 13ms\tremaining: 4.32s\n",
      "3:\tlearn: 0.6442200\ttotal: 16.5ms\tremaining: 4.12s\n",
      "4:\tlearn: 0.6306220\ttotal: 19.5ms\tremaining: 3.88s\n",
      "5:\tlearn: 0.6200710\ttotal: 22.5ms\tremaining: 3.73s\n",
      "6:\tlearn: 0.6102209\ttotal: 25.9ms\tremaining: 3.67s\n",
      "7:\tlearn: 0.6000638\ttotal: 29ms\tremaining: 3.59s\n",
      "8:\tlearn: 0.5912234\ttotal: 32.5ms\tremaining: 3.58s\n",
      "9:\tlearn: 0.5824152\ttotal: 35.8ms\tremaining: 3.55s\n",
      "10:\tlearn: 0.5737445\ttotal: 40.4ms\tremaining: 3.63s\n",
      "11:\tlearn: 0.5660300\ttotal: 44.8ms\tremaining: 3.69s\n",
      "12:\tlearn: 0.5574727\ttotal: 49.3ms\tremaining: 3.75s\n",
      "13:\tlearn: 0.5509804\ttotal: 53.4ms\tremaining: 3.76s\n",
      "14:\tlearn: 0.5448103\ttotal: 57ms\tremaining: 3.74s\n",
      "15:\tlearn: 0.5385222\ttotal: 59.9ms\tremaining: 3.69s\n",
      "16:\tlearn: 0.5323218\ttotal: 63.2ms\tremaining: 3.66s\n",
      "17:\tlearn: 0.5260961\ttotal: 66.4ms\tremaining: 3.63s\n",
      "18:\tlearn: 0.5214479\ttotal: 69.4ms\tremaining: 3.58s\n",
      "19:\tlearn: 0.5156946\ttotal: 73.6ms\tremaining: 3.6s\n",
      "20:\tlearn: 0.5105938\ttotal: 76.5ms\tremaining: 3.56s\n",
      "21:\tlearn: 0.5058105\ttotal: 80.1ms\tremaining: 3.56s\n",
      "22:\tlearn: 0.5017845\ttotal: 83.6ms\tremaining: 3.55s\n",
      "23:\tlearn: 0.4976739\ttotal: 89.5ms\tremaining: 3.64s\n",
      "24:\tlearn: 0.4934543\ttotal: 94.1ms\tremaining: 3.67s\n",
      "25:\tlearn: 0.4890837\ttotal: 98.9ms\tremaining: 3.71s\n",
      "26:\tlearn: 0.4850831\ttotal: 102ms\tremaining: 3.68s\n",
      "27:\tlearn: 0.4810470\ttotal: 106ms\tremaining: 3.67s\n",
      "28:\tlearn: 0.4779521\ttotal: 109ms\tremaining: 3.65s\n",
      "29:\tlearn: 0.4740203\ttotal: 112ms\tremaining: 3.63s\n",
      "30:\tlearn: 0.4706047\ttotal: 115ms\tremaining: 3.6s\n",
      "31:\tlearn: 0.4674778\ttotal: 119ms\tremaining: 3.6s\n",
      "32:\tlearn: 0.4643057\ttotal: 122ms\tremaining: 3.58s\n",
      "33:\tlearn: 0.4606577\ttotal: 125ms\tremaining: 3.56s\n",
      "34:\tlearn: 0.4586028\ttotal: 129ms\tremaining: 3.56s\n",
      "35:\tlearn: 0.4557924\ttotal: 134ms\tremaining: 3.58s\n",
      "36:\tlearn: 0.4531542\ttotal: 139ms\tremaining: 3.61s\n",
      "37:\tlearn: 0.4499833\ttotal: 144ms\tremaining: 3.65s\n",
      "38:\tlearn: 0.4477677\ttotal: 148ms\tremaining: 3.65s\n",
      "39:\tlearn: 0.4450089\ttotal: 151ms\tremaining: 3.63s\n",
      "40:\tlearn: 0.4427793\ttotal: 154ms\tremaining: 3.61s\n",
      "41:\tlearn: 0.4406784\ttotal: 158ms\tremaining: 3.6s\n",
      "42:\tlearn: 0.4382131\ttotal: 162ms\tremaining: 3.62s\n",
      "43:\tlearn: 0.4365313\ttotal: 168ms\tremaining: 3.66s\n",
      "44:\tlearn: 0.4343037\ttotal: 171ms\tremaining: 3.63s\n",
      "45:\tlearn: 0.4322855\ttotal: 174ms\tremaining: 3.62s\n",
      "46:\tlearn: 0.4304805\ttotal: 177ms\tremaining: 3.59s\n",
      "47:\tlearn: 0.4289712\ttotal: 182ms\tremaining: 3.61s\n",
      "48:\tlearn: 0.4277456\ttotal: 187ms\tremaining: 3.63s\n",
      "49:\tlearn: 0.4259993\ttotal: 196ms\tremaining: 3.73s\n",
      "50:\tlearn: 0.4242627\ttotal: 202ms\tremaining: 3.75s\n",
      "51:\tlearn: 0.4225024\ttotal: 207ms\tremaining: 3.77s\n",
      "52:\tlearn: 0.4208143\ttotal: 210ms\tremaining: 3.76s\n",
      "53:\tlearn: 0.4195420\ttotal: 217ms\tremaining: 3.8s\n",
      "54:\tlearn: 0.4181683\ttotal: 221ms\tremaining: 3.8s\n",
      "55:\tlearn: 0.4169784\ttotal: 234ms\tremaining: 3.95s\n",
      "56:\tlearn: 0.4155727\ttotal: 252ms\tremaining: 4.16s\n",
      "57:\tlearn: 0.4143235\ttotal: 257ms\tremaining: 4.17s\n",
      "58:\tlearn: 0.4128251\ttotal: 261ms\tremaining: 4.16s\n",
      "59:\tlearn: 0.4113588\ttotal: 264ms\tremaining: 4.14s\n",
      "60:\tlearn: 0.4098490\ttotal: 267ms\tremaining: 4.11s\n",
      "61:\tlearn: 0.4089274\ttotal: 271ms\tremaining: 4.09s\n",
      "62:\tlearn: 0.4075461\ttotal: 278ms\tremaining: 4.13s\n",
      "63:\tlearn: 0.4063529\ttotal: 289ms\tremaining: 4.23s\n",
      "64:\tlearn: 0.4051531\ttotal: 292ms\tremaining: 4.21s\n",
      "65:\tlearn: 0.4034909\ttotal: 296ms\tremaining: 4.19s\n",
      "66:\tlearn: 0.4025720\ttotal: 300ms\tremaining: 4.17s\n",
      "67:\tlearn: 0.4013693\ttotal: 302ms\tremaining: 4.14s\n",
      "68:\tlearn: 0.4003973\ttotal: 305ms\tremaining: 4.12s\n",
      "69:\tlearn: 0.3992758\ttotal: 308ms\tremaining: 4.09s\n",
      "70:\tlearn: 0.3983426\ttotal: 311ms\tremaining: 4.07s\n",
      "71:\tlearn: 0.3972433\ttotal: 314ms\tremaining: 4.05s\n",
      "72:\tlearn: 0.3960334\ttotal: 317ms\tremaining: 4.03s\n",
      "73:\tlearn: 0.3950252\ttotal: 320ms\tremaining: 4s\n",
      "74:\tlearn: 0.3943268\ttotal: 324ms\tremaining: 4s\n",
      "75:\tlearn: 0.3931836\ttotal: 329ms\tremaining: 4s\n",
      "76:\tlearn: 0.3920946\ttotal: 333ms\tremaining: 3.99s\n",
      "77:\tlearn: 0.3913975\ttotal: 337ms\tremaining: 3.99s\n",
      "78:\tlearn: 0.3904307\ttotal: 341ms\tremaining: 3.97s\n",
      "79:\tlearn: 0.3898472\ttotal: 343ms\tremaining: 3.95s\n",
      "80:\tlearn: 0.3885275\ttotal: 346ms\tremaining: 3.93s\n",
      "81:\tlearn: 0.3877936\ttotal: 350ms\tremaining: 3.91s\n",
      "82:\tlearn: 0.3867757\ttotal: 353ms\tremaining: 3.9s\n",
      "83:\tlearn: 0.3859846\ttotal: 356ms\tremaining: 3.89s\n",
      "84:\tlearn: 0.3853525\ttotal: 359ms\tremaining: 3.87s\n",
      "85:\tlearn: 0.3847318\ttotal: 362ms\tremaining: 3.85s\n",
      "86:\tlearn: 0.3840613\ttotal: 365ms\tremaining: 3.83s\n",
      "87:\tlearn: 0.3832625\ttotal: 368ms\tremaining: 3.81s\n",
      "88:\tlearn: 0.3821747\ttotal: 372ms\tremaining: 3.81s\n",
      "89:\tlearn: 0.3815910\ttotal: 377ms\tremaining: 3.81s\n",
      "90:\tlearn: 0.3808918\ttotal: 381ms\tremaining: 3.8s\n",
      "91:\tlearn: 0.3800960\ttotal: 384ms\tremaining: 3.79s\n",
      "92:\tlearn: 0.3796462\ttotal: 388ms\tremaining: 3.79s\n",
      "93:\tlearn: 0.3787805\ttotal: 393ms\tremaining: 3.79s\n",
      "94:\tlearn: 0.3777298\ttotal: 397ms\tremaining: 3.78s\n",
      "95:\tlearn: 0.3770414\ttotal: 400ms\tremaining: 3.77s\n",
      "96:\tlearn: 0.3757854\ttotal: 404ms\tremaining: 3.76s\n",
      "97:\tlearn: 0.3751396\ttotal: 411ms\tremaining: 3.78s\n",
      "98:\tlearn: 0.3741058\ttotal: 416ms\tremaining: 3.78s\n",
      "99:\tlearn: 0.3736041\ttotal: 422ms\tremaining: 3.8s\n",
      "100:\tlearn: 0.3728460\ttotal: 429ms\tremaining: 3.81s\n",
      "101:\tlearn: 0.3716890\ttotal: 440ms\tremaining: 3.87s\n",
      "102:\tlearn: 0.3712263\ttotal: 445ms\tremaining: 3.87s\n",
      "103:\tlearn: 0.3705583\ttotal: 448ms\tremaining: 3.86s\n",
      "104:\tlearn: 0.3696614\ttotal: 454ms\tremaining: 3.87s\n",
      "105:\tlearn: 0.3691534\ttotal: 458ms\tremaining: 3.86s\n",
      "106:\tlearn: 0.3686635\ttotal: 461ms\tremaining: 3.85s\n",
      "107:\tlearn: 0.3678363\ttotal: 466ms\tremaining: 3.85s\n",
      "108:\tlearn: 0.3672734\ttotal: 471ms\tremaining: 3.85s\n",
      "109:\tlearn: 0.3664308\ttotal: 479ms\tremaining: 3.88s\n",
      "110:\tlearn: 0.3659997\ttotal: 505ms\tremaining: 4.04s\n",
      "111:\tlearn: 0.3654653\ttotal: 517ms\tremaining: 4.1s\n",
      "112:\tlearn: 0.3649226\ttotal: 524ms\tremaining: 4.11s\n",
      "113:\tlearn: 0.3641297\ttotal: 541ms\tremaining: 4.21s\n",
      "114:\tlearn: 0.3635884\ttotal: 548ms\tremaining: 4.22s\n",
      "115:\tlearn: 0.3626556\ttotal: 580ms\tremaining: 4.42s\n",
      "116:\tlearn: 0.3620845\ttotal: 607ms\tremaining: 4.58s\n",
      "117:\tlearn: 0.3614549\ttotal: 672ms\tremaining: 5.02s\n",
      "118:\tlearn: 0.3608369\ttotal: 676ms\tremaining: 5s\n",
      "119:\tlearn: 0.3601261\ttotal: 700ms\tremaining: 5.13s\n",
      "120:\tlearn: 0.3595253\ttotal: 705ms\tremaining: 5.12s\n",
      "121:\tlearn: 0.3587624\ttotal: 709ms\tremaining: 5.11s\n",
      "122:\tlearn: 0.3581828\ttotal: 714ms\tremaining: 5.09s\n",
      "123:\tlearn: 0.3576685\ttotal: 724ms\tremaining: 5.12s\n",
      "124:\tlearn: 0.3570835\ttotal: 744ms\tremaining: 5.21s\n",
      "125:\tlearn: 0.3567462\ttotal: 750ms\tremaining: 5.2s\n",
      "126:\tlearn: 0.3560833\ttotal: 753ms\tremaining: 5.17s\n",
      "127:\tlearn: 0.3555638\ttotal: 758ms\tremaining: 5.16s\n",
      "128:\tlearn: 0.3551447\ttotal: 762ms\tremaining: 5.15s\n",
      "129:\tlearn: 0.3546149\ttotal: 772ms\tremaining: 5.17s\n",
      "130:\tlearn: 0.3540282\ttotal: 785ms\tremaining: 5.2s\n",
      "131:\tlearn: 0.3533046\ttotal: 793ms\tremaining: 5.21s\n",
      "132:\tlearn: 0.3527752\ttotal: 800ms\tremaining: 5.22s\n",
      "133:\tlearn: 0.3522272\ttotal: 803ms\tremaining: 5.19s\n",
      "134:\tlearn: 0.3517229\ttotal: 816ms\tremaining: 5.23s\n",
      "135:\tlearn: 0.3511821\ttotal: 820ms\tremaining: 5.21s\n",
      "136:\tlearn: 0.3505300\ttotal: 823ms\tremaining: 5.19s\n",
      "137:\tlearn: 0.3500395\ttotal: 835ms\tremaining: 5.21s\n",
      "138:\tlearn: 0.3496461\ttotal: 841ms\tremaining: 5.21s\n",
      "139:\tlearn: 0.3490357\ttotal: 844ms\tremaining: 5.19s\n",
      "140:\tlearn: 0.3484537\ttotal: 847ms\tremaining: 5.16s\n",
      "141:\tlearn: 0.3478679\ttotal: 851ms\tremaining: 5.14s\n",
      "142:\tlearn: 0.3472456\ttotal: 854ms\tremaining: 5.12s\n",
      "143:\tlearn: 0.3468680\ttotal: 857ms\tremaining: 5.1s\n",
      "144:\tlearn: 0.3463187\ttotal: 862ms\tremaining: 5.08s\n",
      "145:\tlearn: 0.3458974\ttotal: 865ms\tremaining: 5.06s\n",
      "146:\tlearn: 0.3454764\ttotal: 868ms\tremaining: 5.04s\n",
      "147:\tlearn: 0.3451091\ttotal: 873ms\tremaining: 5.03s\n",
      "148:\tlearn: 0.3444104\ttotal: 880ms\tremaining: 5.03s\n",
      "149:\tlearn: 0.3437048\ttotal: 885ms\tremaining: 5.01s\n",
      "150:\tlearn: 0.3432664\ttotal: 893ms\tremaining: 5.02s\n",
      "151:\tlearn: 0.3429091\ttotal: 896ms\tremaining: 5s\n",
      "152:\tlearn: 0.3423115\ttotal: 899ms\tremaining: 4.98s\n",
      "153:\tlearn: 0.3419283\ttotal: 902ms\tremaining: 4.96s\n",
      "154:\tlearn: 0.3414589\ttotal: 905ms\tremaining: 4.93s\n",
      "155:\tlearn: 0.3409276\ttotal: 909ms\tremaining: 4.92s\n",
      "156:\tlearn: 0.3404172\ttotal: 912ms\tremaining: 4.9s\n",
      "157:\tlearn: 0.3398933\ttotal: 915ms\tremaining: 4.87s\n",
      "158:\tlearn: 0.3395172\ttotal: 918ms\tremaining: 4.86s\n",
      "159:\tlearn: 0.3390774\ttotal: 924ms\tremaining: 4.85s\n",
      "160:\tlearn: 0.3387360\ttotal: 929ms\tremaining: 4.84s\n",
      "161:\tlearn: 0.3381503\ttotal: 934ms\tremaining: 4.83s\n",
      "162:\tlearn: 0.3375508\ttotal: 941ms\tremaining: 4.83s\n",
      "163:\tlearn: 0.3369975\ttotal: 946ms\tremaining: 4.82s\n",
      "164:\tlearn: 0.3365676\ttotal: 949ms\tremaining: 4.8s\n",
      "165:\tlearn: 0.3361319\ttotal: 952ms\tremaining: 4.78s\n",
      "166:\tlearn: 0.3355557\ttotal: 956ms\tremaining: 4.77s\n",
      "167:\tlearn: 0.3352151\ttotal: 960ms\tremaining: 4.75s\n",
      "168:\tlearn: 0.3346961\ttotal: 972ms\tremaining: 4.78s\n",
      "169:\tlearn: 0.3343958\ttotal: 978ms\tremaining: 4.77s\n"
     ]
    },
    {
     "name": "stdout",
     "output_type": "stream",
     "text": [
      "170:\tlearn: 0.3340647\ttotal: 1.08s\tremaining: 5.23s\n",
      "171:\tlearn: 0.3336574\ttotal: 1.08s\tremaining: 5.21s\n",
      "172:\tlearn: 0.3331417\ttotal: 1.09s\tremaining: 5.2s\n",
      "173:\tlearn: 0.3328736\ttotal: 1.09s\tremaining: 5.18s\n",
      "174:\tlearn: 0.3322692\ttotal: 1.09s\tremaining: 5.16s\n",
      "175:\tlearn: 0.3318665\ttotal: 1.1s\tremaining: 5.14s\n",
      "176:\tlearn: 0.3314156\ttotal: 1.1s\tremaining: 5.13s\n",
      "177:\tlearn: 0.3308748\ttotal: 1.11s\tremaining: 5.13s\n",
      "178:\tlearn: 0.3306198\ttotal: 1.13s\tremaining: 5.17s\n",
      "179:\tlearn: 0.3302936\ttotal: 1.13s\tremaining: 5.16s\n",
      "180:\tlearn: 0.3298570\ttotal: 1.14s\tremaining: 5.14s\n",
      "181:\tlearn: 0.3293209\ttotal: 1.14s\tremaining: 5.13s\n",
      "182:\tlearn: 0.3288782\ttotal: 1.15s\tremaining: 5.11s\n",
      "183:\tlearn: 0.3282372\ttotal: 1.15s\tremaining: 5.1s\n",
      "184:\tlearn: 0.3276751\ttotal: 1.15s\tremaining: 5.09s\n",
      "185:\tlearn: 0.3272343\ttotal: 1.16s\tremaining: 5.07s\n",
      "186:\tlearn: 0.3265652\ttotal: 1.17s\tremaining: 5.09s\n",
      "187:\tlearn: 0.3261637\ttotal: 1.18s\tremaining: 5.09s\n",
      "188:\tlearn: 0.3259538\ttotal: 1.19s\tremaining: 5.08s\n",
      "189:\tlearn: 0.3253259\ttotal: 1.2s\tremaining: 5.11s\n",
      "190:\tlearn: 0.3247450\ttotal: 1.2s\tremaining: 5.09s\n",
      "191:\tlearn: 0.3243766\ttotal: 1.21s\tremaining: 5.07s\n",
      "192:\tlearn: 0.3240506\ttotal: 1.21s\tremaining: 5.05s\n",
      "193:\tlearn: 0.3234994\ttotal: 1.22s\tremaining: 5.05s\n",
      "194:\tlearn: 0.3231993\ttotal: 1.22s\tremaining: 5.04s\n",
      "195:\tlearn: 0.3227817\ttotal: 1.23s\tremaining: 5.03s\n",
      "196:\tlearn: 0.3222775\ttotal: 1.23s\tremaining: 5.01s\n",
      "197:\tlearn: 0.3219840\ttotal: 1.24s\tremaining: 5s\n",
      "198:\tlearn: 0.3215125\ttotal: 1.24s\tremaining: 4.99s\n",
      "199:\tlearn: 0.3211683\ttotal: 1.24s\tremaining: 4.97s\n",
      "200:\tlearn: 0.3206672\ttotal: 1.25s\tremaining: 4.96s\n",
      "201:\tlearn: 0.3203273\ttotal: 1.25s\tremaining: 4.95s\n",
      "202:\tlearn: 0.3200235\ttotal: 1.26s\tremaining: 4.96s\n",
      "203:\tlearn: 0.3195479\ttotal: 1.27s\tremaining: 4.95s\n",
      "204:\tlearn: 0.3191545\ttotal: 1.28s\tremaining: 4.98s\n",
      "205:\tlearn: 0.3189038\ttotal: 1.29s\tremaining: 4.97s\n",
      "206:\tlearn: 0.3184762\ttotal: 1.3s\tremaining: 4.99s\n",
      "207:\tlearn: 0.3182230\ttotal: 1.31s\tremaining: 5s\n",
      "208:\tlearn: 0.3179798\ttotal: 1.32s\tremaining: 4.99s\n",
      "209:\tlearn: 0.3175664\ttotal: 1.32s\tremaining: 4.98s\n",
      "210:\tlearn: 0.3171562\ttotal: 1.33s\tremaining: 4.97s\n",
      "211:\tlearn: 0.3166595\ttotal: 1.33s\tremaining: 4.95s\n",
      "212:\tlearn: 0.3162030\ttotal: 1.33s\tremaining: 4.93s\n",
      "213:\tlearn: 0.3156969\ttotal: 1.34s\tremaining: 4.92s\n",
      "214:\tlearn: 0.3151968\ttotal: 1.34s\tremaining: 4.91s\n",
      "215:\tlearn: 0.3149818\ttotal: 1.35s\tremaining: 4.89s\n",
      "216:\tlearn: 0.3147482\ttotal: 1.35s\tremaining: 4.87s\n",
      "217:\tlearn: 0.3143440\ttotal: 1.35s\tremaining: 4.86s\n",
      "218:\tlearn: 0.3137527\ttotal: 1.36s\tremaining: 4.85s\n",
      "219:\tlearn: 0.3131993\ttotal: 1.36s\tremaining: 4.84s\n",
      "220:\tlearn: 0.3128648\ttotal: 1.37s\tremaining: 4.83s\n",
      "221:\tlearn: 0.3125349\ttotal: 1.38s\tremaining: 4.83s\n",
      "222:\tlearn: 0.3121475\ttotal: 1.38s\tremaining: 4.81s\n",
      "223:\tlearn: 0.3117164\ttotal: 1.38s\tremaining: 4.8s\n",
      "224:\tlearn: 0.3111931\ttotal: 1.39s\tremaining: 4.8s\n",
      "225:\tlearn: 0.3108031\ttotal: 1.4s\tremaining: 4.78s\n",
      "226:\tlearn: 0.3103264\ttotal: 1.4s\tremaining: 4.77s\n",
      "227:\tlearn: 0.3095535\ttotal: 1.41s\tremaining: 4.77s\n",
      "228:\tlearn: 0.3090258\ttotal: 1.42s\tremaining: 4.76s\n",
      "229:\tlearn: 0.3086537\ttotal: 1.42s\tremaining: 4.75s\n",
      "230:\tlearn: 0.3083276\ttotal: 1.42s\tremaining: 4.74s\n",
      "231:\tlearn: 0.3078094\ttotal: 1.43s\tremaining: 4.72s\n",
      "232:\tlearn: 0.3074281\ttotal: 1.43s\tremaining: 4.71s\n",
      "233:\tlearn: 0.3067980\ttotal: 1.43s\tremaining: 4.69s\n",
      "234:\tlearn: 0.3063052\ttotal: 1.44s\tremaining: 4.68s\n",
      "235:\tlearn: 0.3059999\ttotal: 1.44s\tremaining: 4.67s\n",
      "236:\tlearn: 0.3054727\ttotal: 1.45s\tremaining: 4.66s\n",
      "237:\tlearn: 0.3050137\ttotal: 1.45s\tremaining: 4.66s\n",
      "238:\tlearn: 0.3046735\ttotal: 1.46s\tremaining: 4.65s\n",
      "239:\tlearn: 0.3043074\ttotal: 1.47s\tremaining: 4.64s\n",
      "240:\tlearn: 0.3039850\ttotal: 1.47s\tremaining: 4.63s\n",
      "241:\tlearn: 0.3034002\ttotal: 1.47s\tremaining: 4.61s\n",
      "242:\tlearn: 0.3030891\ttotal: 1.48s\tremaining: 4.61s\n",
      "243:\tlearn: 0.3026869\ttotal: 1.49s\tremaining: 4.61s\n",
      "244:\tlearn: 0.3024147\ttotal: 1.49s\tremaining: 4.59s\n",
      "245:\tlearn: 0.3020933\ttotal: 1.49s\tremaining: 4.58s\n",
      "246:\tlearn: 0.3018563\ttotal: 1.5s\tremaining: 4.58s\n",
      "247:\tlearn: 0.3015338\ttotal: 1.51s\tremaining: 4.57s\n",
      "248:\tlearn: 0.3010862\ttotal: 1.52s\tremaining: 4.58s\n",
      "249:\tlearn: 0.3007362\ttotal: 1.52s\tremaining: 4.56s\n",
      "250:\tlearn: 0.3004683\ttotal: 1.52s\tremaining: 4.55s\n",
      "251:\tlearn: 0.3001170\ttotal: 1.53s\tremaining: 4.54s\n",
      "252:\tlearn: 0.2996473\ttotal: 1.53s\tremaining: 4.53s\n",
      "253:\tlearn: 0.2990458\ttotal: 1.53s\tremaining: 4.51s\n",
      "254:\tlearn: 0.2987167\ttotal: 1.54s\tremaining: 4.49s\n",
      "255:\tlearn: 0.2983806\ttotal: 1.54s\tremaining: 4.48s\n",
      "256:\tlearn: 0.2980473\ttotal: 1.55s\tremaining: 4.47s\n",
      "257:\tlearn: 0.2973990\ttotal: 1.55s\tremaining: 4.46s\n",
      "258:\tlearn: 0.2970809\ttotal: 1.56s\tremaining: 4.45s\n",
      "259:\tlearn: 0.2969691\ttotal: 1.56s\tremaining: 4.44s\n",
      "260:\tlearn: 0.2965767\ttotal: 1.56s\tremaining: 4.42s\n",
      "261:\tlearn: 0.2963960\ttotal: 1.56s\tremaining: 4.41s\n",
      "262:\tlearn: 0.2958892\ttotal: 1.57s\tremaining: 4.39s\n",
      "263:\tlearn: 0.2954620\ttotal: 1.57s\tremaining: 4.38s\n",
      "264:\tlearn: 0.2952941\ttotal: 1.57s\tremaining: 4.37s\n",
      "265:\tlearn: 0.2948746\ttotal: 1.58s\tremaining: 4.35s\n",
      "266:\tlearn: 0.2945466\ttotal: 1.58s\tremaining: 4.34s\n",
      "267:\tlearn: 0.2942534\ttotal: 1.58s\tremaining: 4.33s\n",
      "268:\tlearn: 0.2937715\ttotal: 1.59s\tremaining: 4.31s\n",
      "269:\tlearn: 0.2934578\ttotal: 1.59s\tremaining: 4.3s\n",
      "270:\tlearn: 0.2929836\ttotal: 1.59s\tremaining: 4.29s\n",
      "271:\tlearn: 0.2927662\ttotal: 1.6s\tremaining: 4.28s\n",
      "272:\tlearn: 0.2924246\ttotal: 1.6s\tremaining: 4.28s\n",
      "273:\tlearn: 0.2921871\ttotal: 1.61s\tremaining: 4.26s\n",
      "274:\tlearn: 0.2918517\ttotal: 1.61s\tremaining: 4.25s\n",
      "275:\tlearn: 0.2915266\ttotal: 1.61s\tremaining: 4.24s\n",
      "276:\tlearn: 0.2912500\ttotal: 1.62s\tremaining: 4.22s\n",
      "277:\tlearn: 0.2909234\ttotal: 1.62s\tremaining: 4.21s\n",
      "278:\tlearn: 0.2906658\ttotal: 1.62s\tremaining: 4.2s\n",
      "279:\tlearn: 0.2903746\ttotal: 1.63s\tremaining: 4.19s\n",
      "280:\tlearn: 0.2898526\ttotal: 1.63s\tremaining: 4.17s\n",
      "281:\tlearn: 0.2896447\ttotal: 1.63s\tremaining: 4.16s\n",
      "282:\tlearn: 0.2893025\ttotal: 1.64s\tremaining: 4.15s\n",
      "283:\tlearn: 0.2890329\ttotal: 1.64s\tremaining: 4.14s\n",
      "284:\tlearn: 0.2886754\ttotal: 1.65s\tremaining: 4.13s\n",
      "285:\tlearn: 0.2882294\ttotal: 1.65s\tremaining: 4.13s\n",
      "286:\tlearn: 0.2879055\ttotal: 1.66s\tremaining: 4.11s\n",
      "287:\tlearn: 0.2875581\ttotal: 1.66s\tremaining: 4.1s\n",
      "288:\tlearn: 0.2872721\ttotal: 1.66s\tremaining: 4.09s\n",
      "289:\tlearn: 0.2869069\ttotal: 1.66s\tremaining: 4.08s\n",
      "290:\tlearn: 0.2863857\ttotal: 1.67s\tremaining: 4.06s\n",
      "291:\tlearn: 0.2860698\ttotal: 1.67s\tremaining: 4.06s\n",
      "292:\tlearn: 0.2857321\ttotal: 1.68s\tremaining: 4.05s\n",
      "293:\tlearn: 0.2853243\ttotal: 1.68s\tremaining: 4.03s\n",
      "294:\tlearn: 0.2851897\ttotal: 1.68s\tremaining: 4.02s\n",
      "295:\tlearn: 0.2847988\ttotal: 1.69s\tremaining: 4.01s\n",
      "296:\tlearn: 0.2846022\ttotal: 1.69s\tremaining: 4.01s\n",
      "297:\tlearn: 0.2844444\ttotal: 1.7s\tremaining: 4s\n",
      "298:\tlearn: 0.2841477\ttotal: 1.7s\tremaining: 3.99s\n",
      "299:\tlearn: 0.2838409\ttotal: 1.7s\tremaining: 3.98s\n",
      "300:\tlearn: 0.2835780\ttotal: 1.71s\tremaining: 3.96s\n",
      "301:\tlearn: 0.2831658\ttotal: 1.71s\tremaining: 3.95s\n",
      "302:\tlearn: 0.2828328\ttotal: 1.71s\tremaining: 3.94s\n",
      "303:\tlearn: 0.2824914\ttotal: 1.72s\tremaining: 3.93s\n",
      "304:\tlearn: 0.2821023\ttotal: 1.72s\tremaining: 3.92s\n",
      "305:\tlearn: 0.2819697\ttotal: 1.72s\tremaining: 3.91s\n",
      "306:\tlearn: 0.2814654\ttotal: 1.73s\tremaining: 3.9s\n",
      "307:\tlearn: 0.2812270\ttotal: 1.73s\tremaining: 3.88s\n",
      "308:\tlearn: 0.2808593\ttotal: 1.73s\tremaining: 3.87s\n",
      "309:\tlearn: 0.2805796\ttotal: 1.74s\tremaining: 3.87s\n",
      "310:\tlearn: 0.2802665\ttotal: 1.74s\tremaining: 3.86s\n",
      "311:\tlearn: 0.2801483\ttotal: 1.75s\tremaining: 3.85s\n",
      "312:\tlearn: 0.2799590\ttotal: 1.75s\tremaining: 3.84s\n",
      "313:\tlearn: 0.2795406\ttotal: 1.75s\tremaining: 3.83s\n",
      "314:\tlearn: 0.2793376\ttotal: 1.76s\tremaining: 3.82s\n",
      "315:\tlearn: 0.2788726\ttotal: 1.76s\tremaining: 3.81s\n",
      "316:\tlearn: 0.2785625\ttotal: 1.76s\tremaining: 3.8s\n",
      "317:\tlearn: 0.2782442\ttotal: 1.76s\tremaining: 3.79s\n",
      "318:\tlearn: 0.2780413\ttotal: 1.77s\tremaining: 3.78s\n",
      "319:\tlearn: 0.2776112\ttotal: 1.77s\tremaining: 3.77s\n",
      "320:\tlearn: 0.2772093\ttotal: 1.77s\tremaining: 3.75s\n",
      "321:\tlearn: 0.2769909\ttotal: 1.78s\tremaining: 3.74s\n",
      "322:\tlearn: 0.2766617\ttotal: 1.78s\tremaining: 3.73s\n",
      "323:\tlearn: 0.2763192\ttotal: 1.79s\tremaining: 3.73s\n",
      "324:\tlearn: 0.2758904\ttotal: 1.79s\tremaining: 3.72s\n",
      "325:\tlearn: 0.2756876\ttotal: 1.79s\tremaining: 3.71s\n",
      "326:\tlearn: 0.2755001\ttotal: 1.8s\tremaining: 3.7s\n",
      "327:\tlearn: 0.2751001\ttotal: 1.8s\tremaining: 3.69s\n",
      "328:\tlearn: 0.2748149\ttotal: 1.8s\tremaining: 3.68s\n",
      "329:\tlearn: 0.2743698\ttotal: 1.81s\tremaining: 3.67s\n",
      "330:\tlearn: 0.2741098\ttotal: 1.81s\tremaining: 3.66s\n",
      "331:\tlearn: 0.2739117\ttotal: 1.81s\tremaining: 3.65s\n",
      "332:\tlearn: 0.2735515\ttotal: 1.82s\tremaining: 3.64s\n",
      "333:\tlearn: 0.2733459\ttotal: 1.82s\tremaining: 3.63s\n",
      "334:\tlearn: 0.2731353\ttotal: 1.82s\tremaining: 3.62s\n",
      "335:\tlearn: 0.2726859\ttotal: 1.83s\tremaining: 3.62s\n",
      "336:\tlearn: 0.2725159\ttotal: 1.83s\tremaining: 3.61s\n",
      "337:\tlearn: 0.2722891\ttotal: 1.84s\tremaining: 3.6s\n",
      "338:\tlearn: 0.2719072\ttotal: 1.84s\tremaining: 3.6s\n",
      "339:\tlearn: 0.2716317\ttotal: 1.85s\tremaining: 3.59s\n",
      "340:\tlearn: 0.2712501\ttotal: 1.85s\tremaining: 3.58s\n",
      "341:\tlearn: 0.2708485\ttotal: 1.85s\tremaining: 3.57s\n",
      "342:\tlearn: 0.2706062\ttotal: 1.86s\tremaining: 3.56s\n"
     ]
    },
    {
     "name": "stdout",
     "output_type": "stream",
     "text": [
      "343:\tlearn: 0.2702217\ttotal: 1.87s\tremaining: 3.56s\n",
      "344:\tlearn: 0.2697169\ttotal: 1.87s\tremaining: 3.55s\n",
      "345:\tlearn: 0.2694507\ttotal: 1.88s\tremaining: 3.54s\n",
      "346:\tlearn: 0.2691877\ttotal: 1.88s\tremaining: 3.54s\n",
      "347:\tlearn: 0.2689055\ttotal: 1.89s\tremaining: 3.54s\n",
      "348:\tlearn: 0.2683539\ttotal: 1.89s\tremaining: 3.53s\n",
      "349:\tlearn: 0.2680573\ttotal: 1.9s\tremaining: 3.52s\n",
      "350:\tlearn: 0.2676853\ttotal: 1.9s\tremaining: 3.51s\n",
      "351:\tlearn: 0.2674941\ttotal: 1.9s\tremaining: 3.5s\n",
      "352:\tlearn: 0.2671565\ttotal: 1.91s\tremaining: 3.5s\n",
      "353:\tlearn: 0.2669248\ttotal: 1.91s\tremaining: 3.49s\n",
      "354:\tlearn: 0.2668242\ttotal: 1.91s\tremaining: 3.48s\n",
      "355:\tlearn: 0.2666194\ttotal: 1.92s\tremaining: 3.47s\n",
      "356:\tlearn: 0.2661831\ttotal: 1.92s\tremaining: 3.46s\n",
      "357:\tlearn: 0.2657711\ttotal: 1.93s\tremaining: 3.46s\n",
      "358:\tlearn: 0.2654876\ttotal: 1.93s\tremaining: 3.45s\n",
      "359:\tlearn: 0.2651272\ttotal: 1.94s\tremaining: 3.45s\n",
      "360:\tlearn: 0.2647902\ttotal: 1.95s\tremaining: 3.45s\n",
      "361:\tlearn: 0.2645188\ttotal: 1.95s\tremaining: 3.44s\n",
      "362:\tlearn: 0.2641749\ttotal: 1.96s\tremaining: 3.43s\n",
      "363:\tlearn: 0.2638691\ttotal: 1.96s\tremaining: 3.42s\n",
      "364:\tlearn: 0.2636672\ttotal: 1.96s\tremaining: 3.42s\n",
      "365:\tlearn: 0.2632799\ttotal: 1.97s\tremaining: 3.41s\n",
      "366:\tlearn: 0.2630223\ttotal: 1.98s\tremaining: 3.41s\n",
      "367:\tlearn: 0.2625994\ttotal: 1.98s\tremaining: 3.4s\n",
      "368:\tlearn: 0.2622767\ttotal: 1.99s\tremaining: 3.4s\n",
      "369:\tlearn: 0.2619859\ttotal: 2s\tremaining: 3.4s\n",
      "370:\tlearn: 0.2614594\ttotal: 2s\tremaining: 3.39s\n",
      "371:\tlearn: 0.2611921\ttotal: 2.01s\tremaining: 3.39s\n",
      "372:\tlearn: 0.2609919\ttotal: 2.01s\tremaining: 3.38s\n",
      "373:\tlearn: 0.2604631\ttotal: 2.02s\tremaining: 3.39s\n",
      "374:\tlearn: 0.2600774\ttotal: 2.03s\tremaining: 3.38s\n",
      "375:\tlearn: 0.2597074\ttotal: 2.03s\tremaining: 3.38s\n",
      "376:\tlearn: 0.2592923\ttotal: 2.07s\tremaining: 3.42s\n",
      "377:\tlearn: 0.2589801\ttotal: 2.08s\tremaining: 3.42s\n",
      "378:\tlearn: 0.2586034\ttotal: 2.08s\tremaining: 3.42s\n",
      "379:\tlearn: 0.2583806\ttotal: 2.09s\tremaining: 3.41s\n",
      "380:\tlearn: 0.2580431\ttotal: 2.09s\tremaining: 3.4s\n",
      "381:\tlearn: 0.2577539\ttotal: 2.1s\tremaining: 3.39s\n",
      "382:\tlearn: 0.2575229\ttotal: 2.1s\tremaining: 3.38s\n",
      "383:\tlearn: 0.2572492\ttotal: 2.1s\tremaining: 3.38s\n",
      "384:\tlearn: 0.2568403\ttotal: 2.11s\tremaining: 3.37s\n",
      "385:\tlearn: 0.2563966\ttotal: 2.12s\tremaining: 3.37s\n",
      "386:\tlearn: 0.2561648\ttotal: 2.12s\tremaining: 3.37s\n",
      "387:\tlearn: 0.2559837\ttotal: 2.13s\tremaining: 3.37s\n",
      "388:\tlearn: 0.2557720\ttotal: 2.14s\tremaining: 3.36s\n",
      "389:\tlearn: 0.2552987\ttotal: 2.14s\tremaining: 3.35s\n",
      "390:\tlearn: 0.2550660\ttotal: 2.15s\tremaining: 3.35s\n",
      "391:\tlearn: 0.2548099\ttotal: 2.15s\tremaining: 3.34s\n",
      "392:\tlearn: 0.2545450\ttotal: 2.15s\tremaining: 3.33s\n",
      "393:\tlearn: 0.2542579\ttotal: 2.16s\tremaining: 3.32s\n",
      "394:\tlearn: 0.2538944\ttotal: 2.17s\tremaining: 3.32s\n",
      "395:\tlearn: 0.2537278\ttotal: 2.17s\tremaining: 3.32s\n",
      "396:\tlearn: 0.2534115\ttotal: 2.18s\tremaining: 3.31s\n",
      "397:\tlearn: 0.2532549\ttotal: 2.18s\tremaining: 3.3s\n",
      "398:\tlearn: 0.2529136\ttotal: 2.19s\tremaining: 3.29s\n",
      "399:\tlearn: 0.2524418\ttotal: 2.19s\tremaining: 3.29s\n",
      "400:\tlearn: 0.2522203\ttotal: 2.19s\tremaining: 3.28s\n",
      "401:\tlearn: 0.2517570\ttotal: 2.2s\tremaining: 3.27s\n",
      "402:\tlearn: 0.2515224\ttotal: 2.2s\tremaining: 3.26s\n",
      "403:\tlearn: 0.2513212\ttotal: 2.21s\tremaining: 3.25s\n",
      "404:\tlearn: 0.2511478\ttotal: 2.21s\tremaining: 3.25s\n",
      "405:\tlearn: 0.2508991\ttotal: 2.21s\tremaining: 3.24s\n",
      "406:\tlearn: 0.2507436\ttotal: 2.22s\tremaining: 3.23s\n",
      "407:\tlearn: 0.2503370\ttotal: 2.22s\tremaining: 3.23s\n",
      "408:\tlearn: 0.2501042\ttotal: 2.23s\tremaining: 3.22s\n",
      "409:\tlearn: 0.2497242\ttotal: 2.23s\tremaining: 3.21s\n",
      "410:\tlearn: 0.2491714\ttotal: 2.23s\tremaining: 3.2s\n",
      "411:\tlearn: 0.2488520\ttotal: 2.24s\tremaining: 3.19s\n",
      "412:\tlearn: 0.2486028\ttotal: 2.24s\tremaining: 3.18s\n",
      "413:\tlearn: 0.2483409\ttotal: 2.24s\tremaining: 3.17s\n",
      "414:\tlearn: 0.2480279\ttotal: 2.25s\tremaining: 3.17s\n",
      "415:\tlearn: 0.2477523\ttotal: 2.25s\tremaining: 3.16s\n",
      "416:\tlearn: 0.2474892\ttotal: 2.25s\tremaining: 3.15s\n",
      "417:\tlearn: 0.2472738\ttotal: 2.26s\tremaining: 3.14s\n",
      "418:\tlearn: 0.2471426\ttotal: 2.26s\tremaining: 3.14s\n",
      "419:\tlearn: 0.2468643\ttotal: 2.27s\tremaining: 3.13s\n",
      "420:\tlearn: 0.2466966\ttotal: 2.27s\tremaining: 3.12s\n",
      "421:\tlearn: 0.2461472\ttotal: 2.27s\tremaining: 3.11s\n",
      "422:\tlearn: 0.2458789\ttotal: 2.27s\tremaining: 3.1s\n",
      "423:\tlearn: 0.2455435\ttotal: 2.28s\tremaining: 3.1s\n",
      "424:\tlearn: 0.2452460\ttotal: 2.28s\tremaining: 3.09s\n",
      "425:\tlearn: 0.2446211\ttotal: 2.28s\tremaining: 3.08s\n",
      "426:\tlearn: 0.2442178\ttotal: 2.29s\tremaining: 3.07s\n",
      "427:\tlearn: 0.2440155\ttotal: 2.29s\tremaining: 3.06s\n",
      "428:\tlearn: 0.2438126\ttotal: 2.29s\tremaining: 3.05s\n",
      "429:\tlearn: 0.2432705\ttotal: 2.3s\tremaining: 3.04s\n",
      "430:\tlearn: 0.2430035\ttotal: 2.3s\tremaining: 3.04s\n",
      "431:\tlearn: 0.2422236\ttotal: 2.31s\tremaining: 3.03s\n",
      "432:\tlearn: 0.2416434\ttotal: 2.31s\tremaining: 3.03s\n",
      "433:\tlearn: 0.2409943\ttotal: 2.31s\tremaining: 3.02s\n",
      "434:\tlearn: 0.2407362\ttotal: 2.32s\tremaining: 3.01s\n",
      "435:\tlearn: 0.2405211\ttotal: 2.32s\tremaining: 3s\n",
      "436:\tlearn: 0.2403841\ttotal: 2.32s\tremaining: 2.99s\n",
      "437:\tlearn: 0.2401406\ttotal: 2.33s\tremaining: 2.99s\n",
      "438:\tlearn: 0.2398091\ttotal: 2.33s\tremaining: 2.98s\n",
      "439:\tlearn: 0.2396596\ttotal: 2.33s\tremaining: 2.97s\n",
      "440:\tlearn: 0.2390586\ttotal: 2.34s\tremaining: 2.96s\n",
      "441:\tlearn: 0.2384928\ttotal: 2.34s\tremaining: 2.95s\n",
      "442:\tlearn: 0.2382467\ttotal: 2.34s\tremaining: 2.95s\n",
      "443:\tlearn: 0.2379399\ttotal: 2.35s\tremaining: 2.94s\n",
      "444:\tlearn: 0.2372967\ttotal: 2.35s\tremaining: 2.94s\n",
      "445:\tlearn: 0.2367713\ttotal: 2.36s\tremaining: 2.93s\n",
      "446:\tlearn: 0.2362973\ttotal: 2.36s\tremaining: 2.92s\n",
      "447:\tlearn: 0.2358159\ttotal: 2.37s\tremaining: 2.91s\n",
      "448:\tlearn: 0.2356814\ttotal: 2.37s\tremaining: 2.91s\n",
      "449:\tlearn: 0.2352354\ttotal: 2.37s\tremaining: 2.9s\n",
      "450:\tlearn: 0.2346399\ttotal: 2.37s\tremaining: 2.89s\n",
      "451:\tlearn: 0.2339976\ttotal: 2.38s\tremaining: 2.88s\n",
      "452:\tlearn: 0.2334442\ttotal: 2.38s\tremaining: 2.87s\n",
      "453:\tlearn: 0.2332391\ttotal: 2.38s\tremaining: 2.87s\n",
      "454:\tlearn: 0.2328531\ttotal: 2.39s\tremaining: 2.86s\n",
      "455:\tlearn: 0.2326978\ttotal: 2.39s\tremaining: 2.85s\n",
      "456:\tlearn: 0.2325423\ttotal: 2.39s\tremaining: 2.84s\n",
      "457:\tlearn: 0.2323376\ttotal: 2.4s\tremaining: 2.84s\n",
      "458:\tlearn: 0.2318056\ttotal: 2.4s\tremaining: 2.83s\n",
      "459:\tlearn: 0.2316019\ttotal: 2.41s\tremaining: 2.83s\n",
      "460:\tlearn: 0.2313579\ttotal: 2.41s\tremaining: 2.82s\n",
      "461:\tlearn: 0.2311823\ttotal: 2.42s\tremaining: 2.81s\n",
      "462:\tlearn: 0.2309994\ttotal: 2.42s\tremaining: 2.8s\n",
      "463:\tlearn: 0.2306064\ttotal: 2.42s\tremaining: 2.8s\n",
      "464:\tlearn: 0.2301611\ttotal: 2.42s\tremaining: 2.79s\n",
      "465:\tlearn: 0.2300026\ttotal: 2.43s\tremaining: 2.78s\n",
      "466:\tlearn: 0.2299039\ttotal: 2.43s\tremaining: 2.77s\n",
      "467:\tlearn: 0.2294572\ttotal: 2.43s\tremaining: 2.77s\n",
      "468:\tlearn: 0.2290122\ttotal: 2.44s\tremaining: 2.76s\n",
      "469:\tlearn: 0.2286874\ttotal: 2.44s\tremaining: 2.75s\n",
      "470:\tlearn: 0.2284933\ttotal: 2.45s\tremaining: 2.75s\n",
      "471:\tlearn: 0.2283421\ttotal: 2.46s\tremaining: 2.75s\n",
      "472:\tlearn: 0.2280778\ttotal: 2.46s\tremaining: 2.74s\n",
      "473:\tlearn: 0.2279843\ttotal: 2.46s\tremaining: 2.73s\n",
      "474:\tlearn: 0.2276857\ttotal: 2.47s\tremaining: 2.73s\n",
      "475:\tlearn: 0.2275508\ttotal: 2.47s\tremaining: 2.72s\n",
      "476:\tlearn: 0.2273917\ttotal: 2.47s\tremaining: 2.71s\n",
      "477:\tlearn: 0.2271693\ttotal: 2.48s\tremaining: 2.7s\n",
      "478:\tlearn: 0.2268377\ttotal: 2.48s\tremaining: 2.7s\n",
      "479:\tlearn: 0.2267342\ttotal: 2.48s\tremaining: 2.69s\n",
      "480:\tlearn: 0.2266315\ttotal: 2.48s\tremaining: 2.68s\n",
      "481:\tlearn: 0.2261632\ttotal: 2.49s\tremaining: 2.67s\n",
      "482:\tlearn: 0.2258523\ttotal: 2.49s\tremaining: 2.67s\n",
      "483:\tlearn: 0.2255038\ttotal: 2.5s\tremaining: 2.66s\n",
      "484:\tlearn: 0.2253534\ttotal: 2.5s\tremaining: 2.66s\n",
      "485:\tlearn: 0.2251920\ttotal: 2.51s\tremaining: 2.65s\n",
      "486:\tlearn: 0.2249850\ttotal: 2.51s\tremaining: 2.64s\n",
      "487:\tlearn: 0.2246375\ttotal: 2.51s\tremaining: 2.64s\n",
      "488:\tlearn: 0.2244869\ttotal: 2.52s\tremaining: 2.63s\n",
      "489:\tlearn: 0.2243732\ttotal: 2.52s\tremaining: 2.62s\n",
      "490:\tlearn: 0.2242225\ttotal: 2.52s\tremaining: 2.62s\n",
      "491:\tlearn: 0.2241227\ttotal: 2.53s\tremaining: 2.61s\n",
      "492:\tlearn: 0.2236486\ttotal: 2.53s\tremaining: 2.6s\n",
      "493:\tlearn: 0.2233578\ttotal: 2.53s\tremaining: 2.59s\n",
      "494:\tlearn: 0.2229542\ttotal: 2.54s\tremaining: 2.59s\n",
      "495:\tlearn: 0.2225956\ttotal: 2.54s\tremaining: 2.58s\n",
      "496:\tlearn: 0.2224125\ttotal: 2.55s\tremaining: 2.58s\n",
      "497:\tlearn: 0.2219733\ttotal: 2.55s\tremaining: 2.57s\n",
      "498:\tlearn: 0.2217695\ttotal: 2.55s\tremaining: 2.56s\n",
      "499:\tlearn: 0.2213876\ttotal: 2.56s\tremaining: 2.56s\n",
      "500:\tlearn: 0.2212834\ttotal: 2.56s\tremaining: 2.55s\n",
      "501:\tlearn: 0.2210723\ttotal: 2.56s\tremaining: 2.54s\n",
      "502:\tlearn: 0.2208457\ttotal: 2.57s\tremaining: 2.54s\n",
      "503:\tlearn: 0.2201983\ttotal: 2.57s\tremaining: 2.53s\n",
      "504:\tlearn: 0.2198267\ttotal: 2.57s\tremaining: 2.52s\n",
      "505:\tlearn: 0.2196625\ttotal: 2.58s\tremaining: 2.52s\n",
      "506:\tlearn: 0.2193789\ttotal: 2.58s\tremaining: 2.51s\n",
      "507:\tlearn: 0.2192937\ttotal: 2.58s\tremaining: 2.5s\n",
      "508:\tlearn: 0.2186030\ttotal: 2.59s\tremaining: 2.5s\n",
      "509:\tlearn: 0.2182624\ttotal: 2.6s\tremaining: 2.49s\n",
      "510:\tlearn: 0.2179446\ttotal: 2.6s\tremaining: 2.49s\n",
      "511:\tlearn: 0.2177626\ttotal: 2.6s\tremaining: 2.48s\n",
      "512:\tlearn: 0.2174787\ttotal: 2.61s\tremaining: 2.48s\n",
      "513:\tlearn: 0.2173883\ttotal: 2.61s\tremaining: 2.47s\n",
      "514:\tlearn: 0.2173152\ttotal: 2.62s\tremaining: 2.46s\n",
      "515:\tlearn: 0.2170528\ttotal: 2.62s\tremaining: 2.46s\n",
      "516:\tlearn: 0.2166331\ttotal: 2.62s\tremaining: 2.45s\n",
      "517:\tlearn: 0.2164864\ttotal: 2.63s\tremaining: 2.44s\n",
      "518:\tlearn: 0.2163301\ttotal: 2.63s\tremaining: 2.44s\n",
      "519:\tlearn: 0.2161457\ttotal: 2.64s\tremaining: 2.44s\n"
     ]
    },
    {
     "name": "stdout",
     "output_type": "stream",
     "text": [
      "520:\tlearn: 0.2159397\ttotal: 2.65s\tremaining: 2.44s\n",
      "521:\tlearn: 0.2156081\ttotal: 2.65s\tremaining: 2.43s\n",
      "522:\tlearn: 0.2154050\ttotal: 2.66s\tremaining: 2.42s\n",
      "523:\tlearn: 0.2151534\ttotal: 2.66s\tremaining: 2.42s\n",
      "524:\tlearn: 0.2147791\ttotal: 2.67s\tremaining: 2.41s\n",
      "525:\tlearn: 0.2144412\ttotal: 2.67s\tremaining: 2.41s\n",
      "526:\tlearn: 0.2138938\ttotal: 2.67s\tremaining: 2.4s\n",
      "527:\tlearn: 0.2135730\ttotal: 2.68s\tremaining: 2.4s\n",
      "528:\tlearn: 0.2134157\ttotal: 2.69s\tremaining: 2.39s\n",
      "529:\tlearn: 0.2131602\ttotal: 2.69s\tremaining: 2.39s\n",
      "530:\tlearn: 0.2128663\ttotal: 2.7s\tremaining: 2.38s\n",
      "531:\tlearn: 0.2125419\ttotal: 2.7s\tremaining: 2.38s\n",
      "532:\tlearn: 0.2123068\ttotal: 2.71s\tremaining: 2.37s\n",
      "533:\tlearn: 0.2121697\ttotal: 2.71s\tremaining: 2.37s\n",
      "534:\tlearn: 0.2120758\ttotal: 2.72s\tremaining: 2.36s\n",
      "535:\tlearn: 0.2118420\ttotal: 2.72s\tremaining: 2.35s\n",
      "536:\tlearn: 0.2116745\ttotal: 2.72s\tremaining: 2.35s\n",
      "537:\tlearn: 0.2114433\ttotal: 2.73s\tremaining: 2.35s\n",
      "538:\tlearn: 0.2112020\ttotal: 2.74s\tremaining: 2.34s\n",
      "539:\tlearn: 0.2106298\ttotal: 2.74s\tremaining: 2.34s\n",
      "540:\tlearn: 0.2101231\ttotal: 2.75s\tremaining: 2.33s\n",
      "541:\tlearn: 0.2098315\ttotal: 2.75s\tremaining: 2.32s\n",
      "542:\tlearn: 0.2094247\ttotal: 2.75s\tremaining: 2.32s\n",
      "543:\tlearn: 0.2091627\ttotal: 2.76s\tremaining: 2.31s\n",
      "544:\tlearn: 0.2090001\ttotal: 2.76s\tremaining: 2.31s\n",
      "545:\tlearn: 0.2088623\ttotal: 2.77s\tremaining: 2.3s\n",
      "546:\tlearn: 0.2086513\ttotal: 2.77s\tremaining: 2.29s\n",
      "547:\tlearn: 0.2083774\ttotal: 2.77s\tremaining: 2.29s\n",
      "548:\tlearn: 0.2080515\ttotal: 2.78s\tremaining: 2.28s\n",
      "549:\tlearn: 0.2079717\ttotal: 2.78s\tremaining: 2.28s\n",
      "550:\tlearn: 0.2075201\ttotal: 2.79s\tremaining: 2.27s\n",
      "551:\tlearn: 0.2073599\ttotal: 2.79s\tremaining: 2.27s\n",
      "552:\tlearn: 0.2070246\ttotal: 2.8s\tremaining: 2.26s\n",
      "553:\tlearn: 0.2068926\ttotal: 2.8s\tremaining: 2.25s\n",
      "554:\tlearn: 0.2067532\ttotal: 2.8s\tremaining: 2.25s\n",
      "555:\tlearn: 0.2064740\ttotal: 2.81s\tremaining: 2.24s\n",
      "556:\tlearn: 0.2062073\ttotal: 2.81s\tremaining: 2.23s\n",
      "557:\tlearn: 0.2057927\ttotal: 2.81s\tremaining: 2.23s\n",
      "558:\tlearn: 0.2054889\ttotal: 2.81s\tremaining: 2.22s\n",
      "559:\tlearn: 0.2052400\ttotal: 2.82s\tremaining: 2.21s\n",
      "560:\tlearn: 0.2049422\ttotal: 2.82s\tremaining: 2.21s\n",
      "561:\tlearn: 0.2047935\ttotal: 2.83s\tremaining: 2.2s\n",
      "562:\tlearn: 0.2044899\ttotal: 2.83s\tremaining: 2.2s\n",
      "563:\tlearn: 0.2043342\ttotal: 2.83s\tremaining: 2.19s\n",
      "564:\tlearn: 0.2042087\ttotal: 2.84s\tremaining: 2.19s\n",
      "565:\tlearn: 0.2040169\ttotal: 2.84s\tremaining: 2.18s\n",
      "566:\tlearn: 0.2038459\ttotal: 2.85s\tremaining: 2.17s\n",
      "567:\tlearn: 0.2035812\ttotal: 2.85s\tremaining: 2.17s\n",
      "568:\tlearn: 0.2033554\ttotal: 2.85s\tremaining: 2.16s\n",
      "569:\tlearn: 0.2032267\ttotal: 2.86s\tremaining: 2.15s\n",
      "570:\tlearn: 0.2030057\ttotal: 2.86s\tremaining: 2.15s\n",
      "571:\tlearn: 0.2024203\ttotal: 2.86s\tremaining: 2.14s\n",
      "572:\tlearn: 0.2019597\ttotal: 2.87s\tremaining: 2.14s\n",
      "573:\tlearn: 0.2018289\ttotal: 2.87s\tremaining: 2.13s\n",
      "574:\tlearn: 0.2015936\ttotal: 2.88s\tremaining: 2.13s\n",
      "575:\tlearn: 0.2011104\ttotal: 2.88s\tremaining: 2.12s\n",
      "576:\tlearn: 0.2009147\ttotal: 2.88s\tremaining: 2.11s\n",
      "577:\tlearn: 0.2005295\ttotal: 2.89s\tremaining: 2.11s\n",
      "578:\tlearn: 0.2003780\ttotal: 2.89s\tremaining: 2.1s\n",
      "579:\tlearn: 0.2002343\ttotal: 2.89s\tremaining: 2.09s\n",
      "580:\tlearn: 0.2000042\ttotal: 2.9s\tremaining: 2.09s\n",
      "581:\tlearn: 0.1997557\ttotal: 2.9s\tremaining: 2.08s\n",
      "582:\tlearn: 0.1996385\ttotal: 2.9s\tremaining: 2.08s\n",
      "583:\tlearn: 0.1994481\ttotal: 2.9s\tremaining: 2.07s\n",
      "584:\tlearn: 0.1992348\ttotal: 2.91s\tremaining: 2.06s\n",
      "585:\tlearn: 0.1990306\ttotal: 2.91s\tremaining: 2.06s\n",
      "586:\tlearn: 0.1988679\ttotal: 2.92s\tremaining: 2.05s\n",
      "587:\tlearn: 0.1987431\ttotal: 2.92s\tremaining: 2.05s\n",
      "588:\tlearn: 0.1985588\ttotal: 2.93s\tremaining: 2.04s\n",
      "589:\tlearn: 0.1984177\ttotal: 2.93s\tremaining: 2.04s\n",
      "590:\tlearn: 0.1981362\ttotal: 2.93s\tremaining: 2.03s\n",
      "591:\tlearn: 0.1979583\ttotal: 2.94s\tremaining: 2.02s\n",
      "592:\tlearn: 0.1977179\ttotal: 2.94s\tremaining: 2.02s\n",
      "593:\tlearn: 0.1976066\ttotal: 2.94s\tremaining: 2.01s\n",
      "594:\tlearn: 0.1973942\ttotal: 2.94s\tremaining: 2s\n",
      "595:\tlearn: 0.1971436\ttotal: 2.95s\tremaining: 2s\n",
      "596:\tlearn: 0.1966536\ttotal: 2.95s\tremaining: 1.99s\n",
      "597:\tlearn: 0.1965097\ttotal: 2.95s\tremaining: 1.99s\n",
      "598:\tlearn: 0.1963028\ttotal: 2.96s\tremaining: 1.98s\n",
      "599:\tlearn: 0.1960126\ttotal: 2.96s\tremaining: 1.97s\n",
      "600:\tlearn: 0.1957808\ttotal: 2.97s\tremaining: 1.97s\n",
      "601:\tlearn: 0.1955328\ttotal: 2.97s\tremaining: 1.96s\n",
      "602:\tlearn: 0.1950776\ttotal: 2.98s\tremaining: 1.96s\n",
      "603:\tlearn: 0.1946536\ttotal: 2.98s\tremaining: 1.95s\n",
      "604:\tlearn: 0.1943604\ttotal: 2.98s\tremaining: 1.95s\n",
      "605:\tlearn: 0.1941729\ttotal: 2.98s\tremaining: 1.94s\n",
      "606:\tlearn: 0.1938985\ttotal: 2.99s\tremaining: 1.93s\n",
      "607:\tlearn: 0.1936395\ttotal: 2.99s\tremaining: 1.93s\n",
      "608:\tlearn: 0.1934731\ttotal: 2.99s\tremaining: 1.92s\n",
      "609:\tlearn: 0.1933031\ttotal: 3s\tremaining: 1.92s\n",
      "610:\tlearn: 0.1931803\ttotal: 3s\tremaining: 1.91s\n",
      "611:\tlearn: 0.1927885\ttotal: 3s\tremaining: 1.91s\n",
      "612:\tlearn: 0.1925177\ttotal: 3.01s\tremaining: 1.9s\n",
      "613:\tlearn: 0.1923518\ttotal: 3.01s\tremaining: 1.89s\n",
      "614:\tlearn: 0.1920949\ttotal: 3.02s\tremaining: 1.89s\n",
      "615:\tlearn: 0.1919441\ttotal: 3.02s\tremaining: 1.88s\n",
      "616:\tlearn: 0.1918118\ttotal: 3.03s\tremaining: 1.88s\n",
      "617:\tlearn: 0.1915093\ttotal: 3.03s\tremaining: 1.87s\n",
      "618:\tlearn: 0.1913364\ttotal: 3.04s\tremaining: 1.87s\n",
      "619:\tlearn: 0.1911199\ttotal: 3.04s\tremaining: 1.86s\n",
      "620:\tlearn: 0.1905634\ttotal: 3.04s\tremaining: 1.86s\n",
      "621:\tlearn: 0.1903676\ttotal: 3.05s\tremaining: 1.85s\n",
      "622:\tlearn: 0.1901817\ttotal: 3.05s\tremaining: 1.84s\n",
      "623:\tlearn: 0.1900519\ttotal: 3.05s\tremaining: 1.84s\n",
      "624:\tlearn: 0.1899507\ttotal: 3.06s\tremaining: 1.83s\n",
      "625:\tlearn: 0.1893658\ttotal: 3.07s\tremaining: 1.83s\n",
      "626:\tlearn: 0.1892326\ttotal: 3.07s\tremaining: 1.83s\n",
      "627:\tlearn: 0.1890801\ttotal: 3.08s\tremaining: 1.82s\n",
      "628:\tlearn: 0.1888066\ttotal: 3.08s\tremaining: 1.82s\n",
      "629:\tlearn: 0.1886389\ttotal: 3.08s\tremaining: 1.81s\n",
      "630:\tlearn: 0.1885079\ttotal: 3.08s\tremaining: 1.8s\n",
      "631:\tlearn: 0.1883583\ttotal: 3.09s\tremaining: 1.8s\n",
      "632:\tlearn: 0.1880269\ttotal: 3.09s\tremaining: 1.79s\n",
      "633:\tlearn: 0.1878145\ttotal: 3.1s\tremaining: 1.79s\n",
      "634:\tlearn: 0.1875027\ttotal: 3.1s\tremaining: 1.78s\n",
      "635:\tlearn: 0.1869894\ttotal: 3.1s\tremaining: 1.78s\n",
      "636:\tlearn: 0.1866940\ttotal: 3.11s\tremaining: 1.77s\n",
      "637:\tlearn: 0.1862223\ttotal: 3.11s\tremaining: 1.77s\n",
      "638:\tlearn: 0.1859633\ttotal: 3.12s\tremaining: 1.76s\n",
      "639:\tlearn: 0.1858544\ttotal: 3.12s\tremaining: 1.75s\n",
      "640:\tlearn: 0.1854141\ttotal: 3.13s\tremaining: 1.75s\n",
      "641:\tlearn: 0.1850631\ttotal: 3.13s\tremaining: 1.75s\n",
      "642:\tlearn: 0.1847539\ttotal: 3.13s\tremaining: 1.74s\n",
      "643:\tlearn: 0.1845219\ttotal: 3.14s\tremaining: 1.73s\n",
      "644:\tlearn: 0.1842917\ttotal: 3.14s\tremaining: 1.73s\n",
      "645:\tlearn: 0.1840541\ttotal: 3.14s\tremaining: 1.72s\n",
      "646:\tlearn: 0.1837658\ttotal: 3.15s\tremaining: 1.72s\n",
      "647:\tlearn: 0.1835610\ttotal: 3.15s\tremaining: 1.71s\n",
      "648:\tlearn: 0.1834050\ttotal: 3.16s\tremaining: 1.71s\n",
      "649:\tlearn: 0.1832088\ttotal: 3.16s\tremaining: 1.7s\n",
      "650:\tlearn: 0.1828026\ttotal: 3.17s\tremaining: 1.7s\n",
      "651:\tlearn: 0.1826316\ttotal: 3.17s\tremaining: 1.69s\n",
      "652:\tlearn: 0.1825246\ttotal: 3.17s\tremaining: 1.69s\n",
      "653:\tlearn: 0.1822576\ttotal: 3.17s\tremaining: 1.68s\n",
      "654:\tlearn: 0.1820832\ttotal: 3.18s\tremaining: 1.67s\n",
      "655:\tlearn: 0.1819169\ttotal: 3.18s\tremaining: 1.67s\n",
      "656:\tlearn: 0.1816519\ttotal: 3.18s\tremaining: 1.66s\n",
      "657:\tlearn: 0.1814913\ttotal: 3.19s\tremaining: 1.66s\n",
      "658:\tlearn: 0.1812380\ttotal: 3.19s\tremaining: 1.65s\n",
      "659:\tlearn: 0.1809949\ttotal: 3.19s\tremaining: 1.65s\n",
      "660:\tlearn: 0.1807639\ttotal: 3.2s\tremaining: 1.64s\n",
      "661:\tlearn: 0.1805154\ttotal: 3.2s\tremaining: 1.63s\n",
      "662:\tlearn: 0.1802624\ttotal: 3.21s\tremaining: 1.63s\n",
      "663:\tlearn: 0.1801070\ttotal: 3.21s\tremaining: 1.62s\n",
      "664:\tlearn: 0.1798023\ttotal: 3.21s\tremaining: 1.62s\n",
      "665:\tlearn: 0.1796547\ttotal: 3.22s\tremaining: 1.61s\n",
      "666:\tlearn: 0.1794352\ttotal: 3.22s\tremaining: 1.61s\n",
      "667:\tlearn: 0.1792106\ttotal: 3.23s\tremaining: 1.6s\n",
      "668:\tlearn: 0.1790330\ttotal: 3.23s\tremaining: 1.6s\n",
      "669:\tlearn: 0.1788896\ttotal: 3.23s\tremaining: 1.59s\n",
      "670:\tlearn: 0.1787750\ttotal: 3.24s\tremaining: 1.59s\n",
      "671:\tlearn: 0.1786923\ttotal: 3.24s\tremaining: 1.58s\n",
      "672:\tlearn: 0.1785395\ttotal: 3.25s\tremaining: 1.58s\n",
      "673:\tlearn: 0.1783740\ttotal: 3.25s\tremaining: 1.57s\n",
      "674:\tlearn: 0.1782830\ttotal: 3.26s\tremaining: 1.57s\n",
      "675:\tlearn: 0.1780560\ttotal: 3.26s\tremaining: 1.56s\n",
      "676:\tlearn: 0.1778926\ttotal: 3.26s\tremaining: 1.56s\n",
      "677:\tlearn: 0.1776460\ttotal: 3.27s\tremaining: 1.55s\n",
      "678:\tlearn: 0.1773540\ttotal: 3.27s\tremaining: 1.55s\n",
      "679:\tlearn: 0.1770558\ttotal: 3.27s\tremaining: 1.54s\n",
      "680:\tlearn: 0.1768943\ttotal: 3.28s\tremaining: 1.53s\n",
      "681:\tlearn: 0.1766779\ttotal: 3.28s\tremaining: 1.53s\n",
      "682:\tlearn: 0.1764050\ttotal: 3.28s\tremaining: 1.52s\n",
      "683:\tlearn: 0.1762945\ttotal: 3.29s\tremaining: 1.52s\n",
      "684:\tlearn: 0.1757961\ttotal: 3.29s\tremaining: 1.51s\n",
      "685:\tlearn: 0.1755921\ttotal: 3.29s\tremaining: 1.51s\n",
      "686:\tlearn: 0.1754918\ttotal: 3.3s\tremaining: 1.5s\n",
      "687:\tlearn: 0.1753329\ttotal: 3.31s\tremaining: 1.5s\n",
      "688:\tlearn: 0.1751316\ttotal: 3.31s\tremaining: 1.49s\n",
      "689:\tlearn: 0.1749073\ttotal: 3.31s\tremaining: 1.49s\n",
      "690:\tlearn: 0.1748337\ttotal: 3.32s\tremaining: 1.48s\n",
      "691:\tlearn: 0.1747366\ttotal: 3.32s\tremaining: 1.48s\n",
      "692:\tlearn: 0.1745822\ttotal: 3.33s\tremaining: 1.47s\n",
      "693:\tlearn: 0.1745021\ttotal: 3.33s\tremaining: 1.47s\n",
      "694:\tlearn: 0.1743343\ttotal: 3.33s\tremaining: 1.46s\n",
      "695:\tlearn: 0.1742205\ttotal: 3.34s\tremaining: 1.46s\n",
      "696:\tlearn: 0.1741371\ttotal: 3.34s\tremaining: 1.45s\n",
      "697:\tlearn: 0.1737163\ttotal: 3.35s\tremaining: 1.45s\n",
      "698:\tlearn: 0.1735842\ttotal: 3.35s\tremaining: 1.44s\n",
      "699:\tlearn: 0.1732884\ttotal: 3.35s\tremaining: 1.44s\n",
      "700:\tlearn: 0.1730252\ttotal: 3.36s\tremaining: 1.43s\n",
      "701:\tlearn: 0.1726742\ttotal: 3.36s\tremaining: 1.43s\n",
      "702:\tlearn: 0.1724882\ttotal: 3.37s\tremaining: 1.42s\n",
      "703:\tlearn: 0.1723540\ttotal: 3.37s\tremaining: 1.42s\n",
      "704:\tlearn: 0.1718325\ttotal: 3.37s\tremaining: 1.41s\n",
      "705:\tlearn: 0.1715585\ttotal: 3.38s\tremaining: 1.41s\n",
      "706:\tlearn: 0.1714045\ttotal: 3.38s\tremaining: 1.4s\n",
      "707:\tlearn: 0.1711787\ttotal: 3.38s\tremaining: 1.39s\n",
      "708:\tlearn: 0.1709622\ttotal: 3.38s\tremaining: 1.39s\n",
      "709:\tlearn: 0.1708413\ttotal: 3.39s\tremaining: 1.38s\n",
      "710:\tlearn: 0.1706883\ttotal: 3.39s\tremaining: 1.38s\n",
      "711:\tlearn: 0.1705083\ttotal: 3.4s\tremaining: 1.38s\n",
      "712:\tlearn: 0.1703682\ttotal: 3.4s\tremaining: 1.37s\n",
      "713:\tlearn: 0.1702931\ttotal: 3.41s\tremaining: 1.36s\n",
      "714:\tlearn: 0.1701870\ttotal: 3.41s\tremaining: 1.36s\n",
      "715:\tlearn: 0.1700543\ttotal: 3.41s\tremaining: 1.35s\n"
     ]
    },
    {
     "name": "stdout",
     "output_type": "stream",
     "text": [
      "716:\tlearn: 0.1698713\ttotal: 3.42s\tremaining: 1.35s\n",
      "717:\tlearn: 0.1697936\ttotal: 3.42s\tremaining: 1.34s\n",
      "718:\tlearn: 0.1696083\ttotal: 3.43s\tremaining: 1.34s\n",
      "719:\tlearn: 0.1694323\ttotal: 3.43s\tremaining: 1.33s\n",
      "720:\tlearn: 0.1691106\ttotal: 3.43s\tremaining: 1.33s\n",
      "721:\tlearn: 0.1689339\ttotal: 3.44s\tremaining: 1.32s\n",
      "722:\tlearn: 0.1687256\ttotal: 3.44s\tremaining: 1.32s\n",
      "723:\tlearn: 0.1685644\ttotal: 3.44s\tremaining: 1.31s\n",
      "724:\tlearn: 0.1683921\ttotal: 3.45s\tremaining: 1.31s\n",
      "725:\tlearn: 0.1679099\ttotal: 3.45s\tremaining: 1.3s\n",
      "726:\tlearn: 0.1678067\ttotal: 3.46s\tremaining: 1.3s\n",
      "727:\tlearn: 0.1676748\ttotal: 3.46s\tremaining: 1.29s\n",
      "728:\tlearn: 0.1675388\ttotal: 3.46s\tremaining: 1.29s\n",
      "729:\tlearn: 0.1673639\ttotal: 3.46s\tremaining: 1.28s\n",
      "730:\tlearn: 0.1671962\ttotal: 3.47s\tremaining: 1.28s\n",
      "731:\tlearn: 0.1670644\ttotal: 3.47s\tremaining: 1.27s\n",
      "732:\tlearn: 0.1668917\ttotal: 3.47s\tremaining: 1.26s\n",
      "733:\tlearn: 0.1666975\ttotal: 3.48s\tremaining: 1.26s\n",
      "734:\tlearn: 0.1664803\ttotal: 3.48s\tremaining: 1.25s\n",
      "735:\tlearn: 0.1662867\ttotal: 3.48s\tremaining: 1.25s\n",
      "736:\tlearn: 0.1658737\ttotal: 3.49s\tremaining: 1.24s\n",
      "737:\tlearn: 0.1657063\ttotal: 3.49s\tremaining: 1.24s\n",
      "738:\tlearn: 0.1655630\ttotal: 3.5s\tremaining: 1.24s\n",
      "739:\tlearn: 0.1654079\ttotal: 3.5s\tremaining: 1.23s\n",
      "740:\tlearn: 0.1653080\ttotal: 3.5s\tremaining: 1.22s\n",
      "741:\tlearn: 0.1651889\ttotal: 3.51s\tremaining: 1.22s\n",
      "742:\tlearn: 0.1650433\ttotal: 3.51s\tremaining: 1.21s\n",
      "743:\tlearn: 0.1647697\ttotal: 3.51s\tremaining: 1.21s\n",
      "744:\tlearn: 0.1645891\ttotal: 3.52s\tremaining: 1.2s\n",
      "745:\tlearn: 0.1645030\ttotal: 3.52s\tremaining: 1.2s\n",
      "746:\tlearn: 0.1643548\ttotal: 3.52s\tremaining: 1.19s\n",
      "747:\tlearn: 0.1641587\ttotal: 3.52s\tremaining: 1.19s\n",
      "748:\tlearn: 0.1638380\ttotal: 3.53s\tremaining: 1.18s\n",
      "749:\tlearn: 0.1636610\ttotal: 3.54s\tremaining: 1.18s\n",
      "750:\tlearn: 0.1634416\ttotal: 3.54s\tremaining: 1.17s\n",
      "751:\tlearn: 0.1632739\ttotal: 3.54s\tremaining: 1.17s\n",
      "752:\tlearn: 0.1631343\ttotal: 3.55s\tremaining: 1.16s\n",
      "753:\tlearn: 0.1630057\ttotal: 3.55s\tremaining: 1.16s\n",
      "754:\tlearn: 0.1629165\ttotal: 3.55s\tremaining: 1.15s\n",
      "755:\tlearn: 0.1626893\ttotal: 3.56s\tremaining: 1.15s\n",
      "756:\tlearn: 0.1625052\ttotal: 3.56s\tremaining: 1.14s\n",
      "757:\tlearn: 0.1624384\ttotal: 3.56s\tremaining: 1.14s\n",
      "758:\tlearn: 0.1622571\ttotal: 3.57s\tremaining: 1.13s\n",
      "759:\tlearn: 0.1621243\ttotal: 3.57s\tremaining: 1.13s\n",
      "760:\tlearn: 0.1619987\ttotal: 3.57s\tremaining: 1.12s\n",
      "761:\tlearn: 0.1618267\ttotal: 3.58s\tremaining: 1.12s\n",
      "762:\tlearn: 0.1615444\ttotal: 3.58s\tremaining: 1.11s\n",
      "763:\tlearn: 0.1614636\ttotal: 3.58s\tremaining: 1.11s\n",
      "764:\tlearn: 0.1613143\ttotal: 3.59s\tremaining: 1.1s\n",
      "765:\tlearn: 0.1612319\ttotal: 3.59s\tremaining: 1.1s\n",
      "766:\tlearn: 0.1610998\ttotal: 3.6s\tremaining: 1.09s\n",
      "767:\tlearn: 0.1607220\ttotal: 3.6s\tremaining: 1.09s\n",
      "768:\tlearn: 0.1605244\ttotal: 3.6s\tremaining: 1.08s\n",
      "769:\tlearn: 0.1604105\ttotal: 3.61s\tremaining: 1.08s\n",
      "770:\tlearn: 0.1601991\ttotal: 3.61s\tremaining: 1.07s\n",
      "771:\tlearn: 0.1598465\ttotal: 3.62s\tremaining: 1.07s\n",
      "772:\tlearn: 0.1595669\ttotal: 3.62s\tremaining: 1.06s\n",
      "773:\tlearn: 0.1592028\ttotal: 3.62s\tremaining: 1.06s\n",
      "774:\tlearn: 0.1589667\ttotal: 3.63s\tremaining: 1.05s\n",
      "775:\tlearn: 0.1588072\ttotal: 3.63s\tremaining: 1.05s\n",
      "776:\tlearn: 0.1586856\ttotal: 3.64s\tremaining: 1.04s\n",
      "777:\tlearn: 0.1586239\ttotal: 3.64s\tremaining: 1.04s\n",
      "778:\tlearn: 0.1585051\ttotal: 3.64s\tremaining: 1.03s\n",
      "779:\tlearn: 0.1582806\ttotal: 3.65s\tremaining: 1.03s\n",
      "780:\tlearn: 0.1581264\ttotal: 3.65s\tremaining: 1.02s\n",
      "781:\tlearn: 0.1579659\ttotal: 3.65s\tremaining: 1.02s\n",
      "782:\tlearn: 0.1577201\ttotal: 3.66s\tremaining: 1.01s\n",
      "783:\tlearn: 0.1575445\ttotal: 3.66s\tremaining: 1.01s\n",
      "784:\tlearn: 0.1573746\ttotal: 3.66s\tremaining: 1s\n",
      "785:\tlearn: 0.1572878\ttotal: 3.67s\tremaining: 998ms\n",
      "786:\tlearn: 0.1571659\ttotal: 3.67s\tremaining: 993ms\n",
      "787:\tlearn: 0.1568372\ttotal: 3.68s\tremaining: 989ms\n",
      "788:\tlearn: 0.1567560\ttotal: 3.68s\tremaining: 984ms\n",
      "789:\tlearn: 0.1566502\ttotal: 3.69s\tremaining: 980ms\n",
      "790:\tlearn: 0.1565625\ttotal: 3.69s\tremaining: 975ms\n",
      "791:\tlearn: 0.1564268\ttotal: 3.69s\tremaining: 970ms\n",
      "792:\tlearn: 0.1562837\ttotal: 3.69s\tremaining: 964ms\n",
      "793:\tlearn: 0.1562254\ttotal: 3.7s\tremaining: 959ms\n",
      "794:\tlearn: 0.1561132\ttotal: 3.7s\tremaining: 954ms\n",
      "795:\tlearn: 0.1559381\ttotal: 3.7s\tremaining: 949ms\n",
      "796:\tlearn: 0.1558368\ttotal: 3.71s\tremaining: 944ms\n",
      "797:\tlearn: 0.1557601\ttotal: 3.71s\tremaining: 939ms\n",
      "798:\tlearn: 0.1556924\ttotal: 3.71s\tremaining: 934ms\n",
      "799:\tlearn: 0.1555582\ttotal: 3.71s\tremaining: 929ms\n",
      "800:\tlearn: 0.1554148\ttotal: 3.72s\tremaining: 924ms\n",
      "801:\tlearn: 0.1553276\ttotal: 3.72s\tremaining: 919ms\n",
      "802:\tlearn: 0.1552168\ttotal: 3.73s\tremaining: 915ms\n",
      "803:\tlearn: 0.1551598\ttotal: 3.73s\tremaining: 910ms\n",
      "804:\tlearn: 0.1549392\ttotal: 3.73s\tremaining: 905ms\n",
      "805:\tlearn: 0.1546364\ttotal: 3.74s\tremaining: 900ms\n",
      "806:\tlearn: 0.1545510\ttotal: 3.74s\tremaining: 895ms\n",
      "807:\tlearn: 0.1544077\ttotal: 3.74s\tremaining: 890ms\n",
      "808:\tlearn: 0.1541246\ttotal: 3.75s\tremaining: 885ms\n",
      "809:\tlearn: 0.1540221\ttotal: 3.75s\tremaining: 880ms\n",
      "810:\tlearn: 0.1538073\ttotal: 3.75s\tremaining: 875ms\n",
      "811:\tlearn: 0.1535797\ttotal: 3.76s\tremaining: 870ms\n",
      "812:\tlearn: 0.1535199\ttotal: 3.76s\tremaining: 865ms\n",
      "813:\tlearn: 0.1533650\ttotal: 3.76s\tremaining: 860ms\n",
      "814:\tlearn: 0.1532222\ttotal: 3.77s\tremaining: 856ms\n",
      "815:\tlearn: 0.1530119\ttotal: 3.77s\tremaining: 851ms\n",
      "816:\tlearn: 0.1527538\ttotal: 3.78s\tremaining: 846ms\n",
      "817:\tlearn: 0.1522862\ttotal: 3.78s\tremaining: 841ms\n",
      "818:\tlearn: 0.1520612\ttotal: 3.78s\tremaining: 836ms\n",
      "819:\tlearn: 0.1516977\ttotal: 3.79s\tremaining: 832ms\n",
      "820:\tlearn: 0.1514010\ttotal: 3.79s\tremaining: 827ms\n",
      "821:\tlearn: 0.1512360\ttotal: 3.79s\tremaining: 822ms\n",
      "822:\tlearn: 0.1510811\ttotal: 3.8s\tremaining: 817ms\n",
      "823:\tlearn: 0.1509833\ttotal: 3.8s\tremaining: 812ms\n",
      "824:\tlearn: 0.1507200\ttotal: 3.81s\tremaining: 808ms\n",
      "825:\tlearn: 0.1506481\ttotal: 3.81s\tremaining: 803ms\n",
      "826:\tlearn: 0.1505941\ttotal: 3.82s\tremaining: 798ms\n",
      "827:\tlearn: 0.1504240\ttotal: 3.82s\tremaining: 794ms\n",
      "828:\tlearn: 0.1500835\ttotal: 3.82s\tremaining: 789ms\n",
      "829:\tlearn: 0.1499072\ttotal: 3.83s\tremaining: 784ms\n",
      "830:\tlearn: 0.1497407\ttotal: 3.83s\tremaining: 779ms\n",
      "831:\tlearn: 0.1496519\ttotal: 3.83s\tremaining: 774ms\n",
      "832:\tlearn: 0.1495197\ttotal: 3.84s\tremaining: 769ms\n",
      "833:\tlearn: 0.1494507\ttotal: 3.84s\tremaining: 765ms\n",
      "834:\tlearn: 0.1493460\ttotal: 3.84s\tremaining: 760ms\n",
      "835:\tlearn: 0.1493057\ttotal: 3.85s\tremaining: 755ms\n",
      "836:\tlearn: 0.1491813\ttotal: 3.85s\tremaining: 750ms\n",
      "837:\tlearn: 0.1488358\ttotal: 3.85s\tremaining: 745ms\n",
      "838:\tlearn: 0.1486806\ttotal: 3.86s\tremaining: 740ms\n",
      "839:\tlearn: 0.1485058\ttotal: 3.87s\tremaining: 736ms\n",
      "840:\tlearn: 0.1483883\ttotal: 3.87s\tremaining: 732ms\n",
      "841:\tlearn: 0.1482318\ttotal: 3.87s\tremaining: 727ms\n",
      "842:\tlearn: 0.1480833\ttotal: 3.88s\tremaining: 722ms\n",
      "843:\tlearn: 0.1479938\ttotal: 3.88s\tremaining: 718ms\n",
      "844:\tlearn: 0.1478532\ttotal: 3.88s\tremaining: 713ms\n",
      "845:\tlearn: 0.1477716\ttotal: 3.89s\tremaining: 708ms\n",
      "846:\tlearn: 0.1476862\ttotal: 3.89s\tremaining: 703ms\n",
      "847:\tlearn: 0.1474107\ttotal: 3.9s\tremaining: 698ms\n",
      "848:\tlearn: 0.1473351\ttotal: 3.9s\tremaining: 693ms\n",
      "849:\tlearn: 0.1471794\ttotal: 3.9s\tremaining: 689ms\n",
      "850:\tlearn: 0.1469365\ttotal: 3.91s\tremaining: 684ms\n",
      "851:\tlearn: 0.1467856\ttotal: 3.91s\tremaining: 680ms\n",
      "852:\tlearn: 0.1466520\ttotal: 3.92s\tremaining: 675ms\n",
      "853:\tlearn: 0.1463968\ttotal: 3.92s\tremaining: 670ms\n",
      "854:\tlearn: 0.1462882\ttotal: 3.92s\tremaining: 666ms\n",
      "855:\tlearn: 0.1458685\ttotal: 3.93s\tremaining: 661ms\n",
      "856:\tlearn: 0.1457272\ttotal: 3.93s\tremaining: 656ms\n",
      "857:\tlearn: 0.1456575\ttotal: 3.93s\tremaining: 651ms\n",
      "858:\tlearn: 0.1454933\ttotal: 3.94s\tremaining: 647ms\n",
      "859:\tlearn: 0.1453585\ttotal: 3.94s\tremaining: 642ms\n",
      "860:\tlearn: 0.1452488\ttotal: 3.94s\tremaining: 637ms\n",
      "861:\tlearn: 0.1450532\ttotal: 3.95s\tremaining: 632ms\n",
      "862:\tlearn: 0.1448168\ttotal: 3.95s\tremaining: 627ms\n",
      "863:\tlearn: 0.1444372\ttotal: 3.96s\tremaining: 623ms\n",
      "864:\tlearn: 0.1442999\ttotal: 3.96s\tremaining: 618ms\n",
      "865:\tlearn: 0.1441989\ttotal: 3.96s\tremaining: 614ms\n",
      "866:\tlearn: 0.1438584\ttotal: 3.97s\tremaining: 609ms\n",
      "867:\tlearn: 0.1437100\ttotal: 3.97s\tremaining: 604ms\n",
      "868:\tlearn: 0.1436224\ttotal: 3.98s\tremaining: 599ms\n",
      "869:\tlearn: 0.1435421\ttotal: 3.98s\tremaining: 594ms\n",
      "870:\tlearn: 0.1434021\ttotal: 3.98s\tremaining: 590ms\n",
      "871:\tlearn: 0.1430134\ttotal: 3.98s\tremaining: 585ms\n",
      "872:\tlearn: 0.1428810\ttotal: 3.99s\tremaining: 580ms\n",
      "873:\tlearn: 0.1425887\ttotal: 3.99s\tremaining: 575ms\n"
     ]
    },
    {
     "name": "stdout",
     "output_type": "stream",
     "text": [
      "874:\tlearn: 0.1423606\ttotal: 3.99s\tremaining: 571ms\n",
      "875:\tlearn: 0.1421957\ttotal: 4s\tremaining: 566ms\n",
      "876:\tlearn: 0.1419847\ttotal: 4s\tremaining: 562ms\n",
      "877:\tlearn: 0.1418861\ttotal: 4.01s\tremaining: 557ms\n",
      "878:\tlearn: 0.1417685\ttotal: 4.01s\tremaining: 553ms\n",
      "879:\tlearn: 0.1416294\ttotal: 4.02s\tremaining: 548ms\n",
      "880:\tlearn: 0.1414845\ttotal: 4.02s\tremaining: 543ms\n",
      "881:\tlearn: 0.1414081\ttotal: 4.02s\tremaining: 538ms\n",
      "882:\tlearn: 0.1413179\ttotal: 4.03s\tremaining: 534ms\n",
      "883:\tlearn: 0.1412221\ttotal: 4.24s\tremaining: 556ms\n",
      "884:\tlearn: 0.1409200\ttotal: 4.29s\tremaining: 557ms\n",
      "885:\tlearn: 0.1406396\ttotal: 4.34s\tremaining: 558ms\n",
      "886:\tlearn: 0.1402702\ttotal: 4.35s\tremaining: 554ms\n",
      "887:\tlearn: 0.1400787\ttotal: 4.36s\tremaining: 550ms\n",
      "888:\tlearn: 0.1399941\ttotal: 4.36s\tremaining: 545ms\n",
      "889:\tlearn: 0.1396702\ttotal: 4.37s\tremaining: 540ms\n",
      "890:\tlearn: 0.1395524\ttotal: 4.37s\tremaining: 535ms\n",
      "891:\tlearn: 0.1392829\ttotal: 4.38s\tremaining: 530ms\n",
      "892:\tlearn: 0.1390327\ttotal: 4.39s\tremaining: 526ms\n",
      "893:\tlearn: 0.1384733\ttotal: 4.39s\tremaining: 521ms\n",
      "894:\tlearn: 0.1382812\ttotal: 4.39s\tremaining: 516ms\n",
      "895:\tlearn: 0.1380323\ttotal: 4.4s\tremaining: 511ms\n",
      "896:\tlearn: 0.1377463\ttotal: 4.41s\tremaining: 506ms\n",
      "897:\tlearn: 0.1376064\ttotal: 4.41s\tremaining: 501ms\n",
      "898:\tlearn: 0.1374422\ttotal: 4.41s\tremaining: 496ms\n",
      "899:\tlearn: 0.1371584\ttotal: 4.42s\tremaining: 491ms\n",
      "900:\tlearn: 0.1370280\ttotal: 4.42s\tremaining: 486ms\n",
      "901:\tlearn: 0.1368578\ttotal: 4.43s\tremaining: 481ms\n",
      "902:\tlearn: 0.1367296\ttotal: 4.45s\tremaining: 478ms\n",
      "903:\tlearn: 0.1366665\ttotal: 4.46s\tremaining: 474ms\n",
      "904:\tlearn: 0.1365042\ttotal: 4.48s\tremaining: 470ms\n",
      "905:\tlearn: 0.1363512\ttotal: 4.48s\tremaining: 465ms\n",
      "906:\tlearn: 0.1361798\ttotal: 4.49s\tremaining: 461ms\n",
      "907:\tlearn: 0.1360912\ttotal: 4.5s\tremaining: 456ms\n",
      "908:\tlearn: 0.1358669\ttotal: 4.5s\tremaining: 451ms\n",
      "909:\tlearn: 0.1357729\ttotal: 4.51s\tremaining: 446ms\n",
      "910:\tlearn: 0.1357094\ttotal: 4.51s\tremaining: 441ms\n",
      "911:\tlearn: 0.1355723\ttotal: 4.52s\tremaining: 436ms\n",
      "912:\tlearn: 0.1355174\ttotal: 4.53s\tremaining: 432ms\n",
      "913:\tlearn: 0.1353819\ttotal: 4.54s\tremaining: 427ms\n",
      "914:\tlearn: 0.1353110\ttotal: 4.54s\tremaining: 422ms\n",
      "915:\tlearn: 0.1351621\ttotal: 4.55s\tremaining: 417ms\n",
      "916:\tlearn: 0.1349542\ttotal: 4.55s\tremaining: 412ms\n",
      "917:\tlearn: 0.1348264\ttotal: 4.56s\tremaining: 407ms\n",
      "918:\tlearn: 0.1347538\ttotal: 4.56s\tremaining: 402ms\n",
      "919:\tlearn: 0.1346663\ttotal: 4.57s\tremaining: 397ms\n",
      "920:\tlearn: 0.1345368\ttotal: 4.57s\tremaining: 392ms\n",
      "921:\tlearn: 0.1344614\ttotal: 4.57s\tremaining: 387ms\n",
      "922:\tlearn: 0.1342530\ttotal: 4.58s\tremaining: 382ms\n",
      "923:\tlearn: 0.1341910\ttotal: 4.58s\tremaining: 377ms\n",
      "924:\tlearn: 0.1340316\ttotal: 4.58s\tremaining: 372ms\n",
      "925:\tlearn: 0.1339002\ttotal: 4.59s\tremaining: 367ms\n",
      "926:\tlearn: 0.1337561\ttotal: 4.6s\tremaining: 362ms\n",
      "927:\tlearn: 0.1336232\ttotal: 4.6s\tremaining: 357ms\n",
      "928:\tlearn: 0.1335796\ttotal: 4.61s\tremaining: 352ms\n",
      "929:\tlearn: 0.1334110\ttotal: 4.71s\tremaining: 355ms\n",
      "930:\tlearn: 0.1332479\ttotal: 4.73s\tremaining: 350ms\n",
      "931:\tlearn: 0.1332057\ttotal: 4.74s\tremaining: 346ms\n",
      "932:\tlearn: 0.1327789\ttotal: 4.75s\tremaining: 341ms\n",
      "933:\tlearn: 0.1326464\ttotal: 4.75s\tremaining: 336ms\n",
      "934:\tlearn: 0.1325250\ttotal: 4.76s\tremaining: 331ms\n",
      "935:\tlearn: 0.1323723\ttotal: 4.76s\tremaining: 326ms\n",
      "936:\tlearn: 0.1322607\ttotal: 4.77s\tremaining: 321ms\n",
      "937:\tlearn: 0.1321505\ttotal: 4.78s\tremaining: 316ms\n",
      "938:\tlearn: 0.1319588\ttotal: 4.78s\tremaining: 310ms\n",
      "939:\tlearn: 0.1318342\ttotal: 4.78s\tremaining: 305ms\n",
      "940:\tlearn: 0.1317404\ttotal: 4.79s\tremaining: 300ms\n",
      "941:\tlearn: 0.1316222\ttotal: 4.79s\tremaining: 295ms\n",
      "942:\tlearn: 0.1315090\ttotal: 4.8s\tremaining: 290ms\n",
      "943:\tlearn: 0.1314485\ttotal: 4.8s\tremaining: 285ms\n",
      "944:\tlearn: 0.1313273\ttotal: 4.81s\tremaining: 280ms\n",
      "945:\tlearn: 0.1312139\ttotal: 4.84s\tremaining: 276ms\n",
      "946:\tlearn: 0.1309770\ttotal: 4.85s\tremaining: 271ms\n",
      "947:\tlearn: 0.1308748\ttotal: 4.86s\tremaining: 267ms\n",
      "948:\tlearn: 0.1306551\ttotal: 4.88s\tremaining: 263ms\n",
      "949:\tlearn: 0.1305537\ttotal: 4.91s\tremaining: 258ms\n",
      "950:\tlearn: 0.1304778\ttotal: 4.93s\tremaining: 254ms\n",
      "951:\tlearn: 0.1303376\ttotal: 4.96s\tremaining: 250ms\n",
      "952:\tlearn: 0.1301852\ttotal: 4.96s\tremaining: 245ms\n",
      "953:\tlearn: 0.1301386\ttotal: 4.96s\tremaining: 239ms\n",
      "954:\tlearn: 0.1299930\ttotal: 4.97s\tremaining: 234ms\n",
      "955:\tlearn: 0.1299449\ttotal: 4.97s\tremaining: 229ms\n",
      "956:\tlearn: 0.1298001\ttotal: 4.98s\tremaining: 224ms\n",
      "957:\tlearn: 0.1296645\ttotal: 4.98s\tremaining: 218ms\n",
      "958:\tlearn: 0.1295424\ttotal: 5.02s\tremaining: 215ms\n",
      "959:\tlearn: 0.1294784\ttotal: 5.03s\tremaining: 210ms\n",
      "960:\tlearn: 0.1293538\ttotal: 5.17s\tremaining: 210ms\n",
      "961:\tlearn: 0.1292804\ttotal: 5.18s\tremaining: 205ms\n",
      "962:\tlearn: 0.1291623\ttotal: 5.19s\tremaining: 200ms\n",
      "963:\tlearn: 0.1290390\ttotal: 5.2s\tremaining: 194ms\n",
      "964:\tlearn: 0.1289281\ttotal: 5.21s\tremaining: 189ms\n",
      "965:\tlearn: 0.1288730\ttotal: 5.21s\tremaining: 184ms\n",
      "966:\tlearn: 0.1287879\ttotal: 5.22s\tremaining: 178ms\n",
      "967:\tlearn: 0.1287058\ttotal: 5.23s\tremaining: 173ms\n",
      "968:\tlearn: 0.1286592\ttotal: 5.24s\tremaining: 168ms\n",
      "969:\tlearn: 0.1286076\ttotal: 5.24s\tremaining: 162ms\n",
      "970:\tlearn: 0.1285592\ttotal: 5.24s\tremaining: 157ms\n",
      "971:\tlearn: 0.1284680\ttotal: 5.25s\tremaining: 151ms\n",
      "972:\tlearn: 0.1283305\ttotal: 5.25s\tremaining: 146ms\n",
      "973:\tlearn: 0.1282348\ttotal: 5.26s\tremaining: 140ms\n",
      "974:\tlearn: 0.1281899\ttotal: 5.26s\tremaining: 135ms\n",
      "975:\tlearn: 0.1280889\ttotal: 5.27s\tremaining: 129ms\n",
      "976:\tlearn: 0.1280348\ttotal: 5.27s\tremaining: 124ms\n",
      "977:\tlearn: 0.1279324\ttotal: 5.27s\tremaining: 119ms\n",
      "978:\tlearn: 0.1277590\ttotal: 5.28s\tremaining: 113ms\n",
      "979:\tlearn: 0.1276953\ttotal: 5.29s\tremaining: 108ms\n",
      "980:\tlearn: 0.1275840\ttotal: 5.29s\tremaining: 102ms\n",
      "981:\tlearn: 0.1274630\ttotal: 5.29s\tremaining: 97ms\n",
      "982:\tlearn: 0.1273447\ttotal: 5.3s\tremaining: 91.6ms\n",
      "983:\tlearn: 0.1272182\ttotal: 5.3s\tremaining: 86.2ms\n",
      "984:\tlearn: 0.1271751\ttotal: 5.3s\tremaining: 80.8ms\n",
      "985:\tlearn: 0.1270683\ttotal: 5.31s\tremaining: 75.4ms\n",
      "986:\tlearn: 0.1270042\ttotal: 5.31s\tremaining: 70ms\n",
      "987:\tlearn: 0.1268789\ttotal: 5.32s\tremaining: 64.6ms\n",
      "988:\tlearn: 0.1268128\ttotal: 5.32s\tremaining: 59.2ms\n",
      "989:\tlearn: 0.1267236\ttotal: 5.32s\tremaining: 53.8ms\n",
      "990:\tlearn: 0.1266348\ttotal: 5.33s\tremaining: 48.4ms\n",
      "991:\tlearn: 0.1265358\ttotal: 5.33s\tremaining: 43ms\n",
      "992:\tlearn: 0.1264671\ttotal: 5.34s\tremaining: 37.6ms\n",
      "993:\tlearn: 0.1264067\ttotal: 5.34s\tremaining: 32.2ms\n",
      "994:\tlearn: 0.1263249\ttotal: 5.34s\tremaining: 26.9ms\n",
      "995:\tlearn: 0.1262697\ttotal: 5.35s\tremaining: 21.5ms\n",
      "996:\tlearn: 0.1261647\ttotal: 5.35s\tremaining: 16.1ms\n",
      "997:\tlearn: 0.1260275\ttotal: 5.36s\tremaining: 10.7ms\n",
      "998:\tlearn: 0.1259920\ttotal: 5.36s\tremaining: 5.37ms\n",
      "999:\tlearn: 0.1259209\ttotal: 5.37s\tremaining: 0us\n"
     ]
    }
   ],
   "source": [
    "#训练模型\n",
    "Classify_result=[]\n",
    "names=[]\n",
    "prediction=[]\n",
    "for name,classifier in Classifiers:\n",
    "    classifier = classifier\n",
    "    #训练模型\n",
    "    classifier.fit(x_smo,y_smo)\n",
    "    #目标预测值\n",
    "    y_pred = classifier.predict(X_test)\n",
    "    #召回率\n",
    "    recall = recall_score(y_test,y_pred)\n",
    "    #准确率\n",
    "    precision = precision_score(y_test,y_pred)\n",
    "    #f1综合得分\n",
    "    f1 = f1_score(y_test,y_pred)\n",
    "    #准确度\n",
    "    accuracy=accuracy_score(y_test,y_pred)\n",
    "    #评估结果合并\n",
    "    class_eva = pd.DataFrame([recall,precision,f1,accuracy])\n",
    "    Classify_result.append(class_eva)\n",
    "    #模型名称\n",
    "    name=pd.Series(name)\n",
    "    names.append(name)\n",
    "    #预测结果\n",
    "    y_pred = pd.Series(y_pred)\n",
    "    prediction.append(y_pred)"
   ]
  },
  {
   "cell_type": "code",
   "execution_count": null,
   "id": "ef655710",
   "metadata": {},
   "outputs": [],
   "source": [
    "# Import algoritmos de ensemble\n",
    "from sklearn.ensemble import GradientBoostingClassifier\n",
    "from sklearn.ensemble import RandomForestClassifier\n",
    "from sklearn.ensemble import AdaBoostClassifier\n",
    "from sklearn.ensemble import VotingClassifier\n",
    "\n",
    "import xgboost as xgb\n",
    "from xgboost import XGBClassifier\n",
    "#import lightgbm \n",
    "#import catboost\n",
    "#from lightgbm import LGBMClassifier\n",
    "#from catboost import CatBoostClassifier\n",
    "\n",
    "#Import Funciones para mejores hiperparametros\n",
    "from sklearn.model_selection import GridSearchCV\n",
    "import multiprocessing\n",
    "from multiprocessing import Pool\n",
    "from sklearn.model_selection import RepeatedKFold"
   ]
  },
  {
   "cell_type": "markdown",
   "id": "43796ea8",
   "metadata": {},
   "source": [
    "### Evaluación del modelo"
   ]
  },
  {
   "cell_type": "code",
   "execution_count": 76,
   "id": "2c734e77",
   "metadata": {},
   "outputs": [
    {
     "data": {
      "text/html": [
       "<div>\n",
       "<style scoped>\n",
       "    .dataframe tbody tr th:only-of-type {\n",
       "        vertical-align: middle;\n",
       "    }\n",
       "\n",
       "    .dataframe tbody tr th {\n",
       "        vertical-align: top;\n",
       "    }\n",
       "\n",
       "    .dataframe thead th {\n",
       "        text-align: right;\n",
       "    }\n",
       "</style>\n",
       "<table border=\"1\" class=\"dataframe\">\n",
       "  <thead>\n",
       "    <tr style=\"text-align: right;\">\n",
       "      <th></th>\n",
       "      <th>Random Forest</th>\n",
       "      <th>Support Vector Machine</th>\n",
       "      <th>LogisticRegression</th>\n",
       "      <th>KNN</th>\n",
       "      <th>Naive Bayes</th>\n",
       "      <th>Decision Tree</th>\n",
       "      <th>AdaBoostClassifier</th>\n",
       "      <th>GradientBoostingClassifier</th>\n",
       "      <th>XGB</th>\n",
       "      <th>CatBoost</th>\n",
       "    </tr>\n",
       "  </thead>\n",
       "  <tbody>\n",
       "    <tr>\n",
       "      <th>recall</th>\n",
       "      <td>0.265625</td>\n",
       "      <td>0.546875</td>\n",
       "      <td>0.812500</td>\n",
       "      <td>0.421875</td>\n",
       "      <td>0.734375</td>\n",
       "      <td>0.234375</td>\n",
       "      <td>0.734375</td>\n",
       "      <td>0.531250</td>\n",
       "      <td>0.109375</td>\n",
       "      <td>0.234375</td>\n",
       "    </tr>\n",
       "    <tr>\n",
       "      <th>precision</th>\n",
       "      <td>0.124088</td>\n",
       "      <td>0.102941</td>\n",
       "      <td>0.125301</td>\n",
       "      <td>0.097122</td>\n",
       "      <td>0.105618</td>\n",
       "      <td>0.085227</td>\n",
       "      <td>0.118687</td>\n",
       "      <td>0.114094</td>\n",
       "      <td>0.132075</td>\n",
       "      <td>0.154639</td>\n",
       "    </tr>\n",
       "    <tr>\n",
       "      <th>F1_score</th>\n",
       "      <td>0.169154</td>\n",
       "      <td>0.173267</td>\n",
       "      <td>0.217119</td>\n",
       "      <td>0.157895</td>\n",
       "      <td>0.184676</td>\n",
       "      <td>0.125000</td>\n",
       "      <td>0.204348</td>\n",
       "      <td>0.187845</td>\n",
       "      <td>0.119658</td>\n",
       "      <td>0.186335</td>\n",
       "    </tr>\n",
       "    <tr>\n",
       "      <th>accuracy_score</th>\n",
       "      <td>0.887995</td>\n",
       "      <td>0.775989</td>\n",
       "      <td>0.748491</td>\n",
       "      <td>0.806841</td>\n",
       "      <td>0.721663</td>\n",
       "      <td>0.859155</td>\n",
       "      <td>0.754527</td>\n",
       "      <td>0.802817</td>\n",
       "      <td>0.930919</td>\n",
       "      <td>0.912140</td>\n",
       "    </tr>\n",
       "  </tbody>\n",
       "</table>\n",
       "</div>"
      ],
      "text/plain": [
       "                Random Forest  Support Vector Machine  LogisticRegression  \\\n",
       "recall               0.265625                0.546875            0.812500   \n",
       "precision            0.124088                0.102941            0.125301   \n",
       "F1_score             0.169154                0.173267            0.217119   \n",
       "accuracy_score       0.887995                0.775989            0.748491   \n",
       "\n",
       "                     KNN  Naive Bayes  Decision Tree  AdaBoostClassifier  \\\n",
       "recall          0.421875     0.734375       0.234375            0.734375   \n",
       "precision       0.097122     0.105618       0.085227            0.118687   \n",
       "F1_score        0.157895     0.184676       0.125000            0.204348   \n",
       "accuracy_score  0.806841     0.721663       0.859155            0.754527   \n",
       "\n",
       "                GradientBoostingClassifier       XGB  CatBoost  \n",
       "recall                            0.531250  0.109375  0.234375  \n",
       "precision                         0.114094  0.132075  0.154639  \n",
       "F1_score                          0.187845  0.119658  0.186335  \n",
       "accuracy_score                    0.802817  0.930919  0.912140  "
      ]
     },
     "execution_count": 76,
     "metadata": {},
     "output_type": "execute_result"
    }
   ],
   "source": [
    "#评估模型\n",
    "\"\"\"recall召回率：原本为对的当中，预测为对的比例（值越大越好，1为理想状态）\n",
    "precision精确率：预测为对的当中，原本为对的比例（值越大越好，1为理想状态）\n",
    "F1-Score F1分数：指标综合了Precision和recall的产出结果\n",
    "F1-Score取值范围0-1，1代表模型输出的结果最好，0代表模型输出结果最差\n",
    "\"\"\"\n",
    "names = pd.DataFrame(names)\n",
    "names = names[0].tolist()\n",
    "#将各个结果合并在一起\n",
    "result = pd.concat(Classify_result,axis=1)\n",
    "result.columns = names\n",
    "result.index=[\"recall\",\"precision\",\"F1_score\",\"accuracy_score\"]\n",
    "result"
   ]
  },
  {
   "cell_type": "markdown",
   "id": "526341e7",
   "metadata": {},
   "source": [
    "#### Conclusión: \n",
    "De acuerdo con el puntaje F1, LogisticRegression, Naive Bayes y AdaBoostClassifier son altos, y luego GradientBoostingClassifier y KNN, elegimos LogisticRegressioncomo este algoritmo de predicción."
   ]
  },
  {
   "cell_type": "markdown",
   "id": "33de9902",
   "metadata": {},
   "source": [
    "### plan de IMPLEMENTACION"
   ]
  },
  {
   "cell_type": "code",
   "execution_count": 78,
   "id": "5fd73ac7",
   "metadata": {},
   "outputs": [
    {
     "data": {
      "text/html": [
       "<div>\n",
       "<style scoped>\n",
       "    .dataframe tbody tr th:only-of-type {\n",
       "        vertical-align: middle;\n",
       "    }\n",
       "\n",
       "    .dataframe tbody tr th {\n",
       "        vertical-align: top;\n",
       "    }\n",
       "\n",
       "    .dataframe thead th {\n",
       "        text-align: right;\n",
       "    }\n",
       "</style>\n",
       "<table border=\"1\" class=\"dataframe\">\n",
       "  <thead>\n",
       "    <tr style=\"text-align: right;\">\n",
       "      <th></th>\n",
       "      <th>id</th>\n",
       "      <th>stroke</th>\n",
       "    </tr>\n",
       "  </thead>\n",
       "  <tbody>\n",
       "    <tr>\n",
       "      <th>4870</th>\n",
       "      <td>4882</td>\n",
       "      <td>0</td>\n",
       "    </tr>\n",
       "    <tr>\n",
       "      <th>4871</th>\n",
       "      <td>4883</td>\n",
       "      <td>0</td>\n",
       "    </tr>\n",
       "    <tr>\n",
       "      <th>4872</th>\n",
       "      <td>4884</td>\n",
       "      <td>0</td>\n",
       "    </tr>\n",
       "    <tr>\n",
       "      <th>4873</th>\n",
       "      <td>4885</td>\n",
       "      <td>0</td>\n",
       "    </tr>\n",
       "    <tr>\n",
       "      <th>4874</th>\n",
       "      <td>4886</td>\n",
       "      <td>0</td>\n",
       "    </tr>\n",
       "    <tr>\n",
       "      <th>...</th>\n",
       "      <td>...</td>\n",
       "      <td>...</td>\n",
       "    </tr>\n",
       "    <tr>\n",
       "      <th>4965</th>\n",
       "      <td>4977</td>\n",
       "      <td>0</td>\n",
       "    </tr>\n",
       "    <tr>\n",
       "      <th>4966</th>\n",
       "      <td>4978</td>\n",
       "      <td>0</td>\n",
       "    </tr>\n",
       "    <tr>\n",
       "      <th>4967</th>\n",
       "      <td>4979</td>\n",
       "      <td>0</td>\n",
       "    </tr>\n",
       "    <tr>\n",
       "      <th>4968</th>\n",
       "      <td>4980</td>\n",
       "      <td>0</td>\n",
       "    </tr>\n",
       "    <tr>\n",
       "      <th>4969</th>\n",
       "      <td>4981</td>\n",
       "      <td>0</td>\n",
       "    </tr>\n",
       "  </tbody>\n",
       "</table>\n",
       "<p>100 rows × 2 columns</p>\n",
       "</div>"
      ],
      "text/plain": [
       "        id  stroke\n",
       "4870  4882       0\n",
       "4871  4883       0\n",
       "4872  4884       0\n",
       "4873  4885       0\n",
       "4874  4886       0\n",
       "...    ...     ...\n",
       "4965  4977       0\n",
       "4966  4978       0\n",
       "4967  4979       0\n",
       "4968  4980       0\n",
       "4969  4981       0\n",
       "\n",
       "[100 rows x 2 columns]"
      ]
     },
     "execution_count": 78,
     "metadata": {},
     "output_type": "execute_result"
    }
   ],
   "source": [
    "#预测数据集特征\n",
    "pred_X = data_comvar.tail(100)\n",
    "#提取id\n",
    "pred_id = data[\"id\"].tail(100)\n",
    "\n",
    "#使用朴素贝叶斯方法，预测用户中风情况\n",
    "model = GradientBoostingClassifier()\n",
    "model.fit(X_train,y_train)\n",
    "pred_y = model.predict(pred_X)\n",
    "\n",
    "#预测结果\n",
    "predDf = pd.DataFrame({\"id\":pred_id,\"stroke\":pred_y})\n",
    "predDf"
   ]
  },
  {
   "cell_type": "markdown",
   "id": "a6b61ae5",
   "metadata": {},
   "source": [
    "### Conclusión Recomendaciones"
   ]
  },
  {
   "cell_type": "markdown",
   "id": "625d704c",
   "metadata": {},
   "source": [
    "#### En conclusión:\n",
    "\n",
    "* Existe una correlación significativa entre el ictus y la edad, y con la edad de 40 años como punto de corte, el riesgo de ictus aumenta aún más con la edad;\n",
    "*  El nivel de glucosa en sangre de la población con accidente cerebrovascular se distribuye en un rango relativamente concentrado, alrededor de 77,24 a 114,09.\n",
    "* La distribución de datos es desigual, el entrenamiento del modelo es insuficiente y es necesario mejorar la precisión de la predicción.\n",
    "#### Sugerir:\n",
    "\n",
    "1. Se recomienda que los usuarios, especialmente los mayores de 40 años, eviten el riesgo de accidente cerebrovascular debido a las dos dimensiones de los hábitos de vida y las inspecciones periódicas, vivan una vida normal, presten atención a la dieta y, al mismo tiempo, aumenten la frecuencia. de exámenes físicos y exámenes físicos regulares para hacer un buen trabajo en la prevención;\n",
    "2. Aunque el nivel de azúcar en la sangre de los pacientes con accidente cerebrovascular está relativamente concentrado en un cierto rango, este rango también se superpone en gran medida con el rango de nivel de azúcar en la sangre de las personas sin accidente cerebrovascular. Los usuarios con este nivel de azúcar en la sangre no necesitan estar demasiado nerviosos, la sangre el azúcar es demasiado alto o si es demasiado bajo, el riesgo de accidente cerebrovascular puede ser pequeño, pero aumentará el riesgo de otras enfermedades Por lo tanto, mantenga hábitos de vida saludables y exámenes físicos regulares para la prevención;\n",
    "3. Recopilación complementaria de la recopilación de datos correspondiente para pacientes con accidente cerebrovascular, así como la expansión de más datos característicos, para entrenar aún más el modelo de máquina y mejorar la precisión de la predicción."
   ]
  },
  {
   "cell_type": "code",
   "execution_count": null,
   "id": "c0c93528",
   "metadata": {},
   "outputs": [],
   "source": []
  }
 ],
 "metadata": {
  "kernelspec": {
   "display_name": "Python 3 (ipykernel)",
   "language": "python",
   "name": "python3"
  },
  "language_info": {
   "codemirror_mode": {
    "name": "ipython",
    "version": 3
   },
   "file_extension": ".py",
   "mimetype": "text/x-python",
   "name": "python",
   "nbconvert_exporter": "python",
   "pygments_lexer": "ipython3",
   "version": "3.9.13"
  }
 },
 "nbformat": 4,
 "nbformat_minor": 5
}
