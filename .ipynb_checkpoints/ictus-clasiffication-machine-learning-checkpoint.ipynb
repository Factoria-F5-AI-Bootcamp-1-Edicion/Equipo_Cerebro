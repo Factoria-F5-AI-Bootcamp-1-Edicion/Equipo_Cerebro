{
 "cells": [
  {
   "cell_type": "code",
   "execution_count": 1,
   "metadata": {
    "_cell_guid": "b1076dfc-b9ad-4769-8c92-a6c4dae69d19",
    "_uuid": "8f2839f25d086af736a60e9eeb907d3b93b6e0e5",
    "execution": {
     "iopub.status.busy": "2022-09-20T09:57:09.993445Z",
     "iopub.status.idle": "2022-09-20T09:57:09.993931Z",
     "shell.execute_reply": "2022-09-20T09:57:09.993738Z",
     "shell.execute_reply.started": "2022-09-20T09:57:09.993714Z"
    }
   },
   "outputs": [],
   "source": [
    "# This Python 3 environment comes with many helpful analytics libraries installed\n",
    "# It is defined by the kaggle/python Docker image: https://github.com/kaggle/docker-python\n",
    "# For example, here's several helpful packages to load\n",
    "\n",
    "import numpy as np # linear algebra\n",
    "import pandas as pd # data processing, CSV file I/O (e.g. pd.read_csv)\n",
    "\n",
    "# Input data files are available in the read-only \"../input/\" directory\n",
    "# For example, running this (by clicking run or pressing Shift+Enter) will list all files under the input directory\n",
    "\n",
    "import os\n",
    "for dirname, _, filenames in os.walk('/kaggle/input'):\n",
    "    for filename in filenames:\n",
    "        print(os.path.join(dirname, filename))\n",
    "\n",
    "# You can write up to 20GB to the current directory (/kaggle/working/) that gets preserved as output when you create a version using \"Save & Run All\" \n",
    "# You can also write temporary files to /kaggle/temp/, but they won't be saved outside of the current session"
   ]
  },
  {
   "cell_type": "code",
   "execution_count": null,
   "metadata": {
    "execution": {
     "iopub.execute_input": "2022-09-20T07:12:45.044891Z",
     "iopub.status.busy": "2022-09-20T07:12:45.044312Z",
     "iopub.status.idle": "2022-09-20T07:12:58.386095Z",
     "shell.execute_reply": "2022-09-20T07:12:58.384544Z",
     "shell.execute_reply.started": "2022-09-20T07:12:45.04484Z"
    }
   },
   "outputs": [],
   "source": [
    "pip install feature_engine"
   ]
  },
  {
   "cell_type": "code",
   "execution_count": null,
   "metadata": {
    "execution": {
     "iopub.status.busy": "2022-09-20T09:57:09.995701Z",
     "iopub.status.idle": "2022-09-20T09:57:09.996122Z",
     "shell.execute_reply": "2022-09-20T09:57:09.995946Z",
     "shell.execute_reply.started": "2022-09-20T09:57:09.995926Z"
    }
   },
   "outputs": [],
   "source": [
    "import pandas as pd\n",
    "import numpy as np\n",
    "import seaborn as sns\n",
    "import matplotlib.pyplot as plt\n",
    "import matplotlib \n",
    "plt.style.use(\"ggplot\")"
   ]
  },
  {
   "cell_type": "code",
   "execution_count": null,
   "metadata": {
    "execution": {
     "iopub.status.busy": "2022-09-20T09:57:09.997654Z",
     "iopub.status.idle": "2022-09-20T09:57:09.998279Z",
     "shell.execute_reply": "2022-09-20T09:57:09.998010Z",
     "shell.execute_reply.started": "2022-09-20T09:57:09.997981Z"
    }
   },
   "outputs": [],
   "source": [
    "# Preprocesado y modelado\n",
    "# ==============================================================================\n",
    "import feature_engine\n",
    "from sklearn.ensemble import GradientBoostingClassifier\n",
    "from sklearn import svm\n",
    "from sklearn import metrics\n",
    "from sklearn.metrics import accuracy_score\n",
    "from sklearn.metrics import confusion_matrix\n",
    "from sklearn.compose import ColumnTransformer\n",
    "from sklearn.preprocessing import OneHotEncoder\n",
    "from sklearn.model_selection import cross_val_score\n",
    "from sklearn.model_selection import train_test_split\n",
    "from sklearn.model_selection import RepeatedKFold\n",
    "from sklearn.model_selection import KFold\n",
    "from sklearn.model_selection import GridSearchCV\n",
    "from sklearn.model_selection import ParameterGrid\n",
    "from sklearn.inspection import permutation_importance\n",
    "import multiprocessing\n",
    "import xgboost as xgb\n",
    "\n",
    "# Configuración warnings\n",
    "# ==============================================================================\n",
    "import warnings\n",
    "warnings.filterwarnings('once')"
   ]
  },
  {
   "cell_type": "code",
   "execution_count": null,
   "metadata": {
    "execution": {
     "iopub.execute_input": "2022-09-20T09:57:14.394550Z",
     "iopub.status.busy": "2022-09-20T09:57:14.393565Z",
     "iopub.status.idle": "2022-09-20T09:57:14.433002Z",
     "shell.execute_reply": "2022-09-20T09:57:14.430572Z",
     "shell.execute_reply.started": "2022-09-20T09:57:14.394499Z"
    }
   },
   "outputs": [],
   "source": [
    "df= pd.read_csv('stroke_dataset.csv')\n",
    "df.head(5)"
   ]
  },
  {
   "cell_type": "code",
   "execution_count": null,
   "metadata": {
    "execution": {
     "iopub.execute_input": "2022-09-20T07:14:11.516483Z",
     "iopub.status.busy": "2022-09-20T07:14:11.516049Z",
     "iopub.status.idle": "2022-09-20T07:14:11.563964Z",
     "shell.execute_reply": "2022-09-20T07:14:11.562731Z",
     "shell.execute_reply.started": "2022-09-20T07:14:11.516448Z"
    }
   },
   "outputs": [],
   "source": [
    "df.describe()"
   ]
  },
  {
   "cell_type": "code",
   "execution_count": null,
   "metadata": {
    "execution": {
     "iopub.execute_input": "2022-09-20T07:15:18.453211Z",
     "iopub.status.busy": "2022-09-20T07:15:18.451874Z",
     "iopub.status.idle": "2022-09-20T07:15:18.465371Z",
     "shell.execute_reply": "2022-09-20T07:15:18.464479Z",
     "shell.execute_reply.started": "2022-09-20T07:15:18.453162Z"
    }
   },
   "outputs": [],
   "source": [
    "df.isnull().sum()"
   ]
  },
  {
   "cell_type": "markdown",
   "metadata": {},
   "source": [
    "* Este dataset tiene un total de 4981 entradas y 11 variables, entre ellas la variable a predecir (stroke).\n",
    "\n",
    "* No haydtos nulos en ninguna de las filas o columnas del dataset."
   ]
  },
  {
   "cell_type": "code",
   "execution_count": null,
   "metadata": {
    "execution": {
     "iopub.execute_input": "2022-09-20T07:32:36.58742Z",
     "iopub.status.busy": "2022-09-20T07:32:36.586884Z",
     "iopub.status.idle": "2022-09-20T07:32:36.605055Z",
     "shell.execute_reply": "2022-09-20T07:32:36.603404Z",
     "shell.execute_reply.started": "2022-09-20T07:32:36.587378Z"
    }
   },
   "outputs": [],
   "source": [
    "for i in df.columns:\n",
    "    print('{} --------------------------> {}'.format(i, df[i].nunique()))\n"
   ]
  },
  {
   "cell_type": "code",
   "execution_count": null,
   "metadata": {
    "execution": {
     "iopub.execute_input": "2022-09-20T07:42:09.868677Z",
     "iopub.status.busy": "2022-09-20T07:42:09.868195Z",
     "iopub.status.idle": "2022-09-20T07:42:09.879265Z",
     "shell.execute_reply": "2022-09-20T07:42:09.877759Z",
     "shell.execute_reply.started": "2022-09-20T07:42:09.86864Z"
    }
   },
   "outputs": [],
   "source": [
    "df.gender.value_counts()"
   ]
  },
  {
   "cell_type": "code",
   "execution_count": null,
   "metadata": {
    "execution": {
     "iopub.execute_input": "2022-09-20T07:43:09.228838Z",
     "iopub.status.busy": "2022-09-20T07:43:09.227201Z",
     "iopub.status.idle": "2022-09-20T07:43:09.238674Z",
     "shell.execute_reply": "2022-09-20T07:43:09.23744Z",
     "shell.execute_reply.started": "2022-09-20T07:43:09.228776Z"
    }
   },
   "outputs": [],
   "source": [
    "df.hypertension.value_counts()"
   ]
  },
  {
   "cell_type": "code",
   "execution_count": null,
   "metadata": {
    "execution": {
     "iopub.execute_input": "2022-09-20T07:43:09.228838Z",
     "iopub.status.busy": "2022-09-20T07:43:09.227201Z",
     "iopub.status.idle": "2022-09-20T07:43:09.238674Z",
     "shell.execute_reply": "2022-09-20T07:43:09.23744Z",
     "shell.execute_reply.started": "2022-09-20T07:43:09.228776Z"
    }
   },
   "outputs": [],
   "source": [
    "df.heart_disease.value_counts()"
   ]
  },
  {
   "cell_type": "code",
   "execution_count": null,
   "metadata": {
    "execution": {
     "iopub.execute_input": "2022-09-20T07:46:35.389938Z",
     "iopub.status.busy": "2022-09-20T07:46:35.389526Z",
     "iopub.status.idle": "2022-09-20T07:46:35.398658Z",
     "shell.execute_reply": "2022-09-20T07:46:35.397915Z",
     "shell.execute_reply.started": "2022-09-20T07:46:35.389904Z"
    }
   },
   "outputs": [],
   "source": [
    "df.ever_married.value_counts()"
   ]
  },
  {
   "cell_type": "code",
   "execution_count": null,
   "metadata": {
    "execution": {
     "iopub.execute_input": "2022-09-20T07:47:13.477634Z",
     "iopub.status.busy": "2022-09-20T07:47:13.477177Z",
     "iopub.status.idle": "2022-09-20T07:47:13.487253Z",
     "shell.execute_reply": "2022-09-20T07:47:13.486094Z",
     "shell.execute_reply.started": "2022-09-20T07:47:13.477598Z"
    }
   },
   "outputs": [],
   "source": [
    "df.Residence_type.value_counts()"
   ]
  },
  {
   "cell_type": "code",
   "execution_count": null,
   "metadata": {
    "execution": {
     "iopub.execute_input": "2022-09-20T07:17:44.862502Z",
     "iopub.status.busy": "2022-09-20T07:17:44.86204Z",
     "iopub.status.idle": "2022-09-20T07:17:44.885699Z",
     "shell.execute_reply": "2022-09-20T07:17:44.884506Z",
     "shell.execute_reply.started": "2022-09-20T07:17:44.862464Z"
    }
   },
   "outputs": [],
   "source": [
    "df.info()"
   ]
  },
  {
   "cell_type": "markdown",
   "metadata": {},
   "source": [
    "# Transformación de variables a bol & int"
   ]
  },
  {
   "cell_type": "code",
   "execution_count": null,
   "metadata": {
    "execution": {
     "iopub.execute_input": "2022-09-20T07:56:28.243432Z",
     "iopub.status.busy": "2022-09-20T07:56:28.242977Z",
     "iopub.status.idle": "2022-09-20T07:56:28.267044Z",
     "shell.execute_reply": "2022-09-20T07:56:28.265552Z",
     "shell.execute_reply.started": "2022-09-20T07:56:28.243397Z"
    }
   },
   "outputs": [],
   "source": [
    "df[[\"gender\", \"hypertension\", \"heart_disease\"  , \"ever_married\" , \"Residence_type\" ]] = df[[\"gender\", \"hypertension\", \"heart_disease\" ,  \"ever_married\" , \"Residence_type\"]].astype('bool').astype(int)\n",
    "df.info()"
   ]
  },
  {
   "cell_type": "code",
   "execution_count": null,
   "metadata": {
    "execution": {
     "iopub.execute_input": "2022-09-20T08:02:33.122365Z",
     "iopub.status.busy": "2022-09-20T08:02:33.121868Z",
     "iopub.status.idle": "2022-09-20T08:02:33.134359Z",
     "shell.execute_reply": "2022-09-20T08:02:33.133025Z",
     "shell.execute_reply.started": "2022-09-20T08:02:33.122325Z"
    }
   },
   "outputs": [],
   "source": [
    "df.age.round()"
   ]
  },
  {
   "cell_type": "code",
   "execution_count": null,
   "metadata": {
    "execution": {
     "iopub.execute_input": "2022-09-20T08:04:59.55552Z",
     "iopub.status.busy": "2022-09-20T08:04:59.555007Z",
     "iopub.status.idle": "2022-09-20T08:04:59.573765Z",
     "shell.execute_reply": "2022-09-20T08:04:59.572567Z",
     "shell.execute_reply.started": "2022-09-20T08:04:59.555484Z"
    }
   },
   "outputs": [],
   "source": [
    "df[[\"age\"]]= df[[\"age\"]].astype(int)\n",
    "df.info()"
   ]
  },
  {
   "cell_type": "code",
   "execution_count": null,
   "metadata": {
    "execution": {
     "iopub.execute_input": "2022-09-20T08:05:27.812486Z",
     "iopub.status.busy": "2022-09-20T08:05:27.812091Z",
     "iopub.status.idle": "2022-09-20T08:05:27.824963Z",
     "shell.execute_reply": "2022-09-20T08:05:27.823657Z",
     "shell.execute_reply.started": "2022-09-20T08:05:27.812456Z"
    }
   },
   "outputs": [],
   "source": [
    "df.age.describe()"
   ]
  },
  {
   "cell_type": "code",
   "execution_count": null,
   "metadata": {
    "execution": {
     "iopub.execute_input": "2022-09-20T08:09:58.010771Z",
     "iopub.status.busy": "2022-09-20T08:09:58.010229Z",
     "iopub.status.idle": "2022-09-20T08:09:58.027527Z",
     "shell.execute_reply": "2022-09-20T08:09:58.025977Z",
     "shell.execute_reply.started": "2022-09-20T08:09:58.010732Z"
    }
   },
   "outputs": [],
   "source": [
    "df.age.describe().round(2)"
   ]
  },
  {
   "cell_type": "code",
   "execution_count": null,
   "metadata": {
    "execution": {
     "iopub.execute_input": "2022-09-20T08:30:48.576977Z",
     "iopub.status.busy": "2022-09-20T08:30:48.576569Z",
     "iopub.status.idle": "2022-09-20T08:30:48.585009Z",
     "shell.execute_reply": "2022-09-20T08:30:48.583825Z",
     "shell.execute_reply.started": "2022-09-20T08:30:48.576945Z"
    }
   },
   "outputs": [],
   "source": [
    "numericas = [\"age\", \"avg_glucose_level\" , \"bmi\"]\n",
    "numericas"
   ]
  },
  {
   "cell_type": "code",
   "execution_count": null,
   "metadata": {
    "execution": {
     "iopub.execute_input": "2022-09-20T08:31:26.117874Z",
     "iopub.status.busy": "2022-09-20T08:31:26.117402Z",
     "iopub.status.idle": "2022-09-20T08:31:26.126008Z",
     "shell.execute_reply": "2022-09-20T08:31:26.124904Z",
     "shell.execute_reply.started": "2022-09-20T08:31:26.117838Z"
    }
   },
   "outputs": [],
   "source": [
    "binarias = [\"gender\", \"hypertension\", \"heart_disease\"  , \"ever_married\" , \"Residence_type\" ]\n",
    "binarias"
   ]
  },
  {
   "cell_type": "code",
   "execution_count": null,
   "metadata": {
    "execution": {
     "iopub.execute_input": "2022-09-20T09:22:26.031424Z",
     "iopub.status.busy": "2022-09-20T09:22:26.031019Z",
     "iopub.status.idle": "2022-09-20T09:22:26.038689Z",
     "shell.execute_reply": "2022-09-20T09:22:26.037571Z",
     "shell.execute_reply.started": "2022-09-20T09:22:26.031392Z"
    }
   },
   "outputs": [],
   "source": [
    "categoricas= [\"work_type\" , \"smoking_status\"]\n",
    "categoricas"
   ]
  },
  {
   "cell_type": "code",
   "execution_count": null,
   "metadata": {
    "execution": {
     "iopub.execute_input": "2022-09-20T09:21:29.223495Z",
     "iopub.status.busy": "2022-09-20T09:21:29.223072Z",
     "iopub.status.idle": "2022-09-20T09:21:29.233316Z",
     "shell.execute_reply": "2022-09-20T09:21:29.231979Z",
     "shell.execute_reply.started": "2022-09-20T09:21:29.22346Z"
    }
   },
   "outputs": [],
   "source": [
    "df.smoking_status.value_counts()"
   ]
  },
  {
   "cell_type": "code",
   "execution_count": null,
   "metadata": {
    "execution": {
     "iopub.execute_input": "2022-09-20T09:21:09.858974Z",
     "iopub.status.busy": "2022-09-20T09:21:09.858515Z",
     "iopub.status.idle": "2022-09-20T09:21:09.871284Z",
     "shell.execute_reply": "2022-09-20T09:21:09.870379Z",
     "shell.execute_reply.started": "2022-09-20T09:21:09.858939Z"
    }
   },
   "outputs": [],
   "source": [
    "df.work_type.value_counts()"
   ]
  },
  {
   "cell_type": "code",
   "execution_count": null,
   "metadata": {
    "execution": {
     "iopub.execute_input": "2022-09-20T08:16:23.906248Z",
     "iopub.status.busy": "2022-09-20T08:16:23.90545Z",
     "iopub.status.idle": "2022-09-20T08:16:23.923953Z",
     "shell.execute_reply": "2022-09-20T08:16:23.922684Z",
     "shell.execute_reply.started": "2022-09-20T08:16:23.906202Z"
    }
   },
   "outputs": [],
   "source": [
    "df.info()"
   ]
  },
  {
   "cell_type": "code",
   "execution_count": null,
   "metadata": {
    "execution": {
     "iopub.execute_input": "2022-09-20T09:26:28.019328Z",
     "iopub.status.busy": "2022-09-20T09:26:28.018901Z",
     "iopub.status.idle": "2022-09-20T09:26:32.968413Z",
     "shell.execute_reply": "2022-09-20T09:26:32.967276Z",
     "shell.execute_reply.started": "2022-09-20T09:26:28.01928Z"
    }
   },
   "outputs": [],
   "source": [
    "sns.pairplot(df, hue='stroke', vars=[ \"age\", \"avg_glucose_level\" , \"bmi\"])  "
   ]
  },
  {
   "cell_type": "code",
   "execution_count": null,
   "metadata": {},
   "outputs": [],
   "source": [
    "#como graficar estas variables binarias? catplots?\n",
    "columns=[\"gender\", \"hypertension\", \"heart_disease\"  , \"ever_married\" , \"Residence_type\" ]"
   ]
  },
  {
   "cell_type": "code",
   "execution_count": null,
   "metadata": {},
   "outputs": [],
   "source": []
  },
  {
   "cell_type": "code",
   "execution_count": null,
   "metadata": {
    "execution": {
     "iopub.execute_input": "2022-09-20T08:38:36.144104Z",
     "iopub.status.busy": "2022-09-20T08:38:36.143582Z",
     "iopub.status.idle": "2022-09-20T08:38:36.15505Z",
     "shell.execute_reply": "2022-09-20T08:38:36.153901Z",
     "shell.execute_reply.started": "2022-09-20T08:38:36.144059Z"
    }
   },
   "outputs": [],
   "source": [
    "df[numericas].columns"
   ]
  },
  {
   "cell_type": "code",
   "execution_count": null,
   "metadata": {
    "execution": {
     "iopub.execute_input": "2022-09-20T08:59:45.120267Z",
     "iopub.status.busy": "2022-09-20T08:59:45.11979Z",
     "iopub.status.idle": "2022-09-20T08:59:45.571374Z",
     "shell.execute_reply": "2022-09-20T08:59:45.569711Z",
     "shell.execute_reply.started": "2022-09-20T08:59:45.120233Z"
    }
   },
   "outputs": [],
   "source": [
    "columns=['age', 'avg_glucose_level', 'bmi']\n",
    "q, r =divmod(len(columns), 3)\n",
    "fig, ax=plt.subplots(q, 3, figsize=(10,6))\n",
    "for i in range(0,len(columns)):\n",
    "    q, r =divmod(i, 3)\n",
    "    sns.boxplot(data=df[numericas], x=columns[i], ax=ax[q, r])\n",
    "plt.show()"
   ]
  },
  {
   "cell_type": "code",
   "execution_count": null,
   "metadata": {
    "execution": {
     "iopub.execute_input": "2022-09-20T08:56:28.985037Z",
     "iopub.status.busy": "2022-09-20T08:56:28.984569Z",
     "iopub.status.idle": "2022-09-20T08:56:29.442817Z",
     "shell.execute_reply": "2022-09-20T08:56:29.441512Z",
     "shell.execute_reply.started": "2022-09-20T08:56:28.984999Z"
    }
   },
   "outputs": [],
   "source": [
    "columns=['age', 'avg_glucose_level', 'bmi']\n",
    "q, r =divmod(len(columns), 3)\n",
    "fig, ax=plt.subplots(q, 3, figsize=(10,6))\n",
    "for i in range(0,len(columns)):\n",
    "    q, r =divmod(i, 3)\n",
    "    sns.kdeplot(data=df[numericas], x=columns[i], ax=ax[q, r])\n",
    "plt.show()"
   ]
  },
  {
   "cell_type": "code",
   "execution_count": null,
   "metadata": {},
   "outputs": [],
   "source": [
    "sns.boxplot(data=df, x=, ax=ax[q, r])"
   ]
  }
 ],
 "metadata": {
  "kernelspec": {
   "display_name": "Python 3 (ipykernel)",
   "language": "python",
   "name": "python3"
  },
  "language_info": {
   "codemirror_mode": {
    "name": "ipython",
    "version": 3
   },
   "file_extension": ".py",
   "mimetype": "text/x-python",
   "name": "python",
   "nbconvert_exporter": "python",
   "pygments_lexer": "ipython3",
   "version": "3.7.12"
  }
 },
 "nbformat": 4,
 "nbformat_minor": 4
}
